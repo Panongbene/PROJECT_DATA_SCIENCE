{
 "cells": [
  {
   "cell_type": "markdown",
   "metadata": {
    "id": "BP249cJ5l25K"
   },
   "source": [
    "# <center> Université Paris Saclay M2 Data Science </center>#\n",
    "# <center> TEXT MINING CHATBOTS </center>#\n",
    "#  NAMES: PANONGBENE JEAN MOHAMED SAWADOGO #\n",
    "### Email: amet1900@gmail.com #\n",
    "### Github: https://github.com/Panongbene #"
   ]
  },
  {
   "cell_type": "code",
   "execution_count": null,
   "metadata": {
    "colab": {
     "base_uri": "https://localhost:8080/"
    },
    "id": "_f_AECOUl25T",
    "outputId": "7853fce5-d4cb-4c25-9b54-a3c66ba9bd63"
   },
   "outputs": [
    {
     "name": "stdout",
     "output_type": "stream",
     "text": [
      "Requirement already satisfied: fasttext in /usr/local/lib/python3.6/dist-packages (0.9.2)\n",
      "Requirement already satisfied: numpy in /usr/local/lib/python3.6/dist-packages (from fasttext) (1.19.5)\n",
      "Requirement already satisfied: pybind11>=2.2 in /usr/local/lib/python3.6/dist-packages (from fasttext) (2.6.1)\n",
      "Requirement already satisfied: setuptools>=0.7.0 in /usr/local/lib/python3.6/dist-packages (from fasttext) (51.1.1)\n"
     ]
    }
   ],
   "source": [
    "import re\n",
    "import string\n",
    "! pip install fasttext \n",
    "import fasttext\n",
    "import unicodedata \n",
    "from time import time\n",
    "from nltk.corpus import stopwords\n",
    "from gensim.models import FastText\n",
    "from gensim.models import  Word2Vec"
   ]
  },
  {
   "cell_type": "code",
   "execution_count": null,
   "metadata": {
    "colab": {
     "base_uri": "https://localhost:8080/"
    },
    "id": "pXUNKSpRl25X",
    "outputId": "339f0280-b479-4df4-f82a-be27b7b63ad4"
   },
   "outputs": [
    {
     "name": "stdout",
     "output_type": "stream",
     "text": [
      "[nltk_data] Downloading package stopwords to /root/nltk_data...\n",
      "[nltk_data]   Unzipping corpora/stopwords.zip.\n"
     ]
    }
   ],
   "source": [
    "# French Stop Word\n",
    "import nltk\n",
    "nltk.download('stopwords')\n",
    "stop_words = stopwords.words('french')"
   ]
  },
  {
   "cell_type": "code",
   "execution_count": null,
   "metadata": {
    "id": "e-8y9f3_qFZo"
   },
   "outputs": [],
   "source": [
    "# Extract file directly in my drive\n",
    "#https://accounts.google.com/o/oauth2/auth?client_id=947318989803-6bn6qk8qdgf4n4g3pfee6491hc0brc4i.apps.googleusercontent.com&redirect_uri=urn%3Aietf%3Awg%3Aoauth%3A2.0%3Aoob&scope=email%20https%3A%2F%2Fwww.googleapis.com%2Fauth%2Fdocs.test%20https%3A%2F%2Fwww.googleapis.com%2Fauth%2Fdrive%20https%3A%2F%2Fwww.googleapis.com%2Fauth%2Fdrive.photos.readonly%20https%3A%2F%2Fwww.googleapis.com%2Fauth%2Fpeopleapi.readonly&response_type=code\n",
    "#from google.colab import drive\n",
    "#drive.mount(\"/content/drive/\", force_remount=True)\n",
    "\n",
    "#!ls drive/MyDrive/'Colab Notebooks'/data"
   ]
  },
  {
   "cell_type": "code",
   "execution_count": null,
   "metadata": {
    "id": "vz-jH8T_Uk2c"
   },
   "outputs": [],
   "source": [
    "# file upload data\n",
    "with open('drive/MyDrive/Colab Notebooks/data/QUAERO_FrenchPress_traindev.ospl', 'r') as f: \n",
    "        QUAERO_FrenchPress = f.readlines()\n",
    "        \n",
    "# file upload data\n",
    "with open('drive/MyDrive/Colab Notebooks/data/QUAERO_FrenchMed_traindev.ospl', 'r') as f: \n",
    "        QUAERO_FrenchMed = f.readlines()\n"
   ]
  },
  {
   "cell_type": "code",
   "execution_count": null,
   "metadata": {
    "id": "m75RbQtnl25b"
   },
   "outputs": [],
   "source": [
    "# clean word\n",
    "def clean_word(data):\n",
    "    \"\"\"This function remove all word and caracteres that we dont need\"\"\"\n",
    "    return ''.join(x for x in unicodedata.normalize('NFKD', data) if x in string.ascii_letters).lower() "
   ]
  },
  {
   "cell_type": "code",
   "execution_count": null,
   "metadata": {
    "id": "YQ9qXrl6l25c"
   },
   "outputs": [],
   "source": [
    "def build_token_word(document):\n",
    "    \"\"\"This function take a document and build a list of words\"\"\"\n",
    "    list_values = list()\n",
    "    for lines in document:\n",
    "    #words=lines.split(' ')\n",
    "        sent = re.sub(\"[^A-Za-z]+\", ' ', str(lines))\n",
    "        words_value=sent.split()\n",
    "        list_values.append(words_value)\n",
    "        \n",
    "    return list_values"
   ]
  },
  {
   "cell_type": "code",
   "execution_count": null,
   "metadata": {
    "id": "69jZHb0Tl25d"
   },
   "outputs": [],
   "source": [
    "# build model vocabulary\n",
    "#### Building CBOW wordvectors\n",
    "def training_cbow(document):\n",
    "    \"\"\"Training the cbow model\"\"\"\n",
    "    t = time()\n",
    "    # initialize\n",
    "    cbow_model = Word2Vec(min_count=1,window=2,size=100, sg = 0)\n",
    "    # build model vocabulary\n",
    "\n",
    "    tokens_list=document\n",
    "  \n",
    "    cbow_model.build_vocab(tokens_list)\n",
    "    # train the model\n",
    "    cbow_model.train(tokens_list, total_examples=cbow_model.corpus_count, epochs=30, report_delay=1)\n",
    "\n",
    "    print('Time to build CBOW model vocab: {} mins'.format(round((time() - t) / 60, 2)))\n",
    "    return cbow_model"
   ]
  },
  {
   "cell_type": "code",
   "execution_count": null,
   "metadata": {
    "id": "B40FR8ZJl25e"
   },
   "outputs": [],
   "source": [
    "def training_sg(document):\n",
    "    \"\"\"Train the skip gram model\"\"\"\n",
    "    t = time()\n",
    "    # initialize skipgram model\n",
    "    sg_model = Word2Vec(min_count=1,window=2,size=100, sg = 1,sample=5e-5, alpha=0.05, min_alpha=0.0005 )\n",
    "    # build model vocabulary\n",
    "    sg_model.build_vocab(document)\n",
    "\n",
    "    # train the model\n",
    "    sg_model.train(document, total_examples=sg_model.corpus_count, epochs=30, report_delay=1)\n",
    "\n",
    "    print('Time to build Skip gram model vocab: {} mins'.format(round((time() - t) / 60, 2)))\n",
    "    return sg_model\n",
    "  "
   ]
  },
  {
   "cell_type": "code",
   "execution_count": null,
   "metadata": {
    "id": "tsYlkmLcl25f"
   },
   "outputs": [],
   "source": [
    "def stop_word(document):\n",
    "    \"\"\"This function take a list of list of word and delete stop word\"\"\"\n",
    "    \n",
    "    for i in range(len(document)):\n",
    "        for j in document[i]:\n",
    "            if (j in stop_words) or (len(j)<=2):\n",
    "                document[i].remove(j)\n",
    "    \n",
    "    return document"
   ]
  },
  {
   "cell_type": "code",
   "execution_count": null,
   "metadata": {
    "id": "weh-DfKel25g"
   },
   "outputs": [],
   "source": [
    "# build tocken\n",
    "QUAERO_FrenchPress_tocken = stop_word(build_token_word(QUAERO_FrenchPress))\n",
    "QUAERO_FrenchMed_tocken = stop_word(build_token_word(QUAERO_FrenchMed))"
   ]
  },
  {
   "cell_type": "code",
   "execution_count": null,
   "metadata": {
    "colab": {
     "base_uri": "https://localhost:8080/"
    },
    "id": "hXX0nFeRl25i",
    "outputId": "699f1ab0-91ac-4708-9a4e-b21d523a0168"
   },
   "outputs": [
    {
     "data": {
      "text/plain": [
       "(2095463, 2320746)"
      ]
     },
     "execution_count": 45,
     "metadata": {
      "tags": []
     },
     "output_type": "execute_result"
    }
   ],
   "source": [
    "# Word 2 Vec model\n",
    "model = Word2Vec(min_count=1,size=100)\n",
    "model = Word2Vec(min_count=1)\n",
    "model.build_vocab(QUAERO_FrenchPress_tocken)  # prepare the model vocabulary\n",
    "model.train(QUAERO_FrenchPress_tocken, total_examples=model.corpus_count, epochs=3)#report_delay=1) "
   ]
  },
  {
   "cell_type": "code",
   "execution_count": null,
   "metadata": {
    "colab": {
     "base_uri": "https://localhost:8080/"
    },
    "id": "xN6dLC-5l25k",
    "outputId": "5adf0d9b-6e32-4f7e-d237-98afcd508326"
   },
   "outputs": [
    {
     "data": {
      "text/plain": [
       "[('Vannier', 0.9553535580635071),\n",
       " ('Rincquesen', 0.9530477523803711),\n",
       " ('messieurs', 0.9523866176605225),\n",
       " ('Winckler', 0.9522286653518677),\n",
       " ('Lecaplain', 0.9405015707015991),\n",
       " ('mesdames', 0.9394315481185913),\n",
       " ('bienvenue', 0.9348511099815369),\n",
       " ('Gomez', 0.9334104657173157),\n",
       " ('tentatrices', 0.9315935969352722),\n",
       " ('Rey', 0.9287653565406799)]"
      ]
     },
     "execution_count": 46,
     "metadata": {
      "tags": []
     },
     "output_type": "execute_result"
    }
   ],
   "source": [
    "model.wv.most_similar([\"bonjour\"])"
   ]
  },
  {
   "cell_type": "code",
   "execution_count": null,
   "metadata": {
    "colab": {
     "base_uri": "https://localhost:8080/"
    },
    "id": "afzuXgxLl25l",
    "outputId": "a82e4fae-6557-4519-9b8e-3bb3566d8496"
   },
   "outputs": [
    {
     "name": "stdout",
     "output_type": "stream",
     "text": [
      "Time to build CBOW model vocab: 0.74 mins\n",
      "Time to build CBOW model vocab: 0.05 mins\n"
     ]
    }
   ],
   "source": [
    "# Cbow model\n",
    "cbow_QUAERO_FrenchPress_tocken = training_cbow(QUAERO_FrenchPress_tocken)\n",
    "cbow_QUAERO_FrenchMed_tocken = training_cbow(QUAERO_FrenchMed_tocken)"
   ]
  },
  {
   "cell_type": "code",
   "execution_count": null,
   "metadata": {
    "colab": {
     "base_uri": "https://localhost:8080/"
    },
    "id": "Wfki5MaMl25n",
    "outputId": "51b0097c-63c2-43eb-e44f-482075d3e593"
   },
   "outputs": [
    {
     "name": "stdout",
     "output_type": "stream",
     "text": [
      "Time to build Skip gram model vocab: 0.85 mins\n",
      "Time to build Skip gram model vocab: 0.06 mins\n"
     ]
    }
   ],
   "source": [
    "#  skipgram model\n",
    "sg_QUAERO_FrenchPress_tocken = training_sg(QUAERO_FrenchPress_tocken)\n",
    "sg_QUAERO_FrenchMed_tocken = training_sg(QUAERO_FrenchMed_tocken)"
   ]
  },
  {
   "cell_type": "code",
   "execution_count": null,
   "metadata": {
    "colab": {
     "base_uri": "https://localhost:8080/"
    },
    "id": "kqqL_YE8l25o",
    "outputId": "3cafb9e4-1512-42ad-98aa-af2e7a86e6b5"
   },
   "outputs": [
    {
     "data": {
      "text/plain": [
       "[('geait', 0.6312866806983948),\n",
       " ('dicamenteux', 0.6190258264541626),\n",
       " ('antidouleur', 0.5728226900100708),\n",
       " ('Asilah', 0.5521117448806763),\n",
       " ('asservissement', 0.5099465847015381),\n",
       " ('dissuasion', 0.5068008303642273),\n",
       " ('ad', 0.5029745697975159),\n",
       " ('paludisme', 0.5003583431243896),\n",
       " ('individualis', 0.4930357336997986),\n",
       " ('disponibilit', 0.48680031299591064)]"
      ]
     },
     "execution_count": 49,
     "metadata": {
      "tags": []
     },
     "output_type": "execute_result"
    }
   ],
   "source": [
    "# test skip gram model\n",
    "sg_QUAERO_FrenchPress_tocken.wv.most_similar([\"traitement\"])"
   ]
  },
  {
   "cell_type": "code",
   "execution_count": null,
   "metadata": {
    "colab": {
     "base_uri": "https://localhost:8080/"
    },
    "id": "tV-OOKgxl25q",
    "outputId": "6b87b141-e59a-487c-bcb1-1fe124430e2e"
   },
   "outputs": [
    {
     "data": {
      "text/plain": [
       "[('pendant', 0.9951863288879395),\n",
       " ('arr', 0.9948455095291138),\n",
       " ('TYSABRI', 0.9946781396865845),\n",
       " ('peuvent', 0.9945305585861206),\n",
       " ('doit', 0.9943689107894897),\n",
       " ('e', 0.9942471981048584),\n",
       " ('plus', 0.9942370057106018),\n",
       " ('mois', 0.9941974878311157),\n",
       " ('pouvant', 0.9940338730812073),\n",
       " ('Tasmar', 0.9939804673194885)]"
      ]
     },
     "execution_count": 50,
     "metadata": {
      "tags": []
     },
     "output_type": "execute_result"
    }
   ],
   "source": [
    "sg_QUAERO_FrenchMed_tocken.wv.most_similar([\"traitement\"])"
   ]
  },
  {
   "cell_type": "code",
   "execution_count": null,
   "metadata": {
    "colab": {
     "base_uri": "https://localhost:8080/"
    },
    "id": "-y0M2oWyl25q",
    "outputId": "23d6453f-f4b1-46b3-ae29-f5456b9fb0b8"
   },
   "outputs": [
    {
     "data": {
      "text/plain": [
       "[('infantilis', 0.7272225022315979),\n",
       " ('infractionnistes', 0.6173020601272583),\n",
       " ('humble', 0.6091175079345703),\n",
       " ('neurologique', 0.6038421988487244),\n",
       " ('obtenez', 0.6019484400749207),\n",
       " ('surv', 0.5935162901878357),\n",
       " ('brouillage', 0.5892027616500854),\n",
       " ('signaient', 0.586911678314209),\n",
       " ('Tourcoing', 0.5844130516052246),\n",
       " ('parasitage', 0.5813284516334534)]"
      ]
     },
     "execution_count": 51,
     "metadata": {
      "tags": []
     },
     "output_type": "execute_result"
    }
   ],
   "source": [
    "sg_QUAERO_FrenchPress_tocken.wv.most_similar([\"patient\"])"
   ]
  },
  {
   "cell_type": "code",
   "execution_count": null,
   "metadata": {
    "colab": {
     "base_uri": "https://localhost:8080/"
    },
    "id": "fcLnigiDl25r",
    "outputId": "5344ff6f-df59-4c07-ca3a-bb49707ef88b"
   },
   "outputs": [
    {
     "data": {
      "text/plain": [
       "[('Montrez', 0.9966121315956116),\n",
       " ('possibles', 0.9964876770973206),\n",
       " ('montrer', 0.9964632391929626),\n",
       " ('notice', 0.9964152574539185),\n",
       " ('cette', 0.9963333606719971),\n",
       " ('alerte', 0.9962992668151855),\n",
       " ('aucun', 0.9962983131408691),\n",
       " ('survenue', 0.9962772130966187),\n",
       " ('conserviez', 0.9961314797401428),\n",
       " ('ces', 0.9960231781005859)]"
      ]
     },
     "execution_count": 52,
     "metadata": {
      "tags": []
     },
     "output_type": "execute_result"
    }
   ],
   "source": [
    "sg_QUAERO_FrenchMed_tocken.wv.most_similar([\"patient\"])"
   ]
  },
  {
   "cell_type": "code",
   "execution_count": null,
   "metadata": {
    "colab": {
     "base_uri": "https://localhost:8080/"
    },
    "id": "cdyPPUkIl25s",
    "outputId": "ea2360aa-cb68-421f-ea4b-66aeb087282c"
   },
   "outputs": [
    {
     "data": {
      "text/plain": [
       "[('grenadine', 0.6964824199676514),\n",
       " ('maillot', 0.6784029603004456),\n",
       " ('caleront', 0.6563889384269714),\n",
       " ('endossant', 0.6198890209197998),\n",
       " ('femelles', 0.5915443897247314),\n",
       " ('peignoir', 0.5867910981178284),\n",
       " ('choire', 0.5840634703636169),\n",
       " ('franchie', 0.5811959505081177),\n",
       " ('Pena', 0.5647939443588257),\n",
       " ('empar', 0.5572044849395752)]"
      ]
     },
     "execution_count": 53,
     "metadata": {
      "tags": []
     },
     "output_type": "execute_result"
    }
   ],
   "source": [
    "sg_QUAERO_FrenchPress_tocken.wv.most_similar([\"jaune\"])"
   ]
  },
  {
   "cell_type": "code",
   "execution_count": null,
   "metadata": {
    "colab": {
     "base_uri": "https://localhost:8080/"
    },
    "id": "_yQx1DZUl25s",
    "outputId": "0d9ddf4f-f9f0-43a3-d543-613cd94adc3d"
   },
   "outputs": [
    {
     "data": {
      "text/plain": [
       "[('thylcellulose', 0.9980731010437012),\n",
       " ('Ethylcellulose', 0.9980403184890747),\n",
       " ('orange', 0.9979244470596313),\n",
       " ('Oxyde', 0.9978638291358948),\n",
       " ('fer', 0.9978249669075012),\n",
       " ('dioxyde', 0.9978059530258179),\n",
       " ('Jaunisse', 0.9977802634239197),\n",
       " ('mosa', 0.9977531433105469),\n",
       " ('oxyde', 0.9977342486381531),\n",
       " ('Psammechinus', 0.9976934194564819)]"
      ]
     },
     "execution_count": 54,
     "metadata": {
      "tags": []
     },
     "output_type": "execute_result"
    }
   ],
   "source": [
    "sg_QUAERO_FrenchMed_tocken.wv.most_similar([\"jaune\"])"
   ]
  },
  {
   "cell_type": "code",
   "execution_count": null,
   "metadata": {
    "id": "K-RQ96HJl25u"
   },
   "outputs": [],
   "source": [
    "dimension =100\n",
    "fasttext_QUAERO_FrenchMed_tocken = FastText(QUAERO_FrenchMed_tocken, size=dimension, window=2, min_count=1, workers=4, sg=0)\n",
    "fasttext_QUAERO_FrenchPress_tocken = FastText(QUAERO_FrenchPress_tocken, size=dimension, window=2, min_count=1, workers=4, sg=0)"
   ]
  },
  {
   "cell_type": "code",
   "execution_count": null,
   "metadata": {
    "colab": {
     "base_uri": "https://localhost:8080/"
    },
    "id": "djtH7_1El25u",
    "outputId": "e96fd11e-21ba-47c8-8073-e11d9ce0fb1b"
   },
   "outputs": [
    {
     "data": {
      "text/plain": [
       "[('traitements', 0.9999978542327881),\n",
       " ('Traitement', 0.9999977350234985),\n",
       " ('Taaitement', 0.999997079372406),\n",
       " ('allaitement', 0.9999966621398926),\n",
       " ('Allaitement', 0.9999962449073792),\n",
       " ('vitement', 0.9999956488609314),\n",
       " ('Traitements', 0.9999952912330627),\n",
       " ('troitement', 0.999995231628418),\n",
       " ('lentement', 0.9999949932098389),\n",
       " ('partement', 0.9999945163726807)]"
      ]
     },
     "execution_count": 56,
     "metadata": {
      "tags": []
     },
     "output_type": "execute_result"
    }
   ],
   "source": [
    "fasttext_QUAERO_FrenchMed_tocken.wv.most_similar([\"traitement\"])"
   ]
  },
  {
   "cell_type": "code",
   "execution_count": null,
   "metadata": {
    "colab": {
     "base_uri": "https://localhost:8080/"
    },
    "id": "EpCZDewMl25u",
    "outputId": "1e0a4515-b34e-4f10-d52e-11febed8c4e5"
   },
   "outputs": [
    {
     "data": {
      "text/plain": [
       "[('vachement', 0.9860249757766724),\n",
       " ('chement', 0.9853428602218628),\n",
       " ('doucement', 0.9844817519187927),\n",
       " ('chichement', 0.9844160079956055),\n",
       " ('chauffement', 0.9841684699058533),\n",
       " ('troitement', 0.9833940863609314),\n",
       " ('chirement', 0.982938826084137),\n",
       " ('sagement', 0.9827824234962463),\n",
       " ('chouement', 0.9827768802642822),\n",
       " ('sauvagement', 0.9823540449142456)]"
      ]
     },
     "execution_count": 57,
     "metadata": {
      "tags": []
     },
     "output_type": "execute_result"
    }
   ],
   "source": [
    "fasttext_QUAERO_FrenchPress_tocken.wv.most_similar([\"traitement\"])"
   ]
  },
  {
   "cell_type": "code",
   "execution_count": null,
   "metadata": {
    "colab": {
     "base_uri": "https://localhost:8080/"
    },
    "id": "GvIm17W5l25v",
    "outputId": "07739e76-0658-4f5e-e9b1-b0dccb87c34e"
   },
   "outputs": [
    {
     "data": {
      "text/plain": [
       "[('antithrombotiques', 0.9999393820762634),\n",
       " ('sanctions', 0.999937891960144),\n",
       " ('instrumentale', 0.9999378323554993),\n",
       " ('mentionn', 0.9999376535415649),\n",
       " ('antithrombotique', 0.9999369382858276),\n",
       " ('consommation', 0.9999363422393799),\n",
       " ('bronchographiques', 0.9999361634254456),\n",
       " ('niques', 0.9999361038208008),\n",
       " ('cropsiques', 0.9999358654022217),\n",
       " ('Actions', 0.9999354481697083)]"
      ]
     },
     "execution_count": 58,
     "metadata": {
      "tags": []
     },
     "output_type": "execute_result"
    }
   ],
   "source": [
    "fasttext_QUAERO_FrenchMed_tocken.wv.most_similar([\"jaune\"])"
   ]
  },
  {
   "cell_type": "code",
   "execution_count": null,
   "metadata": {
    "colab": {
     "base_uri": "https://localhost:8080/"
    },
    "id": "oD00awZHl25v",
    "outputId": "1a91f6fa-4327-446a-b7f2-b3eab5bb86b0"
   },
   "outputs": [
    {
     "data": {
      "text/plain": [
       "[('Neptune', 0.9911396503448486),\n",
       " ('lune', 0.9889525771141052),\n",
       " ('Jeune', 0.9860552549362183),\n",
       " ('brune', 0.9858811497688293),\n",
       " ('dune', 0.9845155477523804),\n",
       " ('youne', 0.9813197255134583),\n",
       " ('lagune', 0.9727632999420166),\n",
       " ('aune', 0.9643239974975586),\n",
       " ('Tribune', 0.9534322023391724),\n",
       " ('doune', 0.952678382396698)]"
      ]
     },
     "execution_count": 59,
     "metadata": {
      "tags": []
     },
     "output_type": "execute_result"
    }
   ],
   "source": [
    "fasttext_QUAERO_FrenchPress_tocken.wv.most_similar([\"jaune\"])"
   ]
  },
  {
   "cell_type": "code",
   "execution_count": null,
   "metadata": {
    "colab": {
     "base_uri": "https://localhost:8080/"
    },
    "id": "vSbajg_Ll25v",
    "outputId": "6161c1b9-8fdb-4ab3-87e6-5b4b5d277b71"
   },
   "outputs": [
    {
     "data": {
      "text/plain": [
       "[('iso', 0.9635076522827148),\n",
       " ('guid', 0.9608737230300903),\n",
       " ('ANASTOMOSES', 0.9606253504753113),\n",
       " ('Typho', 0.9602170586585999),\n",
       " ('isol', 0.9601095914840698),\n",
       " ('Emil', 0.9599283933639526),\n",
       " ('THYROUIDE', 0.9598098993301392),\n",
       " ('isolee', 0.9597572088241577),\n",
       " ('Cas', 0.9596304893493652),\n",
       " ('Bignami', 0.9595298767089844)]"
      ]
     },
     "execution_count": 60,
     "metadata": {
      "tags": []
     },
     "output_type": "execute_result"
    }
   ],
   "source": [
    "fasttext_QUAERO_FrenchMed_tocken.wv.most_similar([\"Picasso\"])"
   ]
  },
  {
   "cell_type": "code",
   "execution_count": null,
   "metadata": {
    "colab": {
     "base_uri": "https://localhost:8080/"
    },
    "id": "qHbP-mONl25w",
    "outputId": "a99b1eb1-3120-454f-97d6-385dcff3fa82"
   },
   "outputs": [
    {
     "data": {
      "text/plain": [
       "[('Mustansariya', 0.9673168063163757),\n",
       " ('Ricardo', 0.9648245573043823),\n",
       " ('Essouiri', 0.9638747572898865),\n",
       " ('Dassault', 0.9624403715133667),\n",
       " ('Istanbul', 0.9621859788894653),\n",
       " ('Vassili', 0.9618462324142456),\n",
       " ('Ouganda', 0.961167573928833),\n",
       " ('Atangana', 0.9604490995407104),\n",
       " ('Kassim', 0.960124135017395),\n",
       " ('Golinsky', 0.959934651851654)]"
      ]
     },
     "execution_count": 61,
     "metadata": {
      "tags": []
     },
     "output_type": "execute_result"
    }
   ],
   "source": [
    "fasttext_QUAERO_FrenchPress_tocken.wv.most_similar([\"Picasso\"])"
   ]
  },
  {
   "cell_type": "code",
   "execution_count": null,
   "metadata": {
    "id": "BOY2tz9qDHK0"
   },
   "outputs": [],
   "source": []
  }
 ],
 "metadata": {
  "colab": {
   "collapsed_sections": [],
   "name": "tp1_text_mining_chatbots.ipynb",
   "provenance": []
  },
  "kernelspec": {
   "display_name": "Python 3",
   "language": "python",
   "name": "python3"
  },
  "language_info": {
   "codemirror_mode": {
    "name": "ipython",
    "version": 3
   },
   "file_extension": ".py",
   "mimetype": "text/x-python",
   "name": "python",
   "nbconvert_exporter": "python",
   "pygments_lexer": "ipython3",
   "version": "3.7.6"
  }
 },
 "nbformat": 4,
 "nbformat_minor": 1
}
