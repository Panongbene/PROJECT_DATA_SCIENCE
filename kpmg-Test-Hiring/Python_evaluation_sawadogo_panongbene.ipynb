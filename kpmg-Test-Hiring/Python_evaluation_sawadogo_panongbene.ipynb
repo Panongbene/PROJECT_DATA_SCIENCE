{
 "cells": [
  {
   "cell_type": "markdown",
   "metadata": {},
   "source": [
    "### Dans chaque bloc de code ci-dessous, compléter la (ou les) ligne(s) contenant la mention <span style='color: red; font-style: italic;'>'<compléter>'</span>, de manière à obtenir le résultat attendu (<i>Expected output</i>)"
   ]
  },
  {
   "cell_type": "markdown",
   "metadata": {},
   "source": [
    "### Q-1"
   ]
  },
  {
   "cell_type": "code",
   "execution_count": 1,
   "metadata": {},
   "outputs": [
    {
     "data": {
      "text/plain": [
       "('Earth', 12742)"
      ]
     },
     "execution_count": 1,
     "metadata": {},
     "output_type": "execute_result"
    }
   ],
   "source": [
    "class Planet:\n",
    "    def __init__(self, name, diameter_km):\n",
    "        self.name = name\n",
    "        self.diameter_km = diameter_km\n",
    "        \n",
    "e = Planet('Earth', 12742)# Fait par moi\n",
    "\n",
    "e.name, e.diameter_km"
   ]
  },
  {
   "cell_type": "raw",
   "metadata": {},
   "source": [
    "Expected output:\n",
    "\n",
    "('Earth', 12742)"
   ]
  },
  {
   "cell_type": "markdown",
   "metadata": {},
   "source": [
    "### Q-2"
   ]
  },
  {
   "cell_type": "code",
   "execution_count": 2,
   "metadata": {},
   "outputs": [
    {
     "data": {
      "text/plain": [
       "1"
      ]
     },
     "execution_count": 2,
     "metadata": {},
     "output_type": "execute_result"
    }
   ],
   "source": [
    "lst = [1, 2, 3, 4]\n",
    "\n",
    "lst_iterator = iter(lst)# Fait par moi\n",
    "\n",
    "next(lst_iterator)"
   ]
  },
  {
   "cell_type": "raw",
   "metadata": {},
   "source": [
    "Expected output\n",
    "\n",
    "1"
   ]
  },
  {
   "cell_type": "markdown",
   "metadata": {},
   "source": [
    "### Q-3"
   ]
  },
  {
   "cell_type": "code",
   "execution_count": 3,
   "metadata": {},
   "outputs": [
    {
     "name": "stdout",
     "output_type": "stream",
     "text": [
      "153\n"
     ]
    }
   ],
   "source": [
    "def add_many(*args):# Fait par moi\n",
    "    s = 0\n",
    "    for n in args:\n",
    "        s += n\n",
    "    print(s)\n",
    "\n",
    "add_many(100, 50, 3)"
   ]
  },
  {
   "cell_type": "raw",
   "metadata": {},
   "source": [
    "Expected output:\n",
    "\n",
    "153"
   ]
  },
  {
   "cell_type": "markdown",
   "metadata": {},
   "source": [
    "### Q-4"
   ]
  },
  {
   "cell_type": "code",
   "execution_count": 4,
   "metadata": {},
   "outputs": [
    {
     "data": {
      "text/plain": [
       "'astronomical body'"
      ]
     },
     "execution_count": 4,
     "metadata": {},
     "output_type": "execute_result"
    }
   ],
   "source": [
    "class Planet:\n",
    "    family = 'astronomical body'# Fait par moi\n",
    "    \n",
    "    def __init__(self, name):\n",
    "        self.name = name\n",
    "\n",
    "n = Planet('Neptune')\n",
    "\n",
    "n.family"
   ]
  },
  {
   "cell_type": "raw",
   "metadata": {},
   "source": [
    "Expected output:\n",
    "\n",
    "'astronomical body'"
   ]
  },
  {
   "cell_type": "markdown",
   "metadata": {},
   "source": [
    "### Q-5"
   ]
  },
  {
   "cell_type": "code",
   "execution_count": 5,
   "metadata": {},
   "outputs": [
    {
     "data": {
      "text/plain": [
       "{0: 0, 1: 10, 2: 20, 3: 30, 4: 40}"
      ]
     },
     "execution_count": 5,
     "metadata": {},
     "output_type": "execute_result"
    }
   ],
   "source": [
    "dict_gen = {num:num*10 for num in range(5) }# Fait par moi\n",
    "\n",
    "dict_gen"
   ]
  },
  {
   "cell_type": "raw",
   "metadata": {},
   "source": [
    "Expected output:\n",
    "\n",
    "{0: 0, 1: 10, 2: 20, 3: 30, 4: 40}"
   ]
  },
  {
   "cell_type": "markdown",
   "metadata": {},
   "source": [
    "### Q-6"
   ]
  },
  {
   "cell_type": "code",
   "execution_count": 6,
   "metadata": {},
   "outputs": [
    {
     "data": {
      "text/plain": [
       "'meow!'"
      ]
     },
     "execution_count": 6,
     "metadata": {},
     "output_type": "execute_result"
    }
   ],
   "source": [
    "class Cat:\n",
    "    def meow(self):# Fait par moi\n",
    "        return 'meow!'\n",
    "\n",
    "s = Cat()\n",
    "\n",
    "s.meow()"
   ]
  },
  {
   "cell_type": "raw",
   "metadata": {},
   "source": [
    "Expected output:\n",
    "\n",
    "'meow!'"
   ]
  },
  {
   "cell_type": "markdown",
   "metadata": {},
   "source": [
    "### Q-7"
   ]
  },
  {
   "cell_type": "code",
   "execution_count": 7,
   "metadata": {},
   "outputs": [
    {
     "data": {
      "text/plain": [
       "{1, 2, 3}"
      ]
     },
     "execution_count": 7,
     "metadata": {},
     "output_type": "execute_result"
    }
   ],
   "source": [
    "x = (1, 2, 3, 2)\n",
    "\n",
    "s = set(x)# Fait par moi\n",
    "\n",
    "s"
   ]
  },
  {
   "cell_type": "raw",
   "metadata": {},
   "source": [
    "Expected output:\n",
    "\n",
    "{1, 2, 3}"
   ]
  },
  {
   "cell_type": "markdown",
   "metadata": {},
   "source": [
    "### Q-8"
   ]
  },
  {
   "cell_type": "code",
   "execution_count": 8,
   "metadata": {},
   "outputs": [
    {
     "name": "stdout",
     "output_type": "stream",
     "text": [
      "   a   b\n",
      "0  1  10\n",
      "1  2  20\n"
     ]
    }
   ],
   "source": [
    "import pandas as pd\n",
    "\n",
    "a = ('a', [1, 2])\n",
    "b = ('b', [10, 20])\n",
    "\n",
    "data = dict([a, b])# Fait par moi\n",
    "\n",
    "print(pd.DataFrame(data))"
   ]
  },
  {
   "cell_type": "raw",
   "metadata": {},
   "source": [
    "Expected output:\n",
    "\n",
    "   a   b\n",
    "0  1  10\n",
    "1  2  20"
   ]
  },
  {
   "cell_type": "markdown",
   "metadata": {},
   "source": [
    "### Q-9"
   ]
  },
  {
   "cell_type": "code",
   "execution_count": 9,
   "metadata": {},
   "outputs": [
    {
     "data": {
      "text/plain": [
       "9"
      ]
     },
     "execution_count": 9,
     "metadata": {},
     "output_type": "execute_result"
    }
   ],
   "source": [
    "f = lambda x,y: x * y # Fait par moi\n",
    "\n",
    "f(3,3)"
   ]
  },
  {
   "cell_type": "raw",
   "metadata": {},
   "source": [
    "Expected output:\n",
    "\n",
    "9"
   ]
  },
  {
   "cell_type": "markdown",
   "metadata": {},
   "source": [
    "### Q-10"
   ]
  },
  {
   "cell_type": "code",
   "execution_count": 10,
   "metadata": {},
   "outputs": [
    {
     "data": {
      "text/plain": [
       "{'a': ['x', 'y'], 'b': [1, 2]}"
      ]
     },
     "execution_count": 10,
     "metadata": {},
     "output_type": "execute_result"
    }
   ],
   "source": [
    "list_keys = ['a', 'b']\n",
    "list_values = [['x', 'y'], [1, 2]]\n",
    "\n",
    "dict(zip(list_keys, list_values))# Fait par moi"
   ]
  },
  {
   "cell_type": "raw",
   "metadata": {},
   "source": [
    "Expected output:\n",
    "\n",
    "{'a': ['x', 'y'], 'b': [1, 2]}"
   ]
  },
  {
   "cell_type": "markdown",
   "metadata": {},
   "source": [
    "### Load packages"
   ]
  },
  {
   "cell_type": "code",
   "execution_count": 11,
   "metadata": {},
   "outputs": [],
   "source": [
    "import pandas as pd\n",
    "import numpy as np\n",
    "import datetime as dt"
   ]
  },
  {
   "cell_type": "markdown",
   "metadata": {},
   "source": [
    "### Q-11"
   ]
  },
  {
   "cell_type": "code",
   "execution_count": 12,
   "metadata": {},
   "outputs": [
    {
     "name": "stdout",
     "output_type": "stream",
     "text": [
      "        owner language      repo  stars  commits\n",
      "0  pandas-dev   python    pandas  17800      133\n",
      "1   tidyverse        R     dplyr   2800       52\n",
      "2   tidyverse        R   ggplot2   3500       59\n",
      "3      has2k1   python  plotnine   1450       38\n"
     ]
    }
   ],
   "source": [
    "df = pd.read_csv(\"data/owners.csv\")# Fait par moi\n",
    "print(df)"
   ]
  },
  {
   "cell_type": "raw",
   "metadata": {},
   "source": [
    "Expected output:\n",
    "\n",
    "        owner language      repo  stars  commits\n",
    "0  pandas-dev   python    pandas  17800      133\n",
    "1   tidyverse        R     dplyr   2800       52\n",
    "2   tidyverse        R   ggplot2   3500       59\n",
    "3      has2k1   python  plotnine   1450       38"
   ]
  },
  {
   "cell_type": "markdown",
   "metadata": {},
   "source": [
    "### Q-12"
   ]
  },
  {
   "cell_type": "code",
   "execution_count": 13,
   "metadata": {},
   "outputs": [
    {
     "name": "stdout",
     "output_type": "stream",
     "text": [
      "       repo\n",
      "0    pandas\n",
      "1     dplyr\n",
      "2   ggplot2\n",
      "3  plotnine\n"
     ]
    }
   ],
   "source": [
    "print(df.iloc[:,2:3])# Fait par moi"
   ]
  },
  {
   "cell_type": "raw",
   "metadata": {},
   "source": [
    "Expected output:\n",
    "\n",
    "       repo\n",
    "0    pandas\n",
    "1     dplyr\n",
    "2   ggplot2\n",
    "3  plotnine"
   ]
  },
  {
   "cell_type": "markdown",
   "metadata": {},
   "source": [
    "### Q-13"
   ]
  },
  {
   "cell_type": "code",
   "execution_count": 14,
   "metadata": {},
   "outputs": [
    {
     "data": {
      "text/plain": [
       "language\n",
       "R          6300\n",
       "python    19250\n",
       "Name: stars, dtype: int64"
      ]
     },
     "execution_count": 14,
     "metadata": {},
     "output_type": "execute_result"
    }
   ],
   "source": [
    "df.groupby('language').sum()['stars']# Fait par moi"
   ]
  },
  {
   "cell_type": "raw",
   "metadata": {},
   "source": [
    "Expected output:\n",
    "\n",
    "language\n",
    "R          6300\n",
    "python    19250\n",
    "Name: stars, dtype: int64"
   ]
  },
  {
   "cell_type": "markdown",
   "metadata": {},
   "source": [
    "### Q-14"
   ]
  },
  {
   "cell_type": "code",
   "execution_count": 15,
   "metadata": {},
   "outputs": [
    {
     "name": "stdout",
     "output_type": "stream",
     "text": [
      "         stars               commits          \n",
      "           min    max    sum     min  max  sum\n",
      "language                                      \n",
      "R         2800   3500   6300      52   59  111\n",
      "python    1450  17800  19250      38  133  171\n"
     ]
    }
   ],
   "source": [
    "print(df.groupby(\"language\")[['stars','commits']].agg(['min', 'max', 'sum']))# Fait par moi"
   ]
  },
  {
   "cell_type": "raw",
   "metadata": {},
   "source": [
    "Expected output:\n",
    "\n",
    "         stars               commits          \n",
    "           min    max    sum     min  max  sum\n",
    "language                                      \n",
    "R         2800   3500   6300      52   59  111\n",
    "python    1450  17800  19250      38  133  171"
   ]
  },
  {
   "cell_type": "markdown",
   "metadata": {},
   "source": [
    "### Q-15"
   ]
  },
  {
   "cell_type": "code",
   "execution_count": 16,
   "metadata": {},
   "outputs": [
    {
     "name": "stdout",
     "output_type": "stream",
     "text": [
      "        owner language    repo  stars  commits\n",
      "0  pandas-dev   python  pandas  17800      133\n"
     ]
    }
   ],
   "source": [
    "print(df[(df['language']==\"python\") & (df['stars']>5000)])# Fait par moi"
   ]
  },
  {
   "cell_type": "raw",
   "metadata": {},
   "source": [
    "Expected output:\n",
    "\n",
    "        owner language    repo  stars  commits\n",
    "0  pandas-dev   python  pandas  17800      133"
   ]
  },
  {
   "cell_type": "markdown",
   "metadata": {},
   "source": [
    "### Q-16"
   ]
  },
  {
   "cell_type": "code",
   "execution_count": 17,
   "metadata": {},
   "outputs": [
    {
     "data": {
      "text/html": [
       "<div>\n",
       "<style scoped>\n",
       "    .dataframe tbody tr th:only-of-type {\n",
       "        vertical-align: middle;\n",
       "    }\n",
       "\n",
       "    .dataframe tbody tr th {\n",
       "        vertical-align: top;\n",
       "    }\n",
       "\n",
       "    .dataframe thead th {\n",
       "        text-align: right;\n",
       "    }\n",
       "</style>\n",
       "<table border=\"1\" class=\"dataframe\">\n",
       "  <thead>\n",
       "    <tr style=\"text-align: right;\">\n",
       "      <th></th>\n",
       "      <th>medal</th>\n",
       "      <th>n</th>\n",
       "      <th>team</th>\n",
       "    </tr>\n",
       "  </thead>\n",
       "  <tbody>\n",
       "    <tr>\n",
       "      <th>0</th>\n",
       "      <td>Gold</td>\n",
       "      <td>1</td>\n",
       "      <td>A</td>\n",
       "    </tr>\n",
       "    <tr>\n",
       "      <th>1</th>\n",
       "      <td>Silver</td>\n",
       "      <td>1</td>\n",
       "      <td>A</td>\n",
       "    </tr>\n",
       "    <tr>\n",
       "      <th>2</th>\n",
       "      <td>Bronze</td>\n",
       "      <td>1</td>\n",
       "      <td>B</td>\n",
       "    </tr>\n",
       "    <tr>\n",
       "      <th>3</th>\n",
       "      <td>Gold</td>\n",
       "      <td>1</td>\n",
       "      <td>B</td>\n",
       "    </tr>\n",
       "    <tr>\n",
       "      <th>4</th>\n",
       "      <td>Silver</td>\n",
       "      <td>1</td>\n",
       "      <td>B</td>\n",
       "    </tr>\n",
       "    <tr>\n",
       "      <th>5</th>\n",
       "      <td>Silver</td>\n",
       "      <td>1</td>\n",
       "      <td>A</td>\n",
       "    </tr>\n",
       "  </tbody>\n",
       "</table>\n",
       "</div>"
      ],
      "text/plain": [
       "    medal  n team\n",
       "0    Gold  1    A\n",
       "1  Silver  1    A\n",
       "2  Bronze  1    B\n",
       "3    Gold  1    B\n",
       "4  Silver  1    B\n",
       "5  Silver  1    A"
      ]
     },
     "execution_count": 17,
     "metadata": {},
     "output_type": "execute_result"
    }
   ],
   "source": [
    "medals = pd.read_csv('data/medals.csv')\n",
    "medals"
   ]
  },
  {
   "cell_type": "code",
   "execution_count": 18,
   "metadata": {},
   "outputs": [
    {
     "data": {
      "text/html": [
       "<div>\n",
       "<style scoped>\n",
       "    .dataframe tbody tr th:only-of-type {\n",
       "        vertical-align: middle;\n",
       "    }\n",
       "\n",
       "    .dataframe tbody tr th {\n",
       "        vertical-align: top;\n",
       "    }\n",
       "\n",
       "    .dataframe thead th {\n",
       "        text-align: right;\n",
       "    }\n",
       "</style>\n",
       "<table border=\"1\" class=\"dataframe\">\n",
       "  <thead>\n",
       "    <tr style=\"text-align: right;\">\n",
       "      <th>medal</th>\n",
       "      <th>Bronze</th>\n",
       "      <th>Gold</th>\n",
       "      <th>Silver</th>\n",
       "    </tr>\n",
       "    <tr>\n",
       "      <th>team</th>\n",
       "      <th></th>\n",
       "      <th></th>\n",
       "      <th></th>\n",
       "    </tr>\n",
       "  </thead>\n",
       "  <tbody>\n",
       "    <tr>\n",
       "      <th>A</th>\n",
       "      <td>NaN</td>\n",
       "      <td>1.0</td>\n",
       "      <td>2.0</td>\n",
       "    </tr>\n",
       "    <tr>\n",
       "      <th>B</th>\n",
       "      <td>1.0</td>\n",
       "      <td>1.0</td>\n",
       "      <td>1.0</td>\n",
       "    </tr>\n",
       "  </tbody>\n",
       "</table>\n",
       "</div>"
      ],
      "text/plain": [
       "medal  Bronze  Gold  Silver\n",
       "team                       \n",
       "A         NaN   1.0     2.0\n",
       "B         1.0   1.0     1.0"
      ]
     },
     "execution_count": 18,
     "metadata": {},
     "output_type": "execute_result"
    }
   ],
   "source": [
    "medals.pivot_table(\n",
    "    values = 'n',\n",
    "    index = ['team'],\n",
    "    columns = 'medal',\n",
    "    aggfunc = np.sum\n",
    ")# Fait par moi"
   ]
  },
  {
   "cell_type": "raw",
   "metadata": {},
   "source": [
    "Expected output:\n",
    "\n",
    "medal  Bronze  Gold  Silver\n",
    "team                       \n",
    "A         NaN   1.0     2.0\n",
    "B         1.0   1.0     1.0"
   ]
  },
  {
   "cell_type": "markdown",
   "metadata": {},
   "source": [
    "### Q-17"
   ]
  },
  {
   "cell_type": "code",
   "execution_count": 19,
   "metadata": {},
   "outputs": [
    {
     "data": {
      "text/plain": [
       "0     APPLE\n",
       "1    BANANA\n",
       "2     APPLE\n",
       "3    BANANA\n",
       "dtype: object"
      ]
     },
     "execution_count": 19,
     "metadata": {},
     "output_type": "execute_result"
    }
   ],
   "source": [
    "data = pd.Series(['apple','banana','apple', 'banana'])\n",
    "data.str.upper()# Fait par moi"
   ]
  },
  {
   "cell_type": "raw",
   "metadata": {},
   "source": [
    "Expected output:\n",
    "\n",
    "0     APPLE\n",
    "1    BANANA\n",
    "2     APPLE\n",
    "3    BANANA\n",
    "dtype: object"
   ]
  },
  {
   "cell_type": "markdown",
   "metadata": {},
   "source": [
    "### Q-18"
   ]
  },
  {
   "cell_type": "code",
   "execution_count": 20,
   "metadata": {},
   "outputs": [
    {
     "data": {
      "text/plain": [
       "0    False\n",
       "1     True\n",
       "2    False\n",
       "3     True\n",
       "dtype: bool"
      ]
     },
     "execution_count": 20,
     "metadata": {},
     "output_type": "execute_result"
    }
   ],
   "source": [
    "data.str.match('ba')# Fait par moi"
   ]
  },
  {
   "cell_type": "raw",
   "metadata": {},
   "source": [
    "Expected output:\n",
    "\n",
    "0    False\n",
    "1     True\n",
    "2    False\n",
    "3     True\n",
    "dtype: bool"
   ]
  },
  {
   "cell_type": "markdown",
   "metadata": {},
   "source": [
    "### Q-19"
   ]
  },
  {
   "cell_type": "code",
   "execution_count": 21,
   "metadata": {},
   "outputs": [
    {
     "data": {
      "text/html": [
       "<div>\n",
       "<style scoped>\n",
       "    .dataframe tbody tr th:only-of-type {\n",
       "        vertical-align: middle;\n",
       "    }\n",
       "\n",
       "    .dataframe tbody tr th {\n",
       "        vertical-align: top;\n",
       "    }\n",
       "\n",
       "    .dataframe thead th {\n",
       "        text-align: right;\n",
       "    }\n",
       "</style>\n",
       "<table border=\"1\" class=\"dataframe\">\n",
       "  <thead>\n",
       "    <tr style=\"text-align: right;\">\n",
       "      <th></th>\n",
       "      <th>eggs</th>\n",
       "      <th>salt</th>\n",
       "    </tr>\n",
       "  </thead>\n",
       "  <tbody>\n",
       "    <tr>\n",
       "      <th>jan</th>\n",
       "      <td>47</td>\n",
       "      <td>12.0</td>\n",
       "    </tr>\n",
       "    <tr>\n",
       "      <th>feb</th>\n",
       "      <td>110</td>\n",
       "      <td>50.0</td>\n",
       "    </tr>\n",
       "    <tr>\n",
       "      <th>mar</th>\n",
       "      <td>221</td>\n",
       "      <td>89.0</td>\n",
       "    </tr>\n",
       "  </tbody>\n",
       "</table>\n",
       "</div>"
      ],
      "text/plain": [
       "     eggs  salt\n",
       "jan    47  12.0\n",
       "feb   110  50.0\n",
       "mar   221  89.0"
      ]
     },
     "execution_count": 21,
     "metadata": {},
     "output_type": "execute_result"
    }
   ],
   "source": [
    "df = pd.DataFrame({'eggs': [47, 110, 221], 'salt': [12.0, 50.0, 89.0]}, index = ['jan', 'feb', 'mar'])\n",
    "df"
   ]
  },
  {
   "cell_type": "code",
   "execution_count": 22,
   "metadata": {},
   "outputs": [
    {
     "name": "stdout",
     "output_type": "stream",
     "text": [
      "     eggs  salt salt level\n",
      "jan    47  12.0        low\n",
      "feb   110  50.0        low\n",
      "mar   221  89.0       high\n"
     ]
    }
   ],
   "source": [
    "salt_classes = {True: 'high', False: 'low'}\n",
    "df['salt level'] = (df['salt'] > 80).replace(salt_classes) # Fait par moi\n",
    "print(df)"
   ]
  },
  {
   "cell_type": "raw",
   "metadata": {},
   "source": [
    "Expected output:\n",
    "\n",
    "     eggs  salt salt level\n",
    "jan    47  12.0        low\n",
    "feb   110  50.0        low\n",
    "mar   221  89.0       high"
   ]
  },
  {
   "cell_type": "markdown",
   "metadata": {},
   "source": [
    "### Q-20"
   ]
  },
  {
   "cell_type": "code",
   "execution_count": 23,
   "metadata": {},
   "outputs": [
    {
     "name": "stdout",
     "output_type": "stream",
     "text": [
      "2010-10-05 13:30:02\n"
     ]
    }
   ],
   "source": [
    "start = dt.datetime(2010, 10, 5, 13, 30, 2) # Fait par moi\n",
    "print(start)"
   ]
  },
  {
   "cell_type": "raw",
   "metadata": {},
   "source": [
    "Expected output:\n",
    "\n",
    "2010-10-05 13:30:02"
   ]
  },
  {
   "cell_type": "markdown",
   "metadata": {},
   "source": [
    "### Q-21"
   ]
  },
  {
   "cell_type": "code",
   "execution_count": 24,
   "metadata": {},
   "outputs": [
    {
     "data": {
      "text/plain": [
       "0   2017-01-12\n",
       "1   2018-03-09\n",
       "2   2019-11-23\n",
       "dtype: datetime64[ns]"
      ]
     },
     "execution_count": 24,
     "metadata": {},
     "output_type": "execute_result"
    }
   ],
   "source": [
    "x = pd.Series([\"12/01/2017\", \"09/03/2018\", \"23/11/2019\"]) \n",
    "\n",
    "pd.to_datetime(x, dayfirst=True) # Fait par moi"
   ]
  },
  {
   "cell_type": "raw",
   "metadata": {},
   "source": [
    "Expected output:\n",
    "\n",
    "0   2017-01-12\n",
    "1   2018-03-09\n",
    "2   2019-11-23\n",
    "dtype: datetime64[ns]"
   ]
  },
  {
   "cell_type": "markdown",
   "metadata": {},
   "source": [
    "### Q-22"
   ]
  },
  {
   "cell_type": "code",
   "execution_count": 25,
   "metadata": {},
   "outputs": [
    {
     "data": {
      "text/html": [
       "<div>\n",
       "<style scoped>\n",
       "    .dataframe tbody tr th:only-of-type {\n",
       "        vertical-align: middle;\n",
       "    }\n",
       "\n",
       "    .dataframe tbody tr th {\n",
       "        vertical-align: top;\n",
       "    }\n",
       "\n",
       "    .dataframe thead th {\n",
       "        text-align: right;\n",
       "    }\n",
       "</style>\n",
       "<table border=\"1\" class=\"dataframe\">\n",
       "  <thead>\n",
       "    <tr style=\"text-align: right;\">\n",
       "      <th></th>\n",
       "      <th>eggs</th>\n",
       "      <th>salt</th>\n",
       "    </tr>\n",
       "  </thead>\n",
       "  <tbody>\n",
       "    <tr>\n",
       "      <th>0</th>\n",
       "      <td>10</td>\n",
       "      <td>120</td>\n",
       "    </tr>\n",
       "    <tr>\n",
       "      <th>1</th>\n",
       "      <td>20</td>\n",
       "      <td>240</td>\n",
       "    </tr>\n",
       "  </tbody>\n",
       "</table>\n",
       "</div>"
      ],
      "text/plain": [
       "   eggs  salt\n",
       "0    10   120\n",
       "1    20   240"
      ]
     },
     "execution_count": 25,
     "metadata": {},
     "output_type": "execute_result"
    }
   ],
   "source": [
    "eggs = pd.DataFrame({'eggs': [10, 20]})\n",
    "salt = pd.DataFrame({'salt': [120, 240]})\n",
    "pd.concat([eggs, salt], axis=1) # Fait par moi"
   ]
  },
  {
   "cell_type": "raw",
   "metadata": {},
   "source": [
    "Expected output:\n",
    "\n",
    "   eggs  salt\n",
    "0    10   120\n",
    "1    20   240"
   ]
  },
  {
   "cell_type": "markdown",
   "metadata": {},
   "source": [
    "### Q-23"
   ]
  },
  {
   "cell_type": "code",
   "execution_count": 26,
   "metadata": {},
   "outputs": [
    {
     "data": {
      "text/html": [
       "<div>\n",
       "<style scoped>\n",
       "    .dataframe tbody tr th:only-of-type {\n",
       "        vertical-align: middle;\n",
       "    }\n",
       "\n",
       "    .dataframe tbody tr th {\n",
       "        vertical-align: top;\n",
       "    }\n",
       "\n",
       "    .dataframe thead th {\n",
       "        text-align: right;\n",
       "    }\n",
       "</style>\n",
       "<table border=\"1\" class=\"dataframe\">\n",
       "  <thead>\n",
       "    <tr style=\"text-align: right;\">\n",
       "      <th></th>\n",
       "      <th>month</th>\n",
       "      <th>eggs</th>\n",
       "    </tr>\n",
       "  </thead>\n",
       "  <tbody>\n",
       "    <tr>\n",
       "      <th>0</th>\n",
       "      <td>jan</td>\n",
       "      <td>10</td>\n",
       "    </tr>\n",
       "    <tr>\n",
       "      <th>1</th>\n",
       "      <td>feb</td>\n",
       "      <td>12</td>\n",
       "    </tr>\n",
       "    <tr>\n",
       "      <th>2</th>\n",
       "      <td>mar</td>\n",
       "      <td>15</td>\n",
       "    </tr>\n",
       "    <tr>\n",
       "      <th>3</th>\n",
       "      <td>apr</td>\n",
       "      <td>18</td>\n",
       "    </tr>\n",
       "  </tbody>\n",
       "</table>\n",
       "</div>"
      ],
      "text/plain": [
       "  month  eggs\n",
       "0   jan    10\n",
       "1   feb    12\n",
       "2   mar    15\n",
       "3   apr    18"
      ]
     },
     "execution_count": 26,
     "metadata": {},
     "output_type": "execute_result"
    }
   ],
   "source": [
    "df_1 = pd.DataFrame({'month': ['jan', 'feb'], 'eggs': [10, 12]})\n",
    "df_2 = pd.DataFrame({'month': ['mar', 'apr'], 'eggs': [15, 18]})\n",
    "df_1.append(df_2,ignore_index=True) # Fait par moi"
   ]
  },
  {
   "cell_type": "raw",
   "metadata": {},
   "source": [
    "Expected output:\n",
    "\n",
    "  month  eggs\n",
    "0   jan    10\n",
    "1   feb    12\n",
    "2   mar    15\n",
    "3   apr    18"
   ]
  },
  {
   "cell_type": "markdown",
   "metadata": {},
   "source": [
    "### Q-24"
   ]
  },
  {
   "cell_type": "code",
   "execution_count": 27,
   "metadata": {},
   "outputs": [
    {
     "data": {
      "text/html": [
       "<div>\n",
       "<style scoped>\n",
       "    .dataframe tbody tr th:only-of-type {\n",
       "        vertical-align: middle;\n",
       "    }\n",
       "\n",
       "    .dataframe tbody tr th {\n",
       "        vertical-align: top;\n",
       "    }\n",
       "\n",
       "    .dataframe thead th {\n",
       "        text-align: right;\n",
       "    }\n",
       "</style>\n",
       "<table border=\"1\" class=\"dataframe\">\n",
       "  <thead>\n",
       "    <tr style=\"text-align: right;\">\n",
       "      <th></th>\n",
       "      <th>month</th>\n",
       "      <th>eggs</th>\n",
       "      <th>salt</th>\n",
       "    </tr>\n",
       "  </thead>\n",
       "  <tbody>\n",
       "    <tr>\n",
       "      <th>0</th>\n",
       "      <td>jan</td>\n",
       "      <td>10.0</td>\n",
       "      <td>152.0</td>\n",
       "    </tr>\n",
       "    <tr>\n",
       "      <th>1</th>\n",
       "      <td>feb</td>\n",
       "      <td>12.0</td>\n",
       "      <td>NaN</td>\n",
       "    </tr>\n",
       "    <tr>\n",
       "      <th>2</th>\n",
       "      <td>mar</td>\n",
       "      <td>NaN</td>\n",
       "      <td>187.0</td>\n",
       "    </tr>\n",
       "  </tbody>\n",
       "</table>\n",
       "</div>"
      ],
      "text/plain": [
       "  month  eggs   salt\n",
       "0   jan  10.0  152.0\n",
       "1   feb  12.0    NaN\n",
       "2   mar   NaN  187.0"
      ]
     },
     "execution_count": 27,
     "metadata": {},
     "output_type": "execute_result"
    }
   ],
   "source": [
    "df_1 = pd.DataFrame({'month': ['jan', 'feb'], 'eggs': [10, 12]})\n",
    "df_2 = pd.DataFrame({'month': ['jan', 'mar'], 'salt': [152, 187]})\n",
    "df_1.merge(df_2,how='outer',on='month') # Fait par moi"
   ]
  },
  {
   "cell_type": "raw",
   "metadata": {},
   "source": [
    "Expected ouput:\n",
    "\n",
    "  month  eggs   salt\n",
    "0   jan  10.0  152.0\n",
    "1   feb  12.0    NaN\n",
    "2   mar   NaN  187.0"
   ]
  },
  {
   "cell_type": "markdown",
   "metadata": {},
   "source": [
    "### Q-25"
   ]
  },
  {
   "cell_type": "code",
   "execution_count": 28,
   "metadata": {},
   "outputs": [
    {
     "data": {
      "text/html": [
       "<div>\n",
       "<style scoped>\n",
       "    .dataframe tbody tr th:only-of-type {\n",
       "        vertical-align: middle;\n",
       "    }\n",
       "\n",
       "    .dataframe tbody tr th {\n",
       "        vertical-align: top;\n",
       "    }\n",
       "\n",
       "    .dataframe thead th {\n",
       "        text-align: right;\n",
       "    }\n",
       "</style>\n",
       "<table border=\"1\" class=\"dataframe\">\n",
       "  <thead>\n",
       "    <tr style=\"text-align: right;\">\n",
       "      <th></th>\n",
       "      <th>month</th>\n",
       "      <th>eggs</th>\n",
       "      <th>salt</th>\n",
       "    </tr>\n",
       "  </thead>\n",
       "  <tbody>\n",
       "    <tr>\n",
       "      <th>0</th>\n",
       "      <td>jan</td>\n",
       "      <td>10</td>\n",
       "      <td>152.0</td>\n",
       "    </tr>\n",
       "    <tr>\n",
       "      <th>1</th>\n",
       "      <td>feb</td>\n",
       "      <td>12</td>\n",
       "      <td>NaN</td>\n",
       "    </tr>\n",
       "  </tbody>\n",
       "</table>\n",
       "</div>"
      ],
      "text/plain": [
       "  month  eggs   salt\n",
       "0   jan    10  152.0\n",
       "1   feb    12    NaN"
      ]
     },
     "execution_count": 28,
     "metadata": {},
     "output_type": "execute_result"
    }
   ],
   "source": [
    "df_1.merge(df_2,how='left',on='month') # Fait par moi"
   ]
  },
  {
   "cell_type": "raw",
   "metadata": {},
   "source": [
    "Expected output:\n",
    "    \n",
    "  month  eggs   salt\n",
    "0   jan    10  152.0\n",
    "1   feb    12    NaN"
   ]
  },
  {
   "cell_type": "markdown",
   "metadata": {},
   "source": [
    "### Q-26"
   ]
  },
  {
   "cell_type": "code",
   "execution_count": 29,
   "metadata": {},
   "outputs": [
    {
     "data": {
      "text/html": [
       "<div>\n",
       "<style scoped>\n",
       "    .dataframe tbody tr th:only-of-type {\n",
       "        vertical-align: middle;\n",
       "    }\n",
       "\n",
       "    .dataframe tbody tr th {\n",
       "        vertical-align: top;\n",
       "    }\n",
       "\n",
       "    .dataframe thead th {\n",
       "        text-align: right;\n",
       "    }\n",
       "</style>\n",
       "<table border=\"1\" class=\"dataframe\">\n",
       "  <thead>\n",
       "    <tr style=\"text-align: right;\">\n",
       "      <th></th>\n",
       "      <th>month</th>\n",
       "      <th>eggs</th>\n",
       "      <th>salt</th>\n",
       "    </tr>\n",
       "  </thead>\n",
       "  <tbody>\n",
       "    <tr>\n",
       "      <th>0</th>\n",
       "      <td>jan</td>\n",
       "      <td>10</td>\n",
       "      <td>152</td>\n",
       "    </tr>\n",
       "  </tbody>\n",
       "</table>\n",
       "</div>"
      ],
      "text/plain": [
       "  month  eggs  salt\n",
       "0   jan    10   152"
      ]
     },
     "execution_count": 29,
     "metadata": {},
     "output_type": "execute_result"
    }
   ],
   "source": [
    "df_1.merge(df_2)# Fait par moi"
   ]
  },
  {
   "cell_type": "raw",
   "metadata": {},
   "source": [
    "Expected output:\n",
    "    \n",
    "  month  eggs  salt\n",
    "0   jan    10   152"
   ]
  },
  {
   "cell_type": "markdown",
   "metadata": {},
   "source": [
    "### Q-27"
   ]
  },
  {
   "cell_type": "code",
   "execution_count": 30,
   "metadata": {},
   "outputs": [
    {
     "data": {
      "text/html": [
       "<div>\n",
       "<style scoped>\n",
       "    .dataframe tbody tr th:only-of-type {\n",
       "        vertical-align: middle;\n",
       "    }\n",
       "\n",
       "    .dataframe tbody tr th {\n",
       "        vertical-align: top;\n",
       "    }\n",
       "\n",
       "    .dataframe thead th {\n",
       "        text-align: right;\n",
       "    }\n",
       "</style>\n",
       "<table border=\"1\" class=\"dataframe\">\n",
       "  <thead>\n",
       "    <tr style=\"text-align: right;\">\n",
       "      <th></th>\n",
       "      <th>id</th>\n",
       "      <th>score</th>\n",
       "    </tr>\n",
       "  </thead>\n",
       "  <tbody>\n",
       "    <tr>\n",
       "      <th>0</th>\n",
       "      <td>7134</td>\n",
       "      <td>75.0</td>\n",
       "    </tr>\n",
       "    <tr>\n",
       "      <th>1</th>\n",
       "      <td>4020</td>\n",
       "      <td>94.0</td>\n",
       "    </tr>\n",
       "    <tr>\n",
       "      <th>2</th>\n",
       "      <td>6757</td>\n",
       "      <td>NaN</td>\n",
       "    </tr>\n",
       "    <tr>\n",
       "      <th>3</th>\n",
       "      <td>2561</td>\n",
       "      <td>91.0</td>\n",
       "    </tr>\n",
       "    <tr>\n",
       "      <th>4</th>\n",
       "      <td>6875</td>\n",
       "      <td>NaN</td>\n",
       "    </tr>\n",
       "  </tbody>\n",
       "</table>\n",
       "</div>"
      ],
      "text/plain": [
       "     id  score\n",
       "0  7134   75.0\n",
       "1  4020   94.0\n",
       "2  6757    NaN\n",
       "3  2561   91.0\n",
       "4  6875    NaN"
      ]
     },
     "execution_count": 30,
     "metadata": {},
     "output_type": "execute_result"
    }
   ],
   "source": [
    "df = pd.read_csv('data/df_NA_1.csv')\n",
    "df"
   ]
  },
  {
   "cell_type": "code",
   "execution_count": 31,
   "metadata": {},
   "outputs": [
    {
     "data": {
      "text/html": [
       "<div>\n",
       "<style scoped>\n",
       "    .dataframe tbody tr th:only-of-type {\n",
       "        vertical-align: middle;\n",
       "    }\n",
       "\n",
       "    .dataframe tbody tr th {\n",
       "        vertical-align: top;\n",
       "    }\n",
       "\n",
       "    .dataframe thead th {\n",
       "        text-align: right;\n",
       "    }\n",
       "</style>\n",
       "<table border=\"1\" class=\"dataframe\">\n",
       "  <thead>\n",
       "    <tr style=\"text-align: right;\">\n",
       "      <th></th>\n",
       "      <th>id</th>\n",
       "      <th>score</th>\n",
       "    </tr>\n",
       "  </thead>\n",
       "  <tbody>\n",
       "    <tr>\n",
       "      <th>0</th>\n",
       "      <td>7134</td>\n",
       "      <td>75.0</td>\n",
       "    </tr>\n",
       "    <tr>\n",
       "      <th>1</th>\n",
       "      <td>4020</td>\n",
       "      <td>94.0</td>\n",
       "    </tr>\n",
       "    <tr>\n",
       "      <th>2</th>\n",
       "      <td>6757</td>\n",
       "      <td>80.0</td>\n",
       "    </tr>\n",
       "    <tr>\n",
       "      <th>3</th>\n",
       "      <td>2561</td>\n",
       "      <td>91.0</td>\n",
       "    </tr>\n",
       "    <tr>\n",
       "      <th>4</th>\n",
       "      <td>6875</td>\n",
       "      <td>80.0</td>\n",
       "    </tr>\n",
       "  </tbody>\n",
       "</table>\n",
       "</div>"
      ],
      "text/plain": [
       "     id  score\n",
       "0  7134   75.0\n",
       "1  4020   94.0\n",
       "2  6757   80.0\n",
       "3  2561   91.0\n",
       "4  6875   80.0"
      ]
     },
     "execution_count": 31,
     "metadata": {},
     "output_type": "execute_result"
    }
   ],
   "source": [
    "df.fillna(80)# Fait par moi"
   ]
  },
  {
   "cell_type": "raw",
   "metadata": {},
   "source": [
    "Expected output:\n",
    "\n",
    "     id  score\n",
    "0  7134   75.0\n",
    "1  4020   94.0\n",
    "2  6757   80.0\n",
    "3  2561   91.0\n",
    "4  6875   80.0"
   ]
  },
  {
   "cell_type": "markdown",
   "metadata": {},
   "source": [
    "### Q-28"
   ]
  },
  {
   "cell_type": "code",
   "execution_count": 32,
   "metadata": {},
   "outputs": [
    {
     "data": {
      "text/html": [
       "<div>\n",
       "<style scoped>\n",
       "    .dataframe tbody tr th:only-of-type {\n",
       "        vertical-align: middle;\n",
       "    }\n",
       "\n",
       "    .dataframe tbody tr th {\n",
       "        vertical-align: top;\n",
       "    }\n",
       "\n",
       "    .dataframe thead th {\n",
       "        text-align: right;\n",
       "    }\n",
       "</style>\n",
       "<table border=\"1\" class=\"dataframe\">\n",
       "  <thead>\n",
       "    <tr style=\"text-align: right;\">\n",
       "      <th></th>\n",
       "      <th>Australia</th>\n",
       "      <th>Spain</th>\n",
       "      <th>France</th>\n",
       "      <th>Italy</th>\n",
       "    </tr>\n",
       "  </thead>\n",
       "  <tbody>\n",
       "    <tr>\n",
       "      <th>0</th>\n",
       "      <td>24.6</td>\n",
       "      <td>46.7</td>\n",
       "      <td>67.0</td>\n",
       "      <td>60.6</td>\n",
       "    </tr>\n",
       "  </tbody>\n",
       "</table>\n",
       "</div>"
      ],
      "text/plain": [
       "   Australia  Spain  France  Italy\n",
       "0       24.6   46.7    67.0   60.6"
      ]
     },
     "execution_count": 32,
     "metadata": {},
     "output_type": "execute_result"
    }
   ],
   "source": [
    "keys = ['Australia', 'Spain', 'France', 'Italy']\n",
    "values = [24.6, 46.7, 67.0, 60.6]\n",
    "df = pd.DataFrame(dict(zip(keys, values)), index=[0])\n",
    "df"
   ]
  },
  {
   "cell_type": "code",
   "execution_count": 33,
   "metadata": {},
   "outputs": [
    {
     "data": {
      "text/html": [
       "<div>\n",
       "<style scoped>\n",
       "    .dataframe tbody tr th:only-of-type {\n",
       "        vertical-align: middle;\n",
       "    }\n",
       "\n",
       "    .dataframe tbody tr th {\n",
       "        vertical-align: top;\n",
       "    }\n",
       "\n",
       "    .dataframe thead th {\n",
       "        text-align: right;\n",
       "    }\n",
       "</style>\n",
       "<table border=\"1\" class=\"dataframe\">\n",
       "  <thead>\n",
       "    <tr style=\"text-align: right;\">\n",
       "      <th></th>\n",
       "      <th>country</th>\n",
       "      <th>population</th>\n",
       "    </tr>\n",
       "  </thead>\n",
       "  <tbody>\n",
       "    <tr>\n",
       "      <th>0</th>\n",
       "      <td>Australia</td>\n",
       "      <td>24.6</td>\n",
       "    </tr>\n",
       "    <tr>\n",
       "      <th>1</th>\n",
       "      <td>Spain</td>\n",
       "      <td>46.7</td>\n",
       "    </tr>\n",
       "    <tr>\n",
       "      <th>2</th>\n",
       "      <td>France</td>\n",
       "      <td>67.0</td>\n",
       "    </tr>\n",
       "    <tr>\n",
       "      <th>3</th>\n",
       "      <td>Italy</td>\n",
       "      <td>60.6</td>\n",
       "    </tr>\n",
       "  </tbody>\n",
       "</table>\n",
       "</div>"
      ],
      "text/plain": [
       "     country  population\n",
       "0  Australia        24.6\n",
       "1      Spain        46.7\n",
       "2     France        67.0\n",
       "3      Italy        60.6"
      ]
     },
     "execution_count": 33,
     "metadata": {},
     "output_type": "execute_result"
    }
   ],
   "source": [
    "pd.melt(df,var_name='country', value_name='population')# Fait par moi"
   ]
  },
  {
   "cell_type": "raw",
   "metadata": {},
   "source": [
    "Expected output:\n",
    "\n",
    "     country  population\n",
    "0  Australia        24.6\n",
    "1      Spain        46.7\n",
    "2     France        67.0\n",
    "3      Italy        60.6"
   ]
  },
  {
   "cell_type": "markdown",
   "metadata": {},
   "source": [
    "### Q-29"
   ]
  },
  {
   "cell_type": "code",
   "execution_count": 34,
   "metadata": {},
   "outputs": [
    {
     "data": {
      "text/html": [
       "<div>\n",
       "<style scoped>\n",
       "    .dataframe tbody tr th:only-of-type {\n",
       "        vertical-align: middle;\n",
       "    }\n",
       "\n",
       "    .dataframe tbody tr th {\n",
       "        vertical-align: top;\n",
       "    }\n",
       "\n",
       "    .dataframe thead th {\n",
       "        text-align: right;\n",
       "    }\n",
       "</style>\n",
       "<table border=\"1\" class=\"dataframe\">\n",
       "  <thead>\n",
       "    <tr style=\"text-align: right;\">\n",
       "      <th></th>\n",
       "      <th>first_name</th>\n",
       "      <th>last_name</th>\n",
       "    </tr>\n",
       "  </thead>\n",
       "  <tbody>\n",
       "    <tr>\n",
       "      <th>0</th>\n",
       "      <td>Roger</td>\n",
       "      <td>Federer</td>\n",
       "    </tr>\n",
       "    <tr>\n",
       "      <th>1</th>\n",
       "      <td>Rafael</td>\n",
       "      <td>Nadal</td>\n",
       "    </tr>\n",
       "    <tr>\n",
       "      <th>2</th>\n",
       "      <td>Novak</td>\n",
       "      <td>Djokovic</td>\n",
       "    </tr>\n",
       "  </tbody>\n",
       "</table>\n",
       "</div>"
      ],
      "text/plain": [
       "  first_name last_name\n",
       "0      Roger   Federer\n",
       "1     Rafael     Nadal\n",
       "2      Novak  Djokovic"
      ]
     },
     "execution_count": 34,
     "metadata": {},
     "output_type": "execute_result"
    }
   ],
   "source": [
    "keys = ['first_name', 'last_name']\n",
    "values = [['Roger', 'Rafael', 'Novak'], ['Federer', 'Nadal', 'Djokovic']]\n",
    "df = pd.DataFrame(dict(zip(keys, values)))\n",
    "df"
   ]
  },
  {
   "cell_type": "code",
   "execution_count": 35,
   "metadata": {},
   "outputs": [
    {
     "name": "stdout",
     "output_type": "stream",
     "text": [
      "  first_name last_name       full_name\n",
      "0      Roger   Federer   Roger Federer\n",
      "1     Rafael     Nadal    Rafael Nadal\n",
      "2      Novak  Djokovic  Novak Djokovic\n"
     ]
    }
   ],
   "source": [
    "df['full_name'] = df['first_name'].str.cat(df['last_name'],sep=' ')# Fait par moi\n",
    "print(df)"
   ]
  },
  {
   "cell_type": "raw",
   "metadata": {},
   "source": [
    "Expected output:\n",
    "\n",
    "  first_name last_name       full_name\n",
    "0      Roger   Federer   Roger Federer\n",
    "1     Rafael     Nadal    Rafael Nadal\n",
    "2      Novak  Djokovic  Novak Djokovic"
   ]
  },
  {
   "cell_type": "markdown",
   "metadata": {},
   "source": [
    "### Q-30"
   ]
  },
  {
   "cell_type": "code",
   "execution_count": 36,
   "metadata": {},
   "outputs": [
    {
     "data": {
      "text/html": [
       "<div>\n",
       "<style scoped>\n",
       "    .dataframe tbody tr th:only-of-type {\n",
       "        vertical-align: middle;\n",
       "    }\n",
       "\n",
       "    .dataframe tbody tr th {\n",
       "        vertical-align: top;\n",
       "    }\n",
       "\n",
       "    .dataframe thead th {\n",
       "        text-align: right;\n",
       "    }\n",
       "</style>\n",
       "<table border=\"1\" class=\"dataframe\">\n",
       "  <thead>\n",
       "    <tr style=\"text-align: right;\">\n",
       "      <th></th>\n",
       "      <th>0</th>\n",
       "      <th>1</th>\n",
       "    </tr>\n",
       "  </thead>\n",
       "  <tbody>\n",
       "    <tr>\n",
       "      <th>0</th>\n",
       "      <td>Roger</td>\n",
       "      <td>Federer</td>\n",
       "    </tr>\n",
       "    <tr>\n",
       "      <th>1</th>\n",
       "      <td>Rafael</td>\n",
       "      <td>Nadal</td>\n",
       "    </tr>\n",
       "    <tr>\n",
       "      <th>2</th>\n",
       "      <td>Novak</td>\n",
       "      <td>Djokovic</td>\n",
       "    </tr>\n",
       "  </tbody>\n",
       "</table>\n",
       "</div>"
      ],
      "text/plain": [
       "        0         1\n",
       "0   Roger   Federer\n",
       "1  Rafael     Nadal\n",
       "2   Novak  Djokovic"
      ]
     },
     "execution_count": 36,
     "metadata": {},
     "output_type": "execute_result"
    }
   ],
   "source": [
    "df.full_name.str.split(' ', expand=True)# Fait par moi"
   ]
  },
  {
   "cell_type": "raw",
   "metadata": {},
   "source": [
    "Expected output:\n",
    "    \n",
    "        0         1\n",
    "0   Roger   Federer\n",
    "1  Rafael     Nadal\n",
    "2   Novak  Djokovic"
   ]
  },
  {
   "cell_type": "markdown",
   "metadata": {},
   "source": [
    "<p style='text-align: center; font-weight: 900; font-size: 30px'>----------------------------------------</p>\n",
    "<p style='text-align: center; font-weight: 900; font-size: 30px'>Machine Learning basics</p>\n",
    "<p style='text-align: center; font-weight: 900; font-size: 30px'>----------------------------------------</p>"
   ]
  },
  {
   "cell_type": "markdown",
   "metadata": {},
   "source": [
    "### Load packages"
   ]
  },
  {
   "cell_type": "code",
   "execution_count": 37,
   "metadata": {},
   "outputs": [],
   "source": [
    "import pandas as pd\n",
    "import numpy as np\n",
    "import matplotlib.pyplot as plt\n",
    "from sklearn import linear_model as lm\n",
    "from sklearn.model_selection import train_test_split\n",
    "\n",
    "%matplotlib inline"
   ]
  },
  {
   "cell_type": "code",
   "execution_count": 38,
   "metadata": {},
   "outputs": [],
   "source": [
    "df = pd.read_csv('data/linear_reg_data.csv')\n",
    "x = np.array(df.x).reshape(-1, 1)\n",
    "y = np.array(df.y)"
   ]
  },
  {
   "cell_type": "markdown",
   "metadata": {},
   "source": [
    "### Q-31 : Construire un scatter plot "
   ]
  },
  {
   "cell_type": "code",
   "execution_count": 39,
   "metadata": {},
   "outputs": [
    {
     "data": {
      "image/png": "[encoded data removed]",
      "text/plain": [
       "<Figure size 432x288 with 1 Axes>"
      ]
     },
     "metadata": {
      "needs_background": "light"
     },
     "output_type": "display_data"
    }
   ],
   "source": [
    "plt.scatter(x, y)\n",
    "#-------------------------# Fait par moi\n",
    "plt.xlabel('x')\n",
    "plt.ylabel('y')\n",
    "plt.title('Scatter plot')\n",
    "#-------------------------\n",
    "plt.show()"
   ]
  },
  {
   "cell_type": "markdown",
   "metadata": {},
   "source": [
    "#### Expected output:\n",
    "<img src='figures/lin_reg_0.png?1'>"
   ]
  },
  {
   "cell_type": "markdown",
   "metadata": {},
   "source": [
    "### Q-32 : Construire des données d'apprentissage et test (conserver les proportions par défaut)"
   ]
  },
  {
   "cell_type": "code",
   "execution_count": 40,
   "metadata": {},
   "outputs": [],
   "source": [
    "x_train, x_test, y_train, y_test = train_test_split(x, y, random_state=42) # Fait par moi"
   ]
  },
  {
   "cell_type": "markdown",
   "metadata": {},
   "source": [
    "### Q-33 : initialiser et entrainer un modèle de régression linéaire sur les données d'apprentissage"
   ]
  },
  {
   "cell_type": "code",
   "execution_count": 41,
   "metadata": {},
   "outputs": [
    {
     "data": {
      "text/plain": [
       "LinearRegression(copy_X=True, fit_intercept=True, n_jobs=None, normalize=False)"
      ]
     },
     "execution_count": 41,
     "metadata": {},
     "output_type": "execute_result"
    }
   ],
   "source": [
    "lin_reg = lm.LinearRegression()\n",
    "lin_reg.fit(x_train, y_train) # Fait par moi"
   ]
  },
  {
   "cell_type": "markdown",
   "metadata": {},
   "source": [
    "### Q-34 : renvoyer le coefficient de détermination de la régression"
   ]
  },
  {
   "cell_type": "code",
   "execution_count": 42,
   "metadata": {},
   "outputs": [
    {
     "data": {
      "text/plain": [
       "0.8936534721832838"
      ]
     },
     "execution_count": 42,
     "metadata": {},
     "output_type": "execute_result"
    }
   ],
   "source": [
    "lin_reg.score(x_test, y_test) # Fait par moi"
   ]
  },
  {
   "cell_type": "raw",
   "metadata": {},
   "source": [
    "Expected output:\n",
    "\n",
    "0.893653472183284"
   ]
  },
  {
   "cell_type": "markdown",
   "metadata": {},
   "source": [
    "### Q-35 : implémenter unr fonction RMSE() qui renvoie la moyenne des écarts quadratiques"
   ]
  },
  {
   "cell_type": "code",
   "execution_count": 43,
   "metadata": {},
   "outputs": [
    {
     "data": {
      "text/plain": [
       "2.031173231666371"
      ]
     },
     "execution_count": 43,
     "metadata": {},
     "output_type": "execute_result"
    }
   ],
   "source": [
    "fitted = lin_reg.predict(x_test)# Fait par moi\n",
    "\n",
    "def RMSE(obs, fitted):\n",
    "    \"\"\"Compute the RMSE, given the observed and fitted values\"\"\"\n",
    "    return np.sqrt(np.sum((obs-fitted)**2)/len(obs))# Fait par moi\n",
    "    pass\n",
    "\n",
    "RMSE(y_test, fitted)"
   ]
  },
  {
   "cell_type": "raw",
   "metadata": {},
   "source": [
    "Expected output:\n",
    "\n",
    "2.0311732316663704"
   ]
  },
  {
   "cell_type": "markdown",
   "metadata": {},
   "source": [
    "### Q-36 : renvoyer l'ordonnée à l'origine (intercept) et la pente de la droite de régression"
   ]
  },
  {
   "cell_type": "code",
   "execution_count": 44,
   "metadata": {},
   "outputs": [
    {
     "name": "stdout",
     "output_type": "stream",
     "text": [
      "y-intercept: 0.183\n",
      "slope: 1.963\n"
     ]
    }
   ],
   "source": [
    "print('y-intercept: %.3f' % lin_reg.intercept_)# Fait par moi\n",
    "print('slope: %.3f' % lin_reg.coef_)# Fait par moi"
   ]
  },
  {
   "cell_type": "markdown",
   "metadata": {},
   "source": [
    "### Q-37 : représenter le nuage de points et la droite de régression"
   ]
  },
  {
   "cell_type": "code",
   "execution_count": 45,
   "metadata": {},
   "outputs": [
    {
     "data": {
      "image/png": "[encoded data removed]",
      "text/plain": [
       "<Figure size 432x288 with 1 Axes>"
      ]
     },
     "metadata": {
      "needs_background": "light"
     },
     "output_type": "display_data"
    }
   ],
   "source": [
    "# ------------------------------------- Fait par moi\n",
    "kx=np.linspace(-8,11,2)\n",
    "plt.plot(kx,lin_reg.coef_*kx+lin_reg.intercept_, label= 'reg line', color='red')\n",
    "plt.scatter(x, y, label='observations')\n",
    "plt.legend()\n",
    "plt.xlabel('x')\n",
    "plt.ylabel('y')\n",
    "plt.title('Scatter plot')\n",
    "#---------------------------------------\n",
    "plt.show()"
   ]
  },
  {
   "cell_type": "markdown",
   "metadata": {},
   "source": [
    "#### Expected output:\n",
    "<img src='figures/lin_reg_1.png?1'>"
   ]
  },
  {
   "cell_type": "markdown",
   "metadata": {},
   "source": [
    "### Lecture des données"
   ]
  },
  {
   "cell_type": "code",
   "execution_count": 46,
   "metadata": {},
   "outputs": [
    {
     "data": {
      "text/html": [
       "<div>\n",
       "<style scoped>\n",
       "    .dataframe tbody tr th:only-of-type {\n",
       "        vertical-align: middle;\n",
       "    }\n",
       "\n",
       "    .dataframe tbody tr th {\n",
       "        vertical-align: top;\n",
       "    }\n",
       "\n",
       "    .dataframe thead th {\n",
       "        text-align: right;\n",
       "    }\n",
       "</style>\n",
       "<table border=\"1\" class=\"dataframe\">\n",
       "  <thead>\n",
       "    <tr style=\"text-align: right;\">\n",
       "      <th></th>\n",
       "      <th>x</th>\n",
       "      <th>y</th>\n",
       "    </tr>\n",
       "  </thead>\n",
       "  <tbody>\n",
       "    <tr>\n",
       "      <th>0</th>\n",
       "      <td>-1.503286</td>\n",
       "      <td>1</td>\n",
       "    </tr>\n",
       "    <tr>\n",
       "      <th>1</th>\n",
       "      <td>-2.138264</td>\n",
       "      <td>0</td>\n",
       "    </tr>\n",
       "    <tr>\n",
       "      <th>2</th>\n",
       "      <td>-1.352311</td>\n",
       "      <td>1</td>\n",
       "    </tr>\n",
       "    <tr>\n",
       "      <th>3</th>\n",
       "      <td>-0.476970</td>\n",
       "      <td>1</td>\n",
       "    </tr>\n",
       "    <tr>\n",
       "      <th>4</th>\n",
       "      <td>-2.234153</td>\n",
       "      <td>1</td>\n",
       "    </tr>\n",
       "  </tbody>\n",
       "</table>\n",
       "</div>"
      ],
      "text/plain": [
       "          x  y\n",
       "0 -1.503286  1\n",
       "1 -2.138264  0\n",
       "2 -1.352311  1\n",
       "3 -0.476970  1\n",
       "4 -2.234153  1"
      ]
     },
     "execution_count": 46,
     "metadata": {},
     "output_type": "execute_result"
    }
   ],
   "source": [
    "df = pd.read_csv('data/logistic_reg_data.csv')\n",
    "df.head()"
   ]
  },
  {
   "cell_type": "markdown",
   "metadata": {},
   "source": [
    "### Q-38 : Assigner les colonnes df.x et df.y aux variables x et y, respectivement"
   ]
  },
  {
   "cell_type": "code",
   "execution_count": 47,
   "metadata": {},
   "outputs": [],
   "source": [
    "x = df['x'].values.reshape(-1, 1) # Fait par moi\n",
    "y = df['y'].values # Fait par moi"
   ]
  },
  {
   "cell_type": "markdown",
   "metadata": {},
   "source": [
    "### Q-39 : représenter les données"
   ]
  },
  {
   "cell_type": "code",
   "execution_count": 48,
   "metadata": {},
   "outputs": [
    {
     "data": {
      "image/png": "[encoded data removed]",
      "text/plain": [
       "<Figure size 432x288 with 1 Axes>"
      ]
     },
     "metadata": {
      "needs_background": "light"
     },
     "output_type": "display_data"
    }
   ],
   "source": [
    "# ------------------------------------- Fait par moi\n",
    "plt.scatter(x, y)\n",
    "plt.xlabel('x')\n",
    "plt.ylabel('Responses')\n",
    "plt.title('Responses')\n",
    "plt.show()\n",
    "#---------------------------------------"
   ]
  },
  {
   "cell_type": "markdown",
   "metadata": {},
   "source": [
    "#### Expected output:\n",
    "<img src='figures/log_reg_0.png?1'>"
   ]
  },
  {
   "cell_type": "markdown",
   "metadata": {},
   "source": [
    "### Q-39 : Construire des données d'apprentissage et de test (garder les proportions pas défaut)"
   ]
  },
  {
   "cell_type": "code",
   "execution_count": 49,
   "metadata": {},
   "outputs": [],
   "source": [
    "x_train, x_test, y_train, y_test = train_test_split(x, y, random_state=42) # Fait par moi"
   ]
  },
  {
   "cell_type": "markdown",
   "metadata": {},
   "source": [
    "### Q-40 : Initialier et entrainer le modèle sur les données d'apprentissage"
   ]
  },
  {
   "cell_type": "code",
   "execution_count": 50,
   "metadata": {},
   "outputs": [
    {
     "data": {
      "text/plain": [
       "LogisticRegression(C=1.0, class_weight=None, dual=False, fit_intercept=True,\n",
       "                   intercept_scaling=1, l1_ratio=None, max_iter=100,\n",
       "                   multi_class='auto', n_jobs=None, penalty='l2',\n",
       "                   random_state=None, solver='lbfgs', tol=0.0001, verbose=0,\n",
       "                   warm_start=False)"
      ]
     },
     "execution_count": 50,
     "metadata": {},
     "output_type": "execute_result"
    }
   ],
   "source": [
    "log_reg = lm.LogisticRegression()\n",
    "log_reg.fit(x_train, y_train) # Fait par moi"
   ]
  },
  {
   "cell_type": "markdown",
   "metadata": {},
   "source": [
    "### Q-41  : renvoyer la performance du modèle (accuracy)"
   ]
  },
  {
   "cell_type": "code",
   "execution_count": 51,
   "metadata": {},
   "outputs": [
    {
     "data": {
      "text/plain": [
       "0.72"
      ]
     },
     "execution_count": 51,
     "metadata": {},
     "output_type": "execute_result"
    }
   ],
   "source": [
    "log_reg.score(x_test, y_test) # Fait par moi"
   ]
  },
  {
   "cell_type": "raw",
   "metadata": {},
   "source": [
    "Expected output:\n",
    "\n",
    "0.72"
   ]
  },
  {
   "cell_type": "markdown",
   "metadata": {},
   "source": [
    "### Q-42 : Contruire la table de contingence de la performance sur les prédictions (obs vs. predit)"
   ]
  },
  {
   "cell_type": "code",
   "execution_count": 52,
   "metadata": {},
   "outputs": [
    {
     "data": {
      "text/html": [
       "<div>\n",
       "<style scoped>\n",
       "    .dataframe tbody tr th:only-of-type {\n",
       "        vertical-align: middle;\n",
       "    }\n",
       "\n",
       "    .dataframe tbody tr th {\n",
       "        vertical-align: top;\n",
       "    }\n",
       "\n",
       "    .dataframe thead th {\n",
       "        text-align: right;\n",
       "    }\n",
       "</style>\n",
       "<table border=\"1\" class=\"dataframe\">\n",
       "  <thead>\n",
       "    <tr style=\"text-align: right;\">\n",
       "      <th>col_0</th>\n",
       "      <th>0</th>\n",
       "      <th>1</th>\n",
       "    </tr>\n",
       "  </thead>\n",
       "  <tbody>\n",
       "    <tr>\n",
       "      <th>0</th>\n",
       "      <td>6</td>\n",
       "      <td>1</td>\n",
       "    </tr>\n",
       "    <tr>\n",
       "      <th>1</th>\n",
       "      <td>6</td>\n",
       "      <td>12</td>\n",
       "    </tr>\n",
       "  </tbody>\n",
       "</table>\n",
       "</div>"
      ],
      "text/plain": [
       "col_0  0   1\n",
       "0      6   1\n",
       "1      6  12"
      ]
     },
     "execution_count": 52,
     "metadata": {},
     "output_type": "execute_result"
    }
   ],
   "source": [
    "pred = log_reg.predict(x_test)\n",
    "observed = y_test.reshape(1, -1)[0]\n",
    "\n",
    "ct = pd.crosstab(observed, pred).reset_index(drop=True) # Fait par moi\n",
    "ct"
   ]
  },
  {
   "cell_type": "raw",
   "metadata": {},
   "source": [
    "Expected output:\n",
    "\n",
    "col_0  0   1\n",
    "0      6   1\n",
    "1      6  12"
   ]
  },
  {
   "cell_type": "markdown",
   "metadata": {},
   "source": [
    "### Q-43 : Définir des fonctions permettant de renvoyer les métriques suivantes:\n",
    "\n",
    "* Accuracy\n",
    "* Precision\n",
    "* Recall\n",
    "* F1-score"
   ]
  },
  {
   "cell_type": "code",
   "execution_count": 53,
   "metadata": {},
   "outputs": [],
   "source": [
    "###################################\n",
    "# Compléter les fonctions suivantes\n",
    "###################################\n",
    "\n",
    "def accuracy(observed, fitted):\n",
    "    \"\"\"Compute accurary, given observed and fitted values\"\"\"\n",
    "    return np.equal(observed,pred).sum()/len(observed)# Fait par moi\n",
    "\n",
    "def precision(observed, fitted):\n",
    "    \"\"\"Compute precision, given observed and fitted values\"\"\"\n",
    "    return np.sum((observed == 1) & (fitted == 1))/np.sum(fitted == 1)# Fait par moi\n",
    "\n",
    "def recall(observed, fitted):\n",
    "    \"\"\"Compute recall, given observed and fitted values\"\"\"\n",
    "    return np.sum((observed == 1) & (fitted == 1))/np.sum(observed == 1)# Fait par moi\n",
    "\n",
    "def F1_score(observed, fitted):\n",
    "    \"\"\"Compute F1-score, given observed and fitted values\"\"\"\n",
    "    return 2 * precision(observed, fitted) * recall(observed, fitted) / (precision(observed, fitted) + recall(observed, fitted))# Fait par moi\n"
   ]
  },
  {
   "cell_type": "code",
   "execution_count": 54,
   "metadata": {},
   "outputs": [
    {
     "name": "stdout",
     "output_type": "stream",
     "text": [
      "Accuracy:\t0.72\n",
      "Precision:\t0.92\n",
      "Recall:\t\t0.67\n",
      "F1-score:\t0.77\n"
     ]
    }
   ],
   "source": [
    "print(\"Accuracy:\\t%.2f\" % accuracy(observed, pred))\n",
    "print(\"Precision:\\t%.2f\" % precision(observed, pred))\n",
    "print(\"Recall:\\t\\t%.2f\" % recall(observed, pred))\n",
    "print(\"F1-score:\\t%.2f\" % F1_score(observed, pred))"
   ]
  },
  {
   "cell_type": "raw",
   "metadata": {},
   "source": [
    "Expected outputs:\n",
    "    \n",
    "Accuracy:\t0.72\n",
    "Precision:\t0.92\n",
    "Recall:\t\t0.67\n",
    "F1-score:\t0.77"
   ]
  },
  {
   "cell_type": "markdown",
   "metadata": {},
   "source": [
    "### Q-44 : Calculer les probabilités <i>P(y = 1 | x)</i> à partir des coefficients de la régression"
   ]
  },
  {
   "cell_type": "code",
   "execution_count": 55,
   "metadata": {},
   "outputs": [
    {
     "data": {
      "text/plain": [
       "(array([0.97504164, 0.97299268, 0.97078055, 0.96839312, 0.96581748,\n",
       "        0.96303996, 0.9600461 , 0.95682059, 0.95334735, 0.94960943]),\n",
       " array([0.025958  , 0.02398668, 0.02216167, 0.0204726 , 0.01890977,\n",
       "        0.01746412, 0.01612717, 0.01489102, 0.0137483 , 0.01269214]))"
      ]
     },
     "execution_count": 55,
     "metadata": {},
     "output_type": "execute_result"
    }
   ],
   "source": [
    "new_x = np.linspace(np.min(x), np.max(x), 100)\n",
    "\n",
    "b0, b1 = log_reg.intercept_, log_reg.coef_ # Fait par moi\n",
    "z = b0+b1[0][0]*new_x                      # Fait par moi\n",
    "prob = 1/(1+np.exp(-z))                    # Fait par moi\n",
    "prob[:10], prob[-10:]"
   ]
  },
  {
   "cell_type": "raw",
   "metadata": {},
   "source": [
    "Expected output:\n",
    "\n",
    "(array([0.97568396, 0.97370718, 0.97157439, 0.96927406, 0.96679393,\n",
    "        0.96412102, 0.96124158, 0.95814109, 0.95480423, 0.95121492]),\n",
    " array([0.02861292, 0.02646645, 0.02447696, 0.02263353, 0.02092597,\n",
    "        0.01934467, 0.01788069, 0.01652563, 0.01527167, 0.01411149]))"
   ]
  },
  {
   "cell_type": "markdown",
   "metadata": {},
   "source": [
    "### Q-45 : Représenter les données originales et la courbe de régression logistique"
   ]
  },
  {
   "cell_type": "code",
   "execution_count": 56,
   "metadata": {},
   "outputs": [
    {
     "data": {
      "image/png": "[encoded data removed]",
      "text/plain": [
       "<Figure size 432x288 with 1 Axes>"
      ]
     },
     "metadata": {
      "needs_background": "light"
     },
     "output_type": "display_data"
    }
   ],
   "source": [
    "#------------------------------------------------------------------------------ Fait par moi\n",
    "plt.plot(new_x,1/(1+np.exp(-z)), label= 'Logistic reg', color='red')\n",
    "plt.scatter(x, y, label='observations')\n",
    "plt.legend()\n",
    "plt.xlabel('x')\n",
    "plt.ylabel('y')\n",
    "plt.title('Scatter plot')\n",
    "plt.show()\n",
    "#-------------------------------------------------------------------------------"
   ]
  },
  {
   "cell_type": "markdown",
   "metadata": {},
   "source": [
    "#### Expected output:\n",
    "<img src='figures/log_reg_1.png?2'>"
   ]
  },
  {
   "cell_type": "markdown",
   "metadata": {},
   "source": [
    "<p style='text-align: center; font-weight: 900; font-size: 30px'>----------------------------------------</p>\n",
    "<p style='text-align: center; font-weight: 900; font-size: 30px'>Implémenter un KMeans de A à Z (from scratch)</p>\n",
    "<p style='text-align: center; font-weight: 900; font-size: 22px'>Evaluez votre code sur les données crabs</p>\n",
    "<p style='text-align: center; font-weight: 900; font-size: 30px'>----------------------------------------</p>"
   ]
  },
  {
   "cell_type": "code",
   "execution_count": 57,
   "metadata": {},
   "outputs": [
    {
     "data": {
      "text/html": [
       "<div>\n",
       "<style scoped>\n",
       "    .dataframe tbody tr th:only-of-type {\n",
       "        vertical-align: middle;\n",
       "    }\n",
       "\n",
       "    .dataframe tbody tr th {\n",
       "        vertical-align: top;\n",
       "    }\n",
       "\n",
       "    .dataframe thead th {\n",
       "        text-align: right;\n",
       "    }\n",
       "</style>\n",
       "<table border=\"1\" class=\"dataframe\">\n",
       "  <thead>\n",
       "    <tr style=\"text-align: right;\">\n",
       "      <th></th>\n",
       "      <th>sex</th>\n",
       "      <th>species</th>\n",
       "      <th>PC1</th>\n",
       "      <th>PC2</th>\n",
       "      <th>PC3</th>\n",
       "      <th>PC4</th>\n",
       "    </tr>\n",
       "  </thead>\n",
       "  <tbody>\n",
       "    <tr>\n",
       "      <th>0</th>\n",
       "      <td>M</td>\n",
       "      <td>B</td>\n",
       "      <td>0.664783</td>\n",
       "      <td>1.240606</td>\n",
       "      <td>0.354814</td>\n",
       "      <td>-1.305615</td>\n",
       "    </tr>\n",
       "    <tr>\n",
       "      <th>1</th>\n",
       "      <td>M</td>\n",
       "      <td>B</td>\n",
       "      <td>1.128995</td>\n",
       "      <td>0.654173</td>\n",
       "      <td>-0.708660</td>\n",
       "      <td>0.073854</td>\n",
       "    </tr>\n",
       "    <tr>\n",
       "      <th>2</th>\n",
       "      <td>M</td>\n",
       "      <td>B</td>\n",
       "      <td>1.906707</td>\n",
       "      <td>0.599224</td>\n",
       "      <td>-0.350549</td>\n",
       "      <td>-0.827297</td>\n",
       "    </tr>\n",
       "    <tr>\n",
       "      <th>3</th>\n",
       "      <td>M</td>\n",
       "      <td>B</td>\n",
       "      <td>1.242367</td>\n",
       "      <td>-0.268916</td>\n",
       "      <td>-0.621437</td>\n",
       "      <td>-0.186942</td>\n",
       "    </tr>\n",
       "    <tr>\n",
       "      <th>4</th>\n",
       "      <td>M</td>\n",
       "      <td>B</td>\n",
       "      <td>0.864359</td>\n",
       "      <td>-0.320040</td>\n",
       "      <td>-1.135337</td>\n",
       "      <td>0.105380</td>\n",
       "    </tr>\n",
       "  </tbody>\n",
       "</table>\n",
       "</div>"
      ],
      "text/plain": [
       "  sex species       PC1       PC2       PC3       PC4\n",
       "0   M       B  0.664783  1.240606  0.354814 -1.305615\n",
       "1   M       B  1.128995  0.654173 -0.708660  0.073854\n",
       "2   M       B  1.906707  0.599224 -0.350549 -0.827297\n",
       "3   M       B  1.242367 -0.268916 -0.621437 -0.186942\n",
       "4   M       B  0.864359 -0.320040 -1.135337  0.105380"
      ]
     },
     "execution_count": 57,
     "metadata": {},
     "output_type": "execute_result"
    }
   ],
   "source": [
    "import pandas as pd\n",
    "\n",
    "crabs = pd.read_csv('data/crabs.csv', sep=\";\")\n",
    "crabs.head()"
   ]
  },
  {
   "cell_type": "code",
   "execution_count": 58,
   "metadata": {},
   "outputs": [],
   "source": [
    "# Quelques fonctions dont on aura besoin \n",
    "from sys import float_info\n",
    "#---------------------------------------------------------------------------------------------------------------#\n",
    "def plot_data_after_clustering(X, class_data, k_centroids):\n",
    "    \"\"\"Cette fonction affiche nos données et les centroids des différentes classes\"\"\"\n",
    "    centroid = list() \n",
    "    class_centroids = list()\n",
    "    for i in k_centroids:\n",
    "        centroid.append(k_centroids[i])\n",
    "        class_centroids.append(i)\n",
    "    centroid = np.array(centroid)\n",
    "\n",
    "    plt.figure(figsize=(20,10))\n",
    "    plt.scatter(X[:,0], X[:,1], c=class_data, label='Dataset')\n",
    "    plt.scatter(centroid[:,0], centroid[:,1], s=1000, c=class_centroids, edgecolors='black', cmap='flag', alpha=0.5, label='Centroids')\n",
    "    plt.title(\" Les différentes classes obtenues\")\n",
    "    plt.legend()\n",
    "    plt.show()\n",
    "#---------------------------------------------------------------------------------------------------------------#\n",
    "def objective_function_k_means(X_data, class_data, k_centroids):\n",
    "    \"\"\"Cette fonction calcule l'inertie globale\"\"\"\n",
    "    \n",
    "    objective_value = 0.0\n",
    "    \n",
    "    for i in range(X_data.shape[0]):        \n",
    "        objective_value += np.sum((X_data[i] - k_centroids[class_data[i]])*(X_data[i] - k_centroids[class_data[i]]))\n",
    "    \n",
    "    return objective_value\n",
    "#---------------------------------------------------------------------------------------------------------------#\n",
    "def class_assignement(X_data, k_centroids):\n",
    "    \"\"\"Cette fonction plongée calcule l'étiquette\"\"\"\n",
    "    class_data = list()\n",
    "    \n",
    "    for i in range(X_data.shape[0]):\n",
    "        \n",
    "        label = 0\n",
    "        val = float_info.max\n",
    "        \n",
    "        for k in k_centroids:\n",
    "            val_k = np.sum((X_data[i] - k_centroids[k])*(X_data[i] - k_centroids[k]))\n",
    "            if val_k < val:\n",
    "                val = val_k\n",
    "                label = k\n",
    "        \n",
    "        class_data.append(label)\n",
    "\n",
    "    return np.array(class_data)\n",
    "#---------------------------------------------------------------------------------------------------------------#\n",
    "def compute_centroids(X_data, class_data, number_class):\n",
    "    \"\"\"Cette fonction calcule le barycentre de nos différentes classes\"\"\"\n",
    "    k_centroids = dict()\n",
    "    number_element_per_classe = dict()\n",
    "    \n",
    "    for k in range(number_class):\n",
    "        k_centroids[k] = X_data[0]*0.0\n",
    "        number_element_per_classe[k] = 0\n",
    "        \n",
    "    for i in range(X_data.shape[0]):\n",
    "        k_centroids[class_data[i]] = k_centroids[class_data[i]]+X_data[i]\n",
    "        number_element_per_classe[class_data[i]] = number_element_per_classe[class_data[i]] + 1\n",
    "        \n",
    "    for k in k_centroids:\n",
    "        k_centroids[k] = k_centroids[k] / number_element_per_classe[k]\n",
    "        \n",
    "        \n",
    "    return k_centroids\n",
    "#---------------------------------------------------------------------------------------------------------------#"
   ]
  },
  {
   "cell_type": "code",
   "execution_count": 59,
   "metadata": {},
   "outputs": [],
   "source": [
    "def my_kmeans(X, n_center, n_start, max_iter):\n",
    "    \"\"\"\n",
    "    Compute kmeans given n_centers\n",
    "    \n",
    "    Args:\n",
    "        X (array): a nxp matrix, with n observations and p variables\n",
    "        n_centers (int): the number of centers (clusters)\n",
    "        n_start (int): the number of new initialization\n",
    "        max_iter (int): the maximum number of iterations, in case the convergence is not reached.\n",
    "        \n",
    "    Returns:\n",
    "        A vector of integers representing the cluster index for each observation\n",
    "    \"\"\"\n",
    "    objective_function_value_0 = 0.0\n",
    "    convergence = 1000.0\n",
    "    \n",
    "    # initialisation des centroids\n",
    "    k_centroids = dict()\n",
    "    for k in range(n_center):\n",
    "        k_centroids[k] = X[np.random.randint(X.shape[0])]\n",
    "    \n",
    "    # générer les classes de données\n",
    "    class_data = np.zeros(X.shape[0])\n",
    "    \n",
    "    iteration = 0 \n",
    "    for i in range(n_start, max_iter):\n",
    "        iteration+=1\n",
    "        # calculer la classe\n",
    "        class_data = class_assignement(X, k_centroids)\n",
    "        \n",
    "        # calculer les k_centroids\n",
    "        k_centroids = compute_centroids(X, class_data, n_center)\n",
    "        # calculer la fonction objectif\n",
    "        convergence = objective_function_value_0\n",
    "        objective_function_value_0 = objective_function_k_means(X, class_data, k_centroids)\n",
    "    \n",
    "        # Nous définissons un taux de convergence de 0.002\n",
    "        if(np.abs(convergence-objective_function_value_0) < 0.002):\n",
    "            break\n",
    "            \n",
    "    return class_data, k_centroids, iteration"
   ]
  },
  {
   "cell_type": "code",
   "execution_count": 60,
   "metadata": {},
   "outputs": [],
   "source": [
    "X = crabs[['PC1','PC2','PC3','PC4']].values\n",
    "n_center = 4\n",
    "n_start = 0\n",
    "max_iter = 1000"
   ]
  },
  {
   "cell_type": "code",
   "execution_count": 61,
   "metadata": {},
   "outputs": [],
   "source": [
    "class_data, k_centroids, iteration = my_kmeans(X, n_center, n_start, max_iter)"
   ]
  },
  {
   "cell_type": "code",
   "execution_count": 62,
   "metadata": {},
   "outputs": [
    {
     "data": {
      "image/png": "[encoded data removed]",
      "text/plain": [
       "<Figure size 1440x720 with 1 Axes>"
      ]
     },
     "metadata": {
      "needs_background": "light"
     },
     "output_type": "display_data"
    }
   ],
   "source": [
    "plot_data_after_clustering(X, class_data, k_centroids)"
   ]
  },
  {
   "cell_type": "markdown",
   "metadata": {},
   "source": [
    "#### Illustrative output (you may get slightly different results):\n",
    "<img src='figures/Kmeans_crabs.png'>"
   ]
  },
  {
   "cell_type": "markdown",
   "metadata": {},
   "source": [
    "<p style='text-align: center; font-weight: 900; font-size: 30px'>----------------------------------------</p>\n",
    "<p style='text-align: center; font-weight: 900; font-size: 30px'>Etude de cas #1</p>\n",
    "<p style='text-align: center; font-weight: 900; font-size: 30px'>----------------------------------------</p>\n",
    "\n",
    "<p  style='font-weight: 600; font-size: 18px'>Un groupe leader des cosmétiques souhaite lancer une nouvelle crème de soin.</p>\n",
    "<p  style='font-weight: 600; font-size: 18px'>La phase de lancement du produit est maitrisée, et les réponses des consommateurs au push d'un nouveau produit sont relativemnt bien estimées. En revanche, il est plus difficile de prédire les niveaux de vente qui suivront, après les 2 à 3 semaines de promotion.</p>\n",
    "<p  style='font-weight: 600; font-size: 18px'>Dans ce contexte de mise sur le marché d'un nouveau produit, quelle(s) approche(s) pourriez-vous proposer afin d'estimer les niveaux de ventes de ce nouveau produit, après la phase de lancement. La production doit être plannifiée 2 semaines à l'avance.</p>\n",
    "\n"
   ]
  },
  {
   "cell_type": "markdown",
   "metadata": {},
   "source": [
    "# <font color='green'>Vos propositions:</font>\n",
    "#### <font color='red'> Approches basées sur les données antérieures de l'entreprise :</font>   Si l'entreprise avait eu des expériences antérieures de lancement de produit de crème de soin et avait conservé les données, Elle peut alors utiliser ces données pour entraîner un modèle de régression et utilisé ce modèle pour estimer les niveaux de ventes qui suivront après les 2 à 3 semaines de promotion.\n",
    "#### <font color='red'> Approches basées sur les données antérieures du marché :</font>   Si l'entreprise à un historique (des données qui sont internes et externes à l'entreprise) de l'évolution des lancements des produits de crème de soin dans le marché dans lequel elle évolue, elle peut utiliser ces données aussi pour entraîner un modèle de régression et utiliser ce modèle pour estimer les niveaux de ventes qui suivront après les 2 à 3 semaines de promotion.\n",
    "#### <font color='red'> Approches basées sur les paramètres du marché :</font>   cette approche consiste à se baser uniquement sur les paramètres du marché pour estimer les futures ventes. En effet, si l'entreprise connaît la taille du cible de son marché (par exemple, si c'est une crème de soin destiner à un certain type de peau, estimer le pourcentage de la population du marché de l'entreprise ayant ce type de peau....), si l'entreprise connaît la période ou la population est plus susceptible d'acheter ce produit (Par exemple se dire qu'à la fin du mois, la population-cible aura son salaire et donc sera plus susceptible d'acheter le produit ....) Ainsi que d'autre paramètres, l'entreprise peut utiliser ces paramètres et essayer de construire une fonction qui estimera les ventes futures susceptible d'acheter le produit .... Ce modèle par exemple sera recommandé si l'entreprise n'a pas des données antérieurs fiables."
   ]
  },
  {
   "cell_type": "markdown",
   "metadata": {},
   "source": [
    "<p style='text-align: center; font-weight: 900; font-size: 30px'>----------------------------------------</p>\n",
    "<p style='text-align: center; font-weight: 900; font-size: 30px'>Etude de cas #2</p>\n",
    "<p style='text-align: center; font-weight: 900; font-size: 30px'>----------------------------------------</p>\n",
    "\n",
    "### 3 datasets sont disponible au format .csv dans votre répertore data/\n",
    "\n",
    "#### * airports_full\n",
    "#### * flights_small\n",
    "#### * planes\n",
    "\n",
    "### 1 - Recherchez des informations sur ces données publiques pour comprendre le contenu de chaque champ\n",
    "\n",
    "#### Ressources possibles:\n",
    "\n",
    "#### * https://openflights.org/data.html#airline\n",
    "\n",
    "#### * https://cran.r-project.org/web/packages/nycflights13/nycflights13.pdf\n",
    "\n",
    "### 2 - Procédez à une analyse descriptive\n",
    "\n",
    "### 3 - Proposez un modèle prédictif des retards"
   ]
  },
  {
   "cell_type": "code",
   "execution_count": 63,
   "metadata": {},
   "outputs": [],
   "source": [
    "#####################\n",
    "# Charger les données\n",
    "#####################\n",
    "import pandas as pd\n",
    "\n",
    "airports = pd.read_csv('data/airports_full.csv')\n",
    "flights = pd.read_csv('data/flights_small.csv')\n",
    "planes = pd.read_csv('data/planes.csv')"
   ]
  },
  {
   "cell_type": "code",
   "execution_count": null,
   "metadata": {},
   "outputs": [],
   "source": []
  },
  {
   "cell_type": "code",
   "execution_count": 64,
   "metadata": {},
   "outputs": [],
   "source": [
    "# Charger les librairies (choix libre)\n",
    "import numpy as np\n",
    "from xgboost import XGBRegressor\n",
    "from sklearn import preprocessing\n",
    "from sklearn.linear_model import LinearRegression\n",
    "from sklearn.ensemble import RandomForestRegressor\n",
    "from sklearn.model_selection import cross_val_score\n",
    "from sklearn.model_selection import GridSearchCV, KFold"
   ]
  },
  {
   "cell_type": "markdown",
   "metadata": {},
   "source": [
    "## Analyse Descriptive"
   ]
  },
  {
   "cell_type": "markdown",
   "metadata": {},
   "source": [
    "#### <font color='red'>Descriptions de nos fichiers :</font> Notre ensemble de données est constitué de 3 fichiers csv (airports_full.csv, flights_small.csv et planes.csv) qui représentent des données relatives aux aéroports, aux trafics aériens et une petite description des avions utilisés."
   ]
  },
  {
   "cell_type": "code",
   "execution_count": 65,
   "metadata": {},
   "outputs": [
    {
     "name": "stdout",
     "output_type": "stream",
     "text": [
      "Size airports DataFrame :  (55660, 19)\n"
     ]
    },
    {
     "data": {
      "text/html": [
       "<div>\n",
       "<style scoped>\n",
       "    .dataframe tbody tr th:only-of-type {\n",
       "        vertical-align: middle;\n",
       "    }\n",
       "\n",
       "    .dataframe tbody tr th {\n",
       "        vertical-align: top;\n",
       "    }\n",
       "\n",
       "    .dataframe thead th {\n",
       "        text-align: right;\n",
       "    }\n",
       "</style>\n",
       "<table border=\"1\" class=\"dataframe\">\n",
       "  <thead>\n",
       "    <tr style=\"text-align: right;\">\n",
       "      <th></th>\n",
       "      <th>Unnamed: 0</th>\n",
       "      <th>id</th>\n",
       "      <th>ident</th>\n",
       "      <th>type</th>\n",
       "      <th>name</th>\n",
       "      <th>latitude_deg</th>\n",
       "      <th>longitude_deg</th>\n",
       "      <th>elevation_ft</th>\n",
       "      <th>continent</th>\n",
       "      <th>iso_country</th>\n",
       "      <th>iso_region</th>\n",
       "      <th>municipality</th>\n",
       "      <th>scheduled_service</th>\n",
       "      <th>gps_code</th>\n",
       "      <th>iata_code</th>\n",
       "      <th>local_code</th>\n",
       "      <th>home_link</th>\n",
       "      <th>wikipedia_link</th>\n",
       "      <th>keywords</th>\n",
       "    </tr>\n",
       "  </thead>\n",
       "  <tbody>\n",
       "    <tr>\n",
       "      <th>0</th>\n",
       "      <td>0</td>\n",
       "      <td>6523</td>\n",
       "      <td>00A</td>\n",
       "      <td>heliport</td>\n",
       "      <td>Total Rf Heliport</td>\n",
       "      <td>40.070801</td>\n",
       "      <td>-74.933601</td>\n",
       "      <td>11.0</td>\n",
       "      <td>NaN</td>\n",
       "      <td>US</td>\n",
       "      <td>US-PA</td>\n",
       "      <td>Bensalem</td>\n",
       "      <td>no</td>\n",
       "      <td>00A</td>\n",
       "      <td>NaN</td>\n",
       "      <td>00A</td>\n",
       "      <td>NaN</td>\n",
       "      <td>NaN</td>\n",
       "      <td>NaN</td>\n",
       "    </tr>\n",
       "    <tr>\n",
       "      <th>1</th>\n",
       "      <td>1</td>\n",
       "      <td>323361</td>\n",
       "      <td>00AA</td>\n",
       "      <td>small_airport</td>\n",
       "      <td>Aero B Ranch Airport</td>\n",
       "      <td>38.704022</td>\n",
       "      <td>-101.473911</td>\n",
       "      <td>3435.0</td>\n",
       "      <td>NaN</td>\n",
       "      <td>US</td>\n",
       "      <td>US-KS</td>\n",
       "      <td>Leoti</td>\n",
       "      <td>no</td>\n",
       "      <td>00AA</td>\n",
       "      <td>NaN</td>\n",
       "      <td>00AA</td>\n",
       "      <td>NaN</td>\n",
       "      <td>NaN</td>\n",
       "      <td>NaN</td>\n",
       "    </tr>\n",
       "    <tr>\n",
       "      <th>2</th>\n",
       "      <td>2</td>\n",
       "      <td>6524</td>\n",
       "      <td>00AK</td>\n",
       "      <td>small_airport</td>\n",
       "      <td>Lowell Field</td>\n",
       "      <td>59.949200</td>\n",
       "      <td>-151.695999</td>\n",
       "      <td>450.0</td>\n",
       "      <td>NaN</td>\n",
       "      <td>US</td>\n",
       "      <td>US-AK</td>\n",
       "      <td>Anchor Point</td>\n",
       "      <td>no</td>\n",
       "      <td>00AK</td>\n",
       "      <td>NaN</td>\n",
       "      <td>00AK</td>\n",
       "      <td>NaN</td>\n",
       "      <td>NaN</td>\n",
       "      <td>NaN</td>\n",
       "    </tr>\n",
       "    <tr>\n",
       "      <th>3</th>\n",
       "      <td>3</td>\n",
       "      <td>6525</td>\n",
       "      <td>00AL</td>\n",
       "      <td>small_airport</td>\n",
       "      <td>Epps Airpark</td>\n",
       "      <td>34.864799</td>\n",
       "      <td>-86.770302</td>\n",
       "      <td>820.0</td>\n",
       "      <td>NaN</td>\n",
       "      <td>US</td>\n",
       "      <td>US-AL</td>\n",
       "      <td>Harvest</td>\n",
       "      <td>no</td>\n",
       "      <td>00AL</td>\n",
       "      <td>NaN</td>\n",
       "      <td>00AL</td>\n",
       "      <td>NaN</td>\n",
       "      <td>NaN</td>\n",
       "      <td>NaN</td>\n",
       "    </tr>\n",
       "    <tr>\n",
       "      <th>4</th>\n",
       "      <td>4</td>\n",
       "      <td>6526</td>\n",
       "      <td>00AR</td>\n",
       "      <td>closed</td>\n",
       "      <td>Newport Hospital &amp; Clinic Heliport</td>\n",
       "      <td>35.608700</td>\n",
       "      <td>-91.254898</td>\n",
       "      <td>237.0</td>\n",
       "      <td>NaN</td>\n",
       "      <td>US</td>\n",
       "      <td>US-AR</td>\n",
       "      <td>Newport</td>\n",
       "      <td>no</td>\n",
       "      <td>NaN</td>\n",
       "      <td>NaN</td>\n",
       "      <td>NaN</td>\n",
       "      <td>NaN</td>\n",
       "      <td>NaN</td>\n",
       "      <td>00AR</td>\n",
       "    </tr>\n",
       "  </tbody>\n",
       "</table>\n",
       "</div>"
      ],
      "text/plain": [
       "   Unnamed: 0      id ident           type  \\\n",
       "0           0    6523   00A       heliport   \n",
       "1           1  323361  00AA  small_airport   \n",
       "2           2    6524  00AK  small_airport   \n",
       "3           3    6525  00AL  small_airport   \n",
       "4           4    6526  00AR         closed   \n",
       "\n",
       "                                 name  latitude_deg  longitude_deg  \\\n",
       "0                   Total Rf Heliport     40.070801     -74.933601   \n",
       "1                Aero B Ranch Airport     38.704022    -101.473911   \n",
       "2                        Lowell Field     59.949200    -151.695999   \n",
       "3                        Epps Airpark     34.864799     -86.770302   \n",
       "4  Newport Hospital & Clinic Heliport     35.608700     -91.254898   \n",
       "\n",
       "   elevation_ft continent iso_country iso_region  municipality  \\\n",
       "0          11.0       NaN          US      US-PA      Bensalem   \n",
       "1        3435.0       NaN          US      US-KS         Leoti   \n",
       "2         450.0       NaN          US      US-AK  Anchor Point   \n",
       "3         820.0       NaN          US      US-AL       Harvest   \n",
       "4         237.0       NaN          US      US-AR       Newport   \n",
       "\n",
       "  scheduled_service gps_code iata_code local_code home_link wikipedia_link  \\\n",
       "0                no      00A       NaN        00A       NaN            NaN   \n",
       "1                no     00AA       NaN       00AA       NaN            NaN   \n",
       "2                no     00AK       NaN       00AK       NaN            NaN   \n",
       "3                no     00AL       NaN       00AL       NaN            NaN   \n",
       "4                no      NaN       NaN        NaN       NaN            NaN   \n",
       "\n",
       "  keywords  \n",
       "0      NaN  \n",
       "1      NaN  \n",
       "2      NaN  \n",
       "3      NaN  \n",
       "4     00AR  "
      ]
     },
     "execution_count": 65,
     "metadata": {},
     "output_type": "execute_result"
    }
   ],
   "source": [
    "print(\"Size airports DataFrame : \",airports.shape)\n",
    "airports.head()"
   ]
  },
  {
   "cell_type": "markdown",
   "metadata": {},
   "source": [
    "#### <font color='red'>Descriptions du fichier airports :</font>  Le fichier aiports_full.csv contient la description de 55600 aéroports dans le monde. Pour chaque aéroport, nous avons :\n",
    " * id : qui représente le numéro d'identification de l'aéroport qui est unique\n",
    " * ident : qui est un autre numéro d'identification de l'aéroport qui est unique\n",
    " * type : qui représente le type de l'aéroport\n",
    " * name : qui représente le nom de l'aéroport\n",
    " * latitude_deg : qui représente la position en latitude de l'aéroport\n",
    " * longitude_deg : qui représente la position en longitude de l'aéroport\n",
    " * elevation_ft : qui représente la position en élévation de l'aéroport\n",
    " * continent : qui représente le continent ou l'aéroport est situé\n",
    " * iso_country : qui représente le code iso du pays ou l'aéroport est situé\n",
    " * iso_region : qui représente le code iso de la région ou se situe l'aéroport\n",
    " * municipality : qui représente la ville ou se situe l'aéroport\n",
    " * scheduled_service : qui est une variable boolean donnant la disponibilité de l'aéroport\n",
    " * gps_code : qui représente le code gps de l'aéroport\n",
    " * iata_code : qui représente le code iata de l'aéroport\n",
    " * local_code : qui représente le code local de l'aéroport\n",
    " * home_link : qui représente le lein de la page web de l'aéroport\n",
    " * wikipedia_link : qui représente le lien vers la page wikipédia de l'aéroport\n",
    " * keywords : qui représente un ensemble de mots representative de l'aéroports\n"
   ]
  },
  {
   "cell_type": "code",
   "execution_count": 66,
   "metadata": {},
   "outputs": [
    {
     "name": "stdout",
     "output_type": "stream",
     "text": [
      "Size flights DataFrame :  (10000, 16)\n"
     ]
    },
    {
     "data": {
      "text/html": [
       "<div>\n",
       "<style scoped>\n",
       "    .dataframe tbody tr th:only-of-type {\n",
       "        vertical-align: middle;\n",
       "    }\n",
       "\n",
       "    .dataframe tbody tr th {\n",
       "        vertical-align: top;\n",
       "    }\n",
       "\n",
       "    .dataframe thead th {\n",
       "        text-align: right;\n",
       "    }\n",
       "</style>\n",
       "<table border=\"1\" class=\"dataframe\">\n",
       "  <thead>\n",
       "    <tr style=\"text-align: right;\">\n",
       "      <th></th>\n",
       "      <th>year</th>\n",
       "      <th>month</th>\n",
       "      <th>day</th>\n",
       "      <th>dep_time</th>\n",
       "      <th>dep_delay</th>\n",
       "      <th>arr_time</th>\n",
       "      <th>arr_delay</th>\n",
       "      <th>carrier</th>\n",
       "      <th>tailnum</th>\n",
       "      <th>flight</th>\n",
       "      <th>origin</th>\n",
       "      <th>dest</th>\n",
       "      <th>air_time</th>\n",
       "      <th>distance</th>\n",
       "      <th>hour</th>\n",
       "      <th>minute</th>\n",
       "    </tr>\n",
       "  </thead>\n",
       "  <tbody>\n",
       "    <tr>\n",
       "      <th>0</th>\n",
       "      <td>2014</td>\n",
       "      <td>12</td>\n",
       "      <td>8</td>\n",
       "      <td>658.0</td>\n",
       "      <td>-7.0</td>\n",
       "      <td>935.0</td>\n",
       "      <td>-5.0</td>\n",
       "      <td>VX</td>\n",
       "      <td>N846VA</td>\n",
       "      <td>1780</td>\n",
       "      <td>SEA</td>\n",
       "      <td>LAX</td>\n",
       "      <td>132.0</td>\n",
       "      <td>954</td>\n",
       "      <td>6.0</td>\n",
       "      <td>58.0</td>\n",
       "    </tr>\n",
       "    <tr>\n",
       "      <th>1</th>\n",
       "      <td>2014</td>\n",
       "      <td>1</td>\n",
       "      <td>22</td>\n",
       "      <td>1040.0</td>\n",
       "      <td>5.0</td>\n",
       "      <td>1505.0</td>\n",
       "      <td>5.0</td>\n",
       "      <td>AS</td>\n",
       "      <td>N559AS</td>\n",
       "      <td>851</td>\n",
       "      <td>SEA</td>\n",
       "      <td>HNL</td>\n",
       "      <td>360.0</td>\n",
       "      <td>2677</td>\n",
       "      <td>10.0</td>\n",
       "      <td>40.0</td>\n",
       "    </tr>\n",
       "    <tr>\n",
       "      <th>2</th>\n",
       "      <td>2014</td>\n",
       "      <td>3</td>\n",
       "      <td>9</td>\n",
       "      <td>1443.0</td>\n",
       "      <td>-2.0</td>\n",
       "      <td>1652.0</td>\n",
       "      <td>2.0</td>\n",
       "      <td>VX</td>\n",
       "      <td>N847VA</td>\n",
       "      <td>755</td>\n",
       "      <td>SEA</td>\n",
       "      <td>SFO</td>\n",
       "      <td>111.0</td>\n",
       "      <td>679</td>\n",
       "      <td>14.0</td>\n",
       "      <td>43.0</td>\n",
       "    </tr>\n",
       "    <tr>\n",
       "      <th>3</th>\n",
       "      <td>2014</td>\n",
       "      <td>4</td>\n",
       "      <td>9</td>\n",
       "      <td>1705.0</td>\n",
       "      <td>45.0</td>\n",
       "      <td>1839.0</td>\n",
       "      <td>34.0</td>\n",
       "      <td>WN</td>\n",
       "      <td>N360SW</td>\n",
       "      <td>344</td>\n",
       "      <td>PDX</td>\n",
       "      <td>SJC</td>\n",
       "      <td>83.0</td>\n",
       "      <td>569</td>\n",
       "      <td>17.0</td>\n",
       "      <td>5.0</td>\n",
       "    </tr>\n",
       "    <tr>\n",
       "      <th>4</th>\n",
       "      <td>2014</td>\n",
       "      <td>3</td>\n",
       "      <td>9</td>\n",
       "      <td>754.0</td>\n",
       "      <td>-1.0</td>\n",
       "      <td>1015.0</td>\n",
       "      <td>1.0</td>\n",
       "      <td>AS</td>\n",
       "      <td>N612AS</td>\n",
       "      <td>522</td>\n",
       "      <td>SEA</td>\n",
       "      <td>BUR</td>\n",
       "      <td>127.0</td>\n",
       "      <td>937</td>\n",
       "      <td>7.0</td>\n",
       "      <td>54.0</td>\n",
       "    </tr>\n",
       "  </tbody>\n",
       "</table>\n",
       "</div>"
      ],
      "text/plain": [
       "   year  month  day  dep_time  dep_delay  arr_time  arr_delay carrier tailnum  \\\n",
       "0  2014     12    8     658.0       -7.0     935.0       -5.0      VX  N846VA   \n",
       "1  2014      1   22    1040.0        5.0    1505.0        5.0      AS  N559AS   \n",
       "2  2014      3    9    1443.0       -2.0    1652.0        2.0      VX  N847VA   \n",
       "3  2014      4    9    1705.0       45.0    1839.0       34.0      WN  N360SW   \n",
       "4  2014      3    9     754.0       -1.0    1015.0        1.0      AS  N612AS   \n",
       "\n",
       "   flight origin dest  air_time  distance  hour  minute  \n",
       "0    1780    SEA  LAX     132.0       954   6.0    58.0  \n",
       "1     851    SEA  HNL     360.0      2677  10.0    40.0  \n",
       "2     755    SEA  SFO     111.0       679  14.0    43.0  \n",
       "3     344    PDX  SJC      83.0       569  17.0     5.0  \n",
       "4     522    SEA  BUR     127.0       937   7.0    54.0  "
      ]
     },
     "execution_count": 66,
     "metadata": {},
     "output_type": "execute_result"
    }
   ],
   "source": [
    "print(\"Size flights DataFrame : \",flights.shape)\n",
    "flights.head()"
   ]
  },
  {
   "cell_type": "markdown",
   "metadata": {},
   "source": [
    "#### <font color='red'>Descriptions du fichier flights :</font>  Le fichier flights.csv contient un échantillon de 10000 données de vols; les variables utilisées pour décrire un vol sont les suivantes:\n",
    " * year : la date du vols qui est 2014 pour tous les vols dans ce fichier\n",
    " * month : le mois du vols \n",
    " * day : le jours du vols \n",
    " * dep_time : l'heure de départ réelle en format HHMM ou bien HMM\n",
    " * dep_delay : le retard enregistré sur le départ en minutes\n",
    " * arr_time : l'heure d'arrivée réelle en format HHMM ou bien HMM\n",
    " * arr_delay : le retard enregistré sur l'arrivé en minutes\n",
    " * carrier : Le code du nom de la compagnie aérienne\n",
    " * tailnum : Le numéro de l'avion utilisé\n",
    " * flight : Le numéro du vol\n",
    " * origin : l'aéroport d'origine du vol\n",
    " * dest : l'aéroport de destination du vol\n",
    " * air_time : temps passée dans les airs par l'avions en minutes\n",
    " * distance : la distance du vol en miles\n",
    " * hour,minute : heures de départs prévus divisée en heure et en minutes"
   ]
  },
  {
   "cell_type": "code",
   "execution_count": 67,
   "metadata": {},
   "outputs": [
    {
     "name": "stdout",
     "output_type": "stream",
     "text": [
      "Size Planes DataFrame :  (2628, 9)\n"
     ]
    },
    {
     "data": {
      "text/html": [
       "<div>\n",
       "<style scoped>\n",
       "    .dataframe tbody tr th:only-of-type {\n",
       "        vertical-align: middle;\n",
       "    }\n",
       "\n",
       "    .dataframe tbody tr th {\n",
       "        vertical-align: top;\n",
       "    }\n",
       "\n",
       "    .dataframe thead th {\n",
       "        text-align: right;\n",
       "    }\n",
       "</style>\n",
       "<table border=\"1\" class=\"dataframe\">\n",
       "  <thead>\n",
       "    <tr style=\"text-align: right;\">\n",
       "      <th></th>\n",
       "      <th>tailnum</th>\n",
       "      <th>year</th>\n",
       "      <th>type</th>\n",
       "      <th>manufacturer</th>\n",
       "      <th>model</th>\n",
       "      <th>engines</th>\n",
       "      <th>seats</th>\n",
       "      <th>speed</th>\n",
       "      <th>engine</th>\n",
       "    </tr>\n",
       "  </thead>\n",
       "  <tbody>\n",
       "    <tr>\n",
       "      <th>0</th>\n",
       "      <td>N102UW</td>\n",
       "      <td>1998.0</td>\n",
       "      <td>Fixed wing multi engine</td>\n",
       "      <td>AIRBUS INDUSTRIE</td>\n",
       "      <td>A320-214</td>\n",
       "      <td>2</td>\n",
       "      <td>182</td>\n",
       "      <td>NaN</td>\n",
       "      <td>Turbo-fan</td>\n",
       "    </tr>\n",
       "    <tr>\n",
       "      <th>1</th>\n",
       "      <td>N103US</td>\n",
       "      <td>1999.0</td>\n",
       "      <td>Fixed wing multi engine</td>\n",
       "      <td>AIRBUS INDUSTRIE</td>\n",
       "      <td>A320-214</td>\n",
       "      <td>2</td>\n",
       "      <td>182</td>\n",
       "      <td>NaN</td>\n",
       "      <td>Turbo-fan</td>\n",
       "    </tr>\n",
       "    <tr>\n",
       "      <th>2</th>\n",
       "      <td>N104UW</td>\n",
       "      <td>1999.0</td>\n",
       "      <td>Fixed wing multi engine</td>\n",
       "      <td>AIRBUS INDUSTRIE</td>\n",
       "      <td>A320-214</td>\n",
       "      <td>2</td>\n",
       "      <td>182</td>\n",
       "      <td>NaN</td>\n",
       "      <td>Turbo-fan</td>\n",
       "    </tr>\n",
       "    <tr>\n",
       "      <th>3</th>\n",
       "      <td>N105UW</td>\n",
       "      <td>1999.0</td>\n",
       "      <td>Fixed wing multi engine</td>\n",
       "      <td>AIRBUS INDUSTRIE</td>\n",
       "      <td>A320-214</td>\n",
       "      <td>2</td>\n",
       "      <td>182</td>\n",
       "      <td>NaN</td>\n",
       "      <td>Turbo-fan</td>\n",
       "    </tr>\n",
       "    <tr>\n",
       "      <th>4</th>\n",
       "      <td>N107US</td>\n",
       "      <td>1999.0</td>\n",
       "      <td>Fixed wing multi engine</td>\n",
       "      <td>AIRBUS INDUSTRIE</td>\n",
       "      <td>A320-214</td>\n",
       "      <td>2</td>\n",
       "      <td>182</td>\n",
       "      <td>NaN</td>\n",
       "      <td>Turbo-fan</td>\n",
       "    </tr>\n",
       "  </tbody>\n",
       "</table>\n",
       "</div>"
      ],
      "text/plain": [
       "  tailnum    year                     type      manufacturer     model  \\\n",
       "0  N102UW  1998.0  Fixed wing multi engine  AIRBUS INDUSTRIE  A320-214   \n",
       "1  N103US  1999.0  Fixed wing multi engine  AIRBUS INDUSTRIE  A320-214   \n",
       "2  N104UW  1999.0  Fixed wing multi engine  AIRBUS INDUSTRIE  A320-214   \n",
       "3  N105UW  1999.0  Fixed wing multi engine  AIRBUS INDUSTRIE  A320-214   \n",
       "4  N107US  1999.0  Fixed wing multi engine  AIRBUS INDUSTRIE  A320-214   \n",
       "\n",
       "   engines  seats  speed     engine  \n",
       "0        2    182    NaN  Turbo-fan  \n",
       "1        2    182    NaN  Turbo-fan  \n",
       "2        2    182    NaN  Turbo-fan  \n",
       "3        2    182    NaN  Turbo-fan  \n",
       "4        2    182    NaN  Turbo-fan  "
      ]
     },
     "execution_count": 67,
     "metadata": {},
     "output_type": "execute_result"
    }
   ],
   "source": [
    "print(\"Size Planes DataFrame : \",planes.shape)\n",
    "planes.head()"
   ]
  },
  {
   "cell_type": "markdown",
   "metadata": {},
   "source": [
    "#### <font color='red'>Descriptions du fichier planes :</font>   Le fichier planes.csv contient une petite description des avions utilisé sur les vols. Chaque avion est défini par les variables suivantes :\n",
    " * tailnum : l'identification de l'avion\n",
    " * year : l'année de construction de l'avion\n",
    " * type : le type de moteur\n",
    " * manufacturer : le constructeur de l'avion\n",
    " * model : le modèle de l'avion\n",
    " * engines : le nombre de moteurs utilisé\n",
    " * seats : le nombre de place\n",
    " * speed : la vitesse de l'avion\n",
    " * engine : le type de moteur utilisé"
   ]
  },
  {
   "cell_type": "code",
   "execution_count": 68,
   "metadata": {},
   "outputs": [
    {
     "name": "stdout",
     "output_type": "stream",
     "text": [
      "Pourcentage de données manquantes par colonnes de la datafram airports\n",
      "Unnamed: 0  =  0  =  0.0 %\n",
      "id  =  0  =  0.0 %\n",
      "ident  =  0  =  0.0 %\n",
      "type  =  0  =  0.0 %\n",
      "name  =  0  =  0.0 %\n",
      "latitude_deg  =  1  =  0.001796622349982034 %\n",
      "longitude_deg  =  1  =  0.001796622349982034 %\n",
      "elevation_ft  =  7095  =  12.747035573122531 %\n",
      "continent  =  27940  =  50.19762845849802 %\n",
      "iso_country  =  248  =  0.44556234279554435 %\n",
      "iso_region  =  1  =  0.001796622349982034 %\n",
      "municipality  =  5758  =  10.34495149119655 %\n",
      "scheduled_service  =  2  =  0.003593244699964068 %\n",
      "gps_code  =  14549  =  26.139058569888608 %\n",
      "iata_code  =  46461  =  83.47287100251528 %\n",
      "local_code  =  26638  =  47.858426158821416 %\n",
      "home_link  =  52636  =  94.56701401365433 %\n",
      "wikipedia_link  =  45708  =  82.1200143729788 %\n",
      "keywords  =  45977  =  82.60330578512396 %\n"
     ]
    }
   ],
   "source": [
    "# Pourcentage de Données Maquantes\n",
    "print(\"Pourcentage de données manquantes par colonnes de la datafram airports\")\n",
    "column_training_data=airports.columns\n",
    "\n",
    "for i in range(airports.shape[1]):\n",
    "    percentage=100*(airports[airports[column_training_data[i]].isnull()].shape[0]/airports.shape[0])\n",
    "    print(column_training_data[i],\" = \", airports[airports[column_training_data[i]].isnull()].shape[0],\" = \",percentage,\"%\")"
   ]
  },
  {
   "cell_type": "markdown",
   "metadata": {},
   "source": [
    "#### <font color='red'>Données manquantes dans airports :</font> Dans notre fichier airports, on constate que pour certaines variables, le pourcentage de données manquantes est très significatives comme on peut le voir ci-dessus."
   ]
  },
  {
   "cell_type": "code",
   "execution_count": 69,
   "metadata": {},
   "outputs": [
    {
     "name": "stdout",
     "output_type": "stream",
     "text": [
      "Pourcentage de données manquantes par colonnes de la datafram flights\n",
      "year  =  0  =  0.0 %\n",
      "month  =  0  =  0.0 %\n",
      "day  =  0  =  0.0 %\n",
      "dep_time  =  48  =  0.48 %\n",
      "dep_delay  =  48  =  0.48 %\n",
      "arr_time  =  55  =  0.5499999999999999 %\n",
      "arr_delay  =  75  =  0.75 %\n",
      "carrier  =  0  =  0.0 %\n",
      "tailnum  =  14  =  0.13999999999999999 %\n",
      "flight  =  0  =  0.0 %\n",
      "origin  =  0  =  0.0 %\n",
      "dest  =  0  =  0.0 %\n",
      "air_time  =  75  =  0.75 %\n",
      "distance  =  0  =  0.0 %\n",
      "hour  =  48  =  0.48 %\n",
      "minute  =  48  =  0.48 %\n"
     ]
    }
   ],
   "source": [
    "# Pourcentage de Données Maquantes\n",
    "print(\"Pourcentage de données manquantes par colonnes de la datafram flights\")\n",
    "column_training_data=flights.columns\n",
    "\n",
    "for i in range(flights.shape[1]):\n",
    "    percentage=100*(flights[flights[column_training_data[i]].isnull()].shape[0]/flights.shape[0])\n",
    "    print(column_training_data[i],\" = \", flights[flights[column_training_data[i]].isnull()].shape[0],\" = \",percentage,\"%\")"
   ]
  },
  {
   "cell_type": "markdown",
   "metadata": {},
   "source": [
    "#### <font color='red'>Données manquantes flights :</font> Dans les données contenues dans le dataframe flights, nous constatons qu'on a un faible taux de données manquantes sur les variables que nous considérerons. En effet, comme on peut le voir ci-dessus, nous avons 48 données manquantes sur les colonnes dep_time et dep_delay qui représente 0.48% du totale de données. On a presque la même chose sur les colonnes arr-time et arr_delay avec 0.54% et 0.75%... Comme ce pourcentage est négligeable par rapport à notre ensemble de données, nous prévoyons de supprimer les lignes ou se trouvent ses données manquantes au lieu d'essayer de les remplacer par interpolation par exemple."
   ]
  },
  {
   "cell_type": "code",
   "execution_count": 70,
   "metadata": {},
   "outputs": [
    {
     "name": "stdout",
     "output_type": "stream",
     "text": [
      "Pourcentage de données manquantes par colonnes de la datafram planes\n",
      "tailnum  =  0  =  0.0 %\n",
      "year  =  60  =  2.28310502283105 %\n",
      "type  =  0  =  0.0 %\n",
      "manufacturer  =  0  =  0.0 %\n",
      "model  =  0  =  0.0 %\n",
      "engines  =  0  =  0.0 %\n",
      "seats  =  0  =  0.0 %\n",
      "speed  =  2622  =  99.77168949771689 %\n",
      "engine  =  0  =  0.0 %\n"
     ]
    }
   ],
   "source": [
    "# Pourcentage de Données Maquantes\n",
    "print(\"Pourcentage de données manquantes par colonnes de la datafram planes\")\n",
    "column_training_data=planes.columns\n",
    "\n",
    "for i in range(planes.shape[1]):\n",
    "    percentage=100*(planes[planes[column_training_data[i]].isnull()].shape[0]/planes.shape[0])\n",
    "    print(column_training_data[i],\" = \", planes[planes[column_training_data[i]].isnull()].shape[0],\" = \",percentage,\"%\")"
   ]
  },
  {
   "cell_type": "markdown",
   "metadata": {},
   "source": [
    "#### <font color='red'>Données manquantes dans planes :</font> Dans notre fichier planes, on constate que seule la variables speed à un nombre significative de valeur manquante."
   ]
  },
  {
   "cell_type": "code",
   "execution_count": 71,
   "metadata": {},
   "outputs": [
    {
     "name": "stdout",
     "output_type": "stream",
     "text": [
      "           year        month           day     dep_time    dep_delay  \\\n",
      "count   10000.0  10000.00000  10000.000000  9952.000000  9952.000000   \n",
      "unique      NaN          NaN           NaN          NaN          NaN   \n",
      "top         NaN          NaN           NaN          NaN          NaN   \n",
      "freq        NaN          NaN           NaN          NaN          NaN   \n",
      "mean     2014.0      6.64380     15.700900  1277.115856     6.068629   \n",
      "std         0.0      3.31916      8.895142   524.114295    28.808608   \n",
      "min      2014.0      1.00000      1.000000     1.000000   -19.000000   \n",
      "25%      2014.0      4.00000      8.000000   831.000000    -5.000000   \n",
      "50%      2014.0      7.00000     16.000000  1216.000000    -2.000000   \n",
      "75%      2014.0      9.00000     23.000000  1720.000000     5.000000   \n",
      "max      2014.0     12.00000     31.000000  2400.000000   886.000000   \n",
      "\n",
      "           arr_time    arr_delay carrier tailnum        flight origin   dest  \\\n",
      "count   9945.000000  9925.000000   10000    9986  10000.000000  10000  10000   \n",
      "unique          NaN          NaN      11    2251           NaN      2     69   \n",
      "top             NaN          NaN      AS  N612AS           NaN    SEA    SFO   \n",
      "freq            NaN          NaN    3784      51           NaN   6754    787   \n",
      "mean    1477.723680     2.253098     NaN     NaN   1369.101100    NaN    NaN   \n",
      "std      526.593652    31.074919     NaN     NaN   1498.714574    NaN    NaN   \n",
      "min        1.000000   -58.000000     NaN     NaN      2.000000    NaN    NaN   \n",
      "25%     1122.000000   -12.000000     NaN     NaN    407.000000    NaN    NaN   \n",
      "50%     1517.000000    -4.000000     NaN     NaN    705.000000    NaN    NaN   \n",
      "75%     1916.000000     7.000000     NaN     NaN   1768.000000    NaN    NaN   \n",
      "max     2400.000000   900.000000     NaN     NaN   6527.000000    NaN    NaN   \n",
      "\n",
      "           air_time      distance         hour       minute  \n",
      "count   9925.000000  10000.000000  9952.000000  9952.000000  \n",
      "unique          NaN           NaN          NaN          NaN  \n",
      "top             NaN           NaN          NaN          NaN  \n",
      "freq            NaN           NaN          NaN          NaN  \n",
      "mean     152.884232   1208.151600    12.465434    30.572448  \n",
      "std       72.865629    656.859902     5.246263    17.985333  \n",
      "min       20.000000     93.000000     0.000000     0.000000  \n",
      "25%      102.000000    689.000000     8.000000    15.000000  \n",
      "50%      129.000000    991.000000    12.000000    31.000000  \n",
      "75%      200.000000   1660.000000    17.000000    47.000000  \n",
      "max      409.000000   2724.000000    24.000000    59.000000  \n"
     ]
    }
   ],
   "source": [
    "print(flights.describe(include=\"all\"))"
   ]
  },
  {
   "cell_type": "markdown",
   "metadata": {},
   "source": [
    "#### <font color='red'>Analyses du tableau flights:</font> Ci-dessus, on peut observer un résumé des variables contenues dans le tableau flights. Cette observation peut aussi nous donner une idée de la présence ou non de valeur aberrante."
   ]
  },
  {
   "cell_type": "markdown",
   "metadata": {},
   "source": [
    "# Modèle Prédictif des retards"
   ]
  },
  {
   "cell_type": "code",
   "execution_count": 72,
   "metadata": {},
   "outputs": [],
   "source": [
    "def Feature_Engineering_version_ARR_DELAY(data):\n",
    "    \"\"\"Nous utilisons cette fonction pour faire du feature engineering sur nos données \n",
    "    \"\"\"\n",
    "    # On supprime toute les valeurs maquantes\n",
    "    data =  data.dropna()\n",
    "    \n",
    "    #nous supprimons les colonnes dont nous aurons pas besoin\n",
    "    del data[\"year\"]      # Cette colonne est unitile car elle contient la meme valeur\n",
    "    del data[\"dep_time\"]  # Cette colonne est aussi inutile car c'est la meme chose que hours+minutes\n",
    "    \n",
    "    # On crée une nouvelle colonne qui contiendra la date de depart en minutes\n",
    "    data[\"depart_time\"]=data['month']*43800+data['day']*1440+data['hour']*60+data['minute']\n",
    "    \n",
    "    # supprimer les colonnes unitules\n",
    "    del data[\"month\"]\n",
    "    del data[\"day\"]\n",
    "    del data[\"hour\"]\n",
    "    del data[\"minute\"]\n",
    "\n",
    "    #--------------------------------------------------------------------------------------------------------------\n",
    "    #we transforme the categorial carrier\n",
    "    TEST_A=pd.get_dummies(data.carrier)\n",
    "    TEST_A_COLUMNS=TEST_A.columns\n",
    "    data['carrier'] = TEST_A[TEST_A_COLUMNS[0]]*0\n",
    "    i = 1\n",
    "    for INDEX in TEST_A_COLUMNS:\n",
    "        data['carrier']+=TEST_A[INDEX]*i\n",
    "        i = i+1\n",
    "    #--------------------------------------------------------------------------------------------------------------\n",
    "    #we transforme the categorial tailnum\n",
    "    TEST_A=pd.get_dummies(data.tailnum)\n",
    "    TEST_A_COLUMNS=TEST_A.columns\n",
    "    data['tailnum'] = TEST_A[TEST_A_COLUMNS[0]]*0\n",
    "    i = 1\n",
    "    for INDEX in TEST_A_COLUMNS:\n",
    "        data['tailnum']+=TEST_A[INDEX]*i\n",
    "        i = i+1\n",
    "    #--------------------------------------------------------------------------------------------------------------\n",
    "   #we transforme the categorial origin\n",
    "    TEST_A=pd.get_dummies(data.origin)\n",
    "    TEST_A_COLUMNS=TEST_A.columns\n",
    "    data['origin'] = TEST_A[TEST_A_COLUMNS[0]]*0\n",
    "    i = 1\n",
    "    for INDEX in TEST_A_COLUMNS:\n",
    "        data['origin']+=TEST_A[INDEX]*i\n",
    "        i = i+1\n",
    "    #--------------------------------------------------------------------------------------------------------------\n",
    "    #we transforme the categorial dest\n",
    "    TEST_A=pd.get_dummies(data.dest)\n",
    "    TEST_A_COLUMNS=TEST_A.columns\n",
    "    data['dest'] = TEST_A[TEST_A_COLUMNS[0]]*0\n",
    "    i = 1\n",
    "    for INDEX in TEST_A_COLUMNS:\n",
    "        data['dest']+=TEST_A[INDEX]*i\n",
    "        i = i+1\n",
    "    #--------------------------------------------------------------------------------------------------------------\n",
    "    #we transforme the categorial flight\n",
    "    TEST_A=pd.get_dummies(data.flight)\n",
    "    TEST_A_COLUMNS=TEST_A.columns\n",
    "    data['flight'] = TEST_A[TEST_A_COLUMNS[0]]*0\n",
    "    i = 1\n",
    "    for INDEX in TEST_A_COLUMNS:\n",
    "        data['flight']+=TEST_A[INDEX]*i\n",
    "        i = i+1\n",
    "    #--------------------------------------------------------------------------------------------------------------\n",
    "    \n",
    "    # normalisation des données\n",
    "    x = data.values #returns a numpy array\n",
    "    min_max_scaler = preprocessing.MinMaxScaler()\n",
    "    x_scaled = min_max_scaler.fit_transform(x)\n",
    "    data = pd.DataFrame(x_scaled)\n",
    "    \n",
    "    return data.values"
   ]
  },
  {
   "cell_type": "markdown",
   "metadata": {},
   "source": [
    "#### Preprocessing des données"
   ]
  },
  {
   "cell_type": "code",
   "execution_count": 73,
   "metadata": {},
   "outputs": [],
   "source": [
    "# build correct data\n",
    "# On supprime toute les valeurs maquantes\n",
    "flights =  flights.dropna()\n",
    "# supprimer la colonne arr_delay\n",
    "X = flights.loc[:, flights.columns != 'arr_delay']\n",
    "X = X.loc[:, X.columns != 'arr_time']\n",
    "Y = flights['arr_delay'].values"
   ]
  },
  {
   "cell_type": "code",
   "execution_count": 74,
   "metadata": {},
   "outputs": [],
   "source": [
    "x_train, x_test, y_train, y_test = train_test_split(X, Y, test_size=0.5, random_state=10)"
   ]
  },
  {
   "cell_type": "code",
   "execution_count": 75,
   "metadata": {},
   "outputs": [],
   "source": [
    "Y_node_train_preprocessing = y_train\n",
    "DATA_node_train_preprocessing = Feature_Engineering_version_ARR_DELAY(x_train)"
   ]
  },
  {
   "cell_type": "code",
   "execution_count": 76,
   "metadata": {},
   "outputs": [],
   "source": [
    "Y_node_test_preprocessing = y_test\n",
    "DATA_node_test_preprocessing = Feature_Engineering_version_ARR_DELAY(x_test)"
   ]
  },
  {
   "cell_type": "markdown",
   "metadata": {},
   "source": [
    "#### Tester plusieurs modèles de régression"
   ]
  },
  {
   "cell_type": "code",
   "execution_count": 77,
   "metadata": {},
   "outputs": [],
   "source": [
    "linear_reg = LinearRegression()\n",
    "xgb_clf_regressor = XGBRegressor(n_estimators=200, max_depth=5, learning_rate=0.07)\n",
    "random_forest_regressor = RandomForestRegressor(n_estimators = 200, random_state = 42)"
   ]
  },
  {
   "cell_type": "code",
   "execution_count": null,
   "metadata": {},
   "outputs": [],
   "source": [
    "scores = dict()\n",
    "scores['Linear Regression'] = np.mean(cross_val_score(linear_reg, DATA_node_train_preprocessing, Y_node_train_preprocessing, cv=5, scoring='neg_root_mean_squared_error'))\n",
    "scores['XGB Regressor'] = np.mean(cross_val_score(xgb_clf_regressor, DATA_node_train_preprocessing, Y_node_train_preprocessing, cv=5, scoring='neg_root_mean_squared_error'))\n",
    "scores['Random Forest Regressor'] = np.mean(cross_val_score(random_forest_regressor, DATA_node_train_preprocessing, Y_node_train_preprocessing, cv=5, scoring='neg_root_mean_squared_error'))"
   ]
  },
  {
   "cell_type": "code",
   "execution_count": null,
   "metadata": {},
   "outputs": [],
   "source": [
    "scores"
   ]
  },
  {
   "cell_type": "markdown",
   "metadata": {},
   "source": [
    "#### <font color='red'>Modèle à utiliser:</font> Ici, on constate que XGBRegressor nous donne les meilleurs résultats. Donc on va utiliser ce modèle pour faire l'étude."
   ]
  },
  {
   "cell_type": "markdown",
   "metadata": {},
   "source": [
    "#### GridSearchCV"
   ]
  },
  {
   "cell_type": "code",
   "execution_count": null,
   "metadata": {},
   "outputs": [],
   "source": [
    "xgb1 = XGBRegressor()\n",
    "parameters = {'nthread':[4], #when use hyperthread, xgboost may become slower\n",
    "              'objective':['reg:linear'],\n",
    "              'learning_rate': [.03, 0.05, .07], #so called `eta` value\n",
    "              'max_depth': [5, 6, 7],\n",
    "              'min_child_weight': [4],\n",
    "              'silent': [1],\n",
    "              'subsample': [0.7],\n",
    "              'colsample_bytree': [0.7],\n",
    "              'n_estimators': [500]}"
   ]
  },
  {
   "cell_type": "code",
   "execution_count": null,
   "metadata": {},
   "outputs": [],
   "source": [
    "xgb_grid = GridSearchCV(xgb1,\n",
    "                        parameters,\n",
    "                        cv = 2,\n",
    "                        n_jobs = 5,\n",
    "                        verbose=True)"
   ]
  },
  {
   "cell_type": "code",
   "execution_count": null,
   "metadata": {},
   "outputs": [],
   "source": [
    "xgb_grid.fit(DATA_node_train_preprocessing,Y_node_train_preprocessing)\n",
    "print(\"Best Score :\",xgb_grid.best_score_)"
   ]
  },
  {
   "cell_type": "code",
   "execution_count": null,
   "metadata": {},
   "outputs": [],
   "source": [
    "print(xgb_grid.best_params_)"
   ]
  },
  {
   "cell_type": "markdown",
   "metadata": {},
   "source": [
    "#### Prediction"
   ]
  },
  {
   "cell_type": "code",
   "execution_count": null,
   "metadata": {},
   "outputs": [],
   "source": [
    "xgb_clf_regressor = XGBRegressor(n_estimators=500, colsample_bytree=0.7, max_depth=5, min_child_weight=4, nthread= 4, learning_rate=0.05, silent=1, subsample = 0.7)\n",
    "#training the xgb model\n",
    "xgb_clf_regressor.fit(DATA_node_train_preprocessing, Y_node_train_preprocessing)\n",
    "#predictor and calcul rms\n",
    "prediction_=xgb_clf_regressor.predict(DATA_node_test_preprocessing)\n",
    "rmse=RMSE(Y_node_test_preprocessing,prediction_)\n"
   ]
  },
  {
   "cell_type": "code",
   "execution_count": null,
   "metadata": {},
   "outputs": [],
   "source": [
    "print(\" RMSE de la prediction = \",rmse)"
   ]
  },
  {
   "cell_type": "code",
   "execution_count": null,
   "metadata": {},
   "outputs": [],
   "source": []
  },
  {
   "cell_type": "code",
   "execution_count": null,
   "metadata": {},
   "outputs": [],
   "source": []
  },
  {
   "cell_type": "code",
   "execution_count": null,
   "metadata": {},
   "outputs": [],
   "source": []
  },
  {
   "cell_type": "code",
   "execution_count": null,
   "metadata": {},
   "outputs": [],
   "source": []
  }
 ],
 "metadata": {
  "kernelspec": {
   "display_name": "Python 3",
   "language": "python",
   "name": "python3"
  },
  "language_info": {
   "codemirror_mode": {
    "name": "ipython",
    "version": 3
   },
   "file_extension": ".py",
   "mimetype": "text/x-python",
   "name": "python",
   "nbconvert_exporter": "python",
   "pygments_lexer": "ipython3",
   "version": "3.7.6"
  }
 },
 "nbformat": 4,
 "nbformat_minor": 2
}
