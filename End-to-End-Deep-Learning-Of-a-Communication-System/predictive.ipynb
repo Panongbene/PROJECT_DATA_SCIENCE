{
 "cells": [
  {
   "cell_type": "markdown",
   "metadata": {},
   "source": [
    "# INF 554 / Lab 2 - Classification"
   ]
  },
  {
   "cell_type": "markdown",
   "metadata": {},
   "source": [
    "# I - Logistic Regression and Gradient Descent"
   ]
  },
  {
   "cell_type": "code",
   "execution_count": 21,
   "metadata": {},
   "outputs": [],
   "source": [
    "import numpy as np\n",
    "import matplotlib.pyplot as plt"
   ]
  },
  {
   "cell_type": "markdown",
   "metadata": {},
   "source": [
    "### Task 1"
   ]
  },
  {
   "cell_type": "code",
   "execution_count": 22,
   "metadata": {},
   "outputs": [],
   "source": [
    "def sigmoid(X):\n",
    "    return 1/(1+np.exp(x))"
   ]
  },
  {
   "cell_type": "markdown",
   "metadata": {},
   "source": [
    "### Task 2"
   ]
  },
  {
   "cell_type": "code",
   "execution_count": 23,
   "metadata": {},
   "outputs": [],
   "source": [
    "def cost_full(beta,x,y):\n",
    "    if(y==0):\n",
    "        return -(1-sigmoid(beta.dot(x)))\n",
    "    return -sigmoid(beta.dot(x))\n",
    "\n",
    "def cost(beta,X,Y):\n",
    "    som=1.0\n",
    "    for i in range(np.shape(Y)):\n",
    "        som=som*cost_full(beta,X[:,i],Y[i])\n",
    "    return som"
   ]
  },
  {
   "cell_type": "markdown",
   "metadata": {},
   "source": [
    "### Task 3"
   ]
  },
  {
   "cell_type": "code",
   "execution_count": 24,
   "metadata": {},
   "outputs": [],
   "source": [
    "def gradien_cost(beta,X,Y):\n",
    "    som=0\n",
    "    for i in range(np.shape(Y)):\n",
    "        som+=Y[i]*(X[:,i])-sigmoid(beta.dot(X[:,i]))*X[:,i]\n",
    "    return som"
   ]
  },
  {
   "cell_type": "markdown",
   "metadata": {},
   "source": [
    "### Task 4"
   ]
  },
  {
   "cell_type": "code",
   "execution_count": 25,
   "metadata": {},
   "outputs": [
    {
     "data": {
      "image/png": "[encoded data removed]",
      "text/plain": [
       "<Figure size 432x288 with 1 Axes>"
      ]
     },
     "metadata": {
      "needs_background": "light"
     },
     "output_type": "display_data"
    }
   ],
   "source": [
    "# Load the dataset\n",
    "data = np.loadtxt('./data/data.csv', delimiter=',')\n",
    "  \n",
    "#Add intercept term to \n",
    "data_1 = np.ones((data.shape[0], 4))\n",
    "data_1[:, 1:] = data\n",
    " \n",
    "n_test = 20\n",
    "X = data_1[:-n_test, 0:3]\n",
    "y = data_1[:-n_test, -1]\n",
    "X_test = data_1[-n_test:, 0:3]\n",
    "y_test = data_1[-n_test:, -1]\n",
    " \n",
    " \n",
    "# Plot data \n",
    "pos = np.where(y == 1) # instances of class 1\n",
    "neg = np.where(y == 0) # instances of class 0\n",
    "plt.scatter(X[pos, 1], X[pos, 2], marker='o', c='b')\n",
    "plt.scatter(X[neg, 1], X[neg, 2], marker='x', c='r')\n",
    "plt.xlabel('Exam 1 score')\n",
    "plt.ylabel('Exam 2 score')\n",
    "plt.legend(['Admitted', 'Not Admitted'])\n",
    "plt.show()"
   ]
  },
  {
   "cell_type": "code",
   "execution_count": 26,
   "metadata": {},
   "outputs": [],
   "source": [
    "def gradien_descente(beta,X,Y):\n",
    "    T=500000\n",
    "    alpha=0.005\n",
    "    for i in range(T):\n",
    "        beta=beta-gradien_cost(beta,X,Y)\n",
    "    return beta"
   ]
  },
  {
   "cell_type": "markdown",
   "metadata": {},
   "source": [
    "### Task 5"
   ]
  },
  {
   "cell_type": "code",
   "execution_count": 27,
   "metadata": {},
   "outputs": [],
   "source": [
    "def predic(beta,X):\n",
    "    ttt=sigmoid(beta.dot(X))\n",
    "    if ttt>0.5:\n",
    "        return 1\n",
    "    else:\n",
    "        return 0"
   ]
  },
  {
   "cell_type": "markdown",
   "metadata": {},
   "source": [
    "### Task 6"
   ]
  },
  {
   "cell_type": "code",
   "execution_count": null,
   "metadata": {},
   "outputs": [],
   "source": []
  },
  {
   "cell_type": "markdown",
   "metadata": {},
   "source": [
    "### Task 7"
   ]
  },
  {
   "cell_type": "code",
   "execution_count": null,
   "metadata": {},
   "outputs": [],
   "source": []
  },
  {
   "cell_type": "markdown",
   "metadata": {},
   "source": [
    "### Task 8"
   ]
  },
  {
   "cell_type": "code",
   "execution_count": null,
   "metadata": {},
   "outputs": [],
   "source": []
  }
 ],
 "metadata": {
  "kernelspec": {
   "display_name": "Python 3",
   "language": "python",
   "name": "python3"
  },
  "language_info": {
   "codemirror_mode": {
    "name": "ipython",
    "version": 3
   },
   "file_extension": ".py",
   "mimetype": "text/x-python",
   "name": "python",
   "nbconvert_exporter": "python",
   "pygments_lexer": "ipython3",
   "version": "3.7.1"
  }
 },
 "nbformat": 4,
 "nbformat_minor": 2
}
