{
 "cells": [
  {
   "cell_type": "markdown",
   "metadata": {},
   "source": [
    "# <center>MICAS913 - Deep Learning </center>#\n",
    "# <center> End-to-end Deep Learning of a Communication System </center>#\n",
    "#  NAMES: Hanin Hamdi #\n",
    "#  NAMES: PANONGBENE JEAN MOHAMED SAWADOGO #\n",
    "###  Email: hanin.hamdi@telecom-paris.fr #\n",
    "### Email: amet1900@gmail.com #\n",
    "### Github: https://github.com/Panongbene #"
   ]
  },
  {
   "cell_type": "code",
   "execution_count": 2,
   "metadata": {},
   "outputs": [],
   "source": [
    "import numpy as np\n",
    "import matplotlib.pyplot as plt"
   ]
  },
  {
   "cell_type": "code",
   "execution_count": null,
   "metadata": {},
   "outputs": [],
   "source": []
  },
  {
   "cell_type": "code",
   "execution_count": null,
   "metadata": {},
   "outputs": [],
   "source": []
  },
  {
   "cell_type": "markdown",
   "metadata": {},
   "source": [
    "## Variables "
   ]
  },
  {
   "cell_type": "code",
   "execution_count": 8,
   "metadata": {},
   "outputs": [],
   "source": [
    "# variables\n",
    "L = pow(10,6)                                       # distance\n",
    "B = pow(10,10)                                      # bandwidth\n",
    "\n",
    "# physical constants\n",
    "a_dB = 2*pow(10,-4)                                 # power loss in dB\n",
    "D = 17*pow(10,-6)                                   # dispersion ps/(nm-km)\n",
    "gama = 1.27*pow(10,-3)                              # nonlinearity coefficient\n",
    "nsp = 1                                             # a constant factor\n",
    "h = 6.626*pow(10,-34)                               # Planck constant\n",
    "lambda0 = 1.55*pow(10,-6)                           # center wavelength\n",
    "f0 = 3*pow(10,8)/lambda0                            # center frequency\n",
    "\n",
    "\n",
    "alpha = pow(10,-7)*np.log2(10)*0.2                  # loss coefficient\n",
    "beta2 = -(pow(lambda0,2)*D)/(2*3.14*3*pow(10,8))    # dispersion coefficient\n",
    "\n",
    "\n",
    "# scale factors\n",
    "L0 = L                                              #\n",
    "T0 = np.sqrt((-beta2*L)/2)                          #\n",
    "P0 = 2/(gama*L)                                     #\n",
    "\n",
    "# noise PSD\n",
    "sigma02 = nsp*h*alpha*f0                            # physical\n",
    "sigma2 = (sigma02*L)/(P0*T0)                        # normalized"
   ]
  },
  {
   "cell_type": "markdown",
   "metadata": {},
   "source": [
    "## Plot Constellation"
   ]
  },
  {
   "cell_type": "code",
   "execution_count": 41,
   "metadata": {},
   "outputs": [
    {
     "name": "stdout",
     "output_type": "stream",
     "text": [
      "Normalize Peak Power =  0.26246719160104987\n"
     ]
    }
   ],
   "source": [
    "print(\"Normalize Peak Power = \", P0/(6*pow(10,-3)))"
   ]
  },
  {
   "cell_type": "code",
   "execution_count": 32,
   "metadata": {},
   "outputs": [],
   "source": [
    "# Mapping Table\n",
    "mapping_table = {\n",
    "    (0,0,0,0) : -3-3j,\n",
    "    (0,0,0,1) : -3-1j,\n",
    "    (0,0,1,0) : -3+3j,\n",
    "    (0,0,1,1) : -3+1j,\n",
    "    (0,1,0,0) : -1-3j,\n",
    "    (0,1,0,1) : -1-1j,\n",
    "    (0,1,1,0) : -1+3j,\n",
    "    (0,1,1,1) : -1+1j,\n",
    "    (1,0,0,0) :  3-3j,\n",
    "    (1,0,0,1) :  3-1j,\n",
    "    (1,0,1,0) :  3+3j,\n",
    "    (1,0,1,1) :  3+1j,\n",
    "    (1,1,0,0) :  1-3j,\n",
    "    (1,1,0,1) :  1-1j,\n",
    "    (1,1,1,0) :  1+3j,\n",
    "    (1,1,1,1) :  1+1j\n",
    "}\n",
    "\n",
    "X = np.arange(-4,5,1)\n",
    "X1 = X*0\n",
    "\n",
    "Y1 = np.arange(-4,5,1)\n",
    "Y = Y1*0"
   ]
  },
  {
   "cell_type": "code",
   "execution_count": 36,
   "metadata": {},
   "outputs": [
    {
     "data": {
      "image/png": "[encoded data removed]",
      "text/plain": [
       "<Figure size 1080x1080 with 1 Axes>"
      ]
     },
     "metadata": {
      "needs_background": "light"
     },
     "output_type": "display_data"
    }
   ],
   "source": [
    "plt.figure(figsize=(15,15))\n",
    "\n",
    "for i in [0, 1]:\n",
    "    for j in [0, 1]:\n",
    "        for k in [0, 1]:\n",
    "            for l in [0, 1]:\n",
    "                B = (i, j, k, l)\n",
    "                Q = mapping_table[B]\n",
    "                plt.plot(Q.real, Q.imag, 'bo')\n",
    "                plt.text(Q.real, Q.imag+0.2, \"\".join(str(x) for x in B), ha='center')\n",
    "\n",
    "plt.plot(X,X1)\n",
    "plt.plot(Y,Y1)\n",
    "\n",
    "plt.title(\"16-QAM\")\n",
    "plt.xlabel('Real values')\n",
    "plt.ylabel('Imaginary values')\n",
    "\n",
    "plt.savefig('constellation.png')\n",
    "plt.show()"
   ]
  },
  {
   "cell_type": "markdown",
   "metadata": {},
   "source": [
    "## Generate Binary Source"
   ]
  },
  {
   "cell_type": "code",
   "execution_count": 45,
   "metadata": {},
   "outputs": [],
   "source": [
    "def source(N, p):\n",
    "    \"\"\"This function Generate the binary source\"\"\"\n",
    "    \n",
    "    return np.random.binomial(1, p, N)        "
   ]
  },
  {
   "cell_type": "code",
   "execution_count": 90,
   "metadata": {},
   "outputs": [
    {
     "data": {
      "text/plain": [
       "1024"
      ]
     },
     "execution_count": 90,
     "metadata": {},
     "output_type": "execute_result"
    }
   ],
   "source": [
    "len(source(1024, 1/2))"
   ]
  },
  {
   "cell_type": "markdown",
   "metadata": {},
   "source": [
    "## Bits To Symbols Mapping"
   ]
  },
  {
   "cell_type": "code",
   "execution_count": 426,
   "metadata": {},
   "outputs": [],
   "source": [
    "def symbols_binariry_sequence(M):\n",
    "    \"\"\"This function map M symbols point to a binary sequence length log2(M)\"\"\"\n",
    "    \n",
    "    mapping_M = dict()\n",
    "    \n",
    "    for i in range(M):\n",
    "        tamp = bin(i)[2:]\n",
    "        lenght_tamp = int(np.log2(M))-len(tamp)\n",
    "        for j in range(lenght_tamp):\n",
    "            tamp='0'+tamp\n",
    "        mapping_M[i] = tamp\n",
    "        \n",
    "    return mapping_M"
   ]
  },
  {
   "cell_type": "code",
   "execution_count": 429,
   "metadata": {},
   "outputs": [
    {
     "data": {
      "text/plain": [
       "{0: '000',\n",
       " 1: '001',\n",
       " 2: '010',\n",
       " 3: '011',\n",
       " 4: '100',\n",
       " 5: '101',\n",
       " 6: '110',\n",
       " 7: '111'}"
      ]
     },
     "execution_count": 429,
     "metadata": {},
     "output_type": "execute_result"
    }
   ],
   "source": [
    "symbols_binariry_sequence(8)"
   ]
  },
  {
   "cell_type": "code",
   "execution_count": 430,
   "metadata": {},
   "outputs": [],
   "source": [
    "def ham_dist(chaine1, chaine2):\n",
    "    \"\"\"This function compute the hamming distance\"\"\"\n",
    "    \n",
    "    return sum(c1!=c2 for c1, c2 in zip(chaine1, chaine2))  "
   ]
  },
  {
   "cell_type": "code",
   "execution_count": 431,
   "metadata": {},
   "outputs": [],
   "source": [
    "def symbol_binariry_sequence_gray(M):\n",
    "    \"\"\"This function map M symbols to a binary sequence length log2(M) such that menimizing the hamming distance...\"\"\"\n",
    "    \n",
    "    tamp_mapping = symbols_binariry_sequence(M)\n",
    "    \n",
    "    mapping_M_gray = dict()\n",
    "    \n",
    "    mapping_M_gray[0] = tamp_mapping[0]\n",
    "    \n",
    "    del tamp_mapping[0]\n",
    "    \n",
    "    for i in range(1, M):\n",
    "        k = 1\n",
    "        for j in tamp_mapping:\n",
    "            if(ham_dist(mapping_M_gray[i-1], tamp_mapping[j]) == 1):\n",
    "                    #print(i, \"  \", j)\n",
    "                    mapping_M_gray[i] = tamp_mapping[j]\n",
    "                    del tamp_mapping[j] \n",
    "                    break\n",
    "            k += 1\n",
    "        \n",
    "            if(k == len(tamp_mapping)):\n",
    "                return mapping_M_gray\n",
    "                    \n",
    "                    \n",
    "    return mapping_M_gray"
   ]
  },
  {
   "cell_type": "code",
   "execution_count": 432,
   "metadata": {},
   "outputs": [
    {
     "data": {
      "text/plain": [
       "{0: '000',\n",
       " 1: '001',\n",
       " 2: '011',\n",
       " 3: '010',\n",
       " 4: '110',\n",
       " 5: '100',\n",
       " 6: '101',\n",
       " 7: '111'}"
      ]
     },
     "execution_count": 432,
     "metadata": {},
     "output_type": "execute_result"
    }
   ],
   "source": [
    "symbol_binariry_sequence_gray(8)"
   ]
  },
  {
   "cell_type": "code",
   "execution_count": 448,
   "metadata": {},
   "outputs": [],
   "source": [
    "def mapping_complexe_constellation(cnt):\n",
    "    \"\"\"This function map the symbol in complex\"\"\"\n",
    "    \n",
    "    M = len(cnt)\n",
    "    M_log = int(np.log2(M))\n",
    "    \n",
    "    tamp_n = M//4\n",
    "    tamp_n =  int(np.sqrt(tamp_n))\n",
    "    X = [i+1 for i in range(tamp_n)]\n",
    "    Y = [i+1 for i in range(tamp_n)]\n",
    "    \n",
    "    # Mapping\n",
    "    S_tamp = dict()\n",
    "    S_tamp_1 = dict()\n",
    "    \n",
    "    m_X = -tamp_n-1\n",
    "    m_Y = tamp_n-1\n",
    "    X_ = [-tamp_n]\n",
    "    Y_ = [tamp_n]\n",
    "\n",
    "    for i in range(2*tamp_n):\n",
    "        if(m_X==0):\n",
    "            m_X = m_X+1\n",
    "            m_Y = m_Y-1\n",
    "            continue\n",
    "    \n",
    "        X_.append(m_X)\n",
    "        Y_.append(m_Y)\n",
    "        m_Y-=1\n",
    "        m_X+=1\n",
    "        \n",
    "    k = 0\n",
    "    for i in Y_:\n",
    "        for j in X_:\n",
    "            S_tamp[k] = j+i*1j\n",
    "            k+=1\n",
    "            \n",
    "    for i in range(M):\n",
    "        S_tamp_1[cnt[i]] = S_tamp[i]        \n",
    "    \n",
    "    return S_tamp_1"
   ]
  },
  {
   "cell_type": "code",
   "execution_count": 449,
   "metadata": {},
   "outputs": [],
   "source": [
    "def bit_to_symb(B, cnt):\n",
    "    \"\"\"This function \"\"\"\n",
    "\n",
    "    M = len(cnt)\n",
    "    M_log = int(np.log2(M))\n",
    "    n = int(len(B)/M_log)\n",
    "    \n",
    "    sub_sequence = dict()\n",
    "\n",
    "    for i in range(n):\n",
    "        tamp = \"\"\n",
    "        for j in range(M_log):\n",
    "            tamp = tamp +str(B[i*M_log+j])\n",
    "        sub_sequence[i] = tamp\n",
    "    \n",
    "    # Mapping\n",
    "    S_tamp_1 = mapping_complexe_constellation(cnt)\n",
    "\n",
    "    S = dict()\n",
    "    \n",
    "    for i in range(n):\n",
    "        S[i] = S_tamp_1[sub_sequence[i]]\n",
    "    return S"
   ]
  },
  {
   "cell_type": "code",
   "execution_count": 450,
   "metadata": {},
   "outputs": [],
   "source": [
    "# Test\n",
    "B = source(1024, 1/2)\n",
    "cnt = symbols_binariry_sequence(64)\n",
    "S = bit_to_symb(B, cnt)"
   ]
  },
  {
   "cell_type": "code",
   "execution_count": 451,
   "metadata": {},
   "outputs": [
    {
     "data": {
      "text/plain": [
       "(1+1j)"
      ]
     },
     "execution_count": 451,
     "metadata": {},
     "output_type": "execute_result"
    }
   ],
   "source": [
    "#print(S[0])\n",
    "S[0]"
   ]
  },
  {
   "cell_type": "markdown",
   "metadata": {},
   "source": [
    "## Complete Main.m"
   ]
  },
  {
   "cell_type": "code",
   "execution_count": 454,
   "metadata": {},
   "outputs": [],
   "source": [
    "# time mesh\n",
    "T = 400                              # you have to choose this\n",
    "N = pow(2,10)                        # you have to choose this\n",
    "dt = T/N\n",
    "\n",
    "# frequency mesh\n",
    "F = 1/dt\n",
    "df = 1/T\n",
    "\n",
    "\n",
    "Bandwidth = 3\n",
    "\n",
    "# bits to signal\n",
    "M = 16                               # size of the constellation\n",
    "n = 3                                # number of symbols (or sinc functions); test with s=1\n",
    "p =1/2                               # probability of zero\n",
    "b = source(nb, p)                    # Bernoulli source, random bits sequence\n",
    "cnt = symbols_binariry_sequence(M)\n",
    "s = bit_to_symb(b, cnt)              # symbol sequence; could be inside modulator.m\n",
    "#q0 = mod(t, s, Bandwidth);                   # transmitted signal\n",
    "#----------------------------------------------------------------------------------------------------\n",
    "#t =np.arrange()\n",
    "t =np.arange(N)*0.0                  # should be from -T/2 to T/2 with length N\n",
    "f =np.arange(N)*0.0                  # should be from -F/2 to F/2 with length N\n",
    "\n",
    "for j in range(N):\n",
    "    t[j] = -(T/2)+(T/(N-1))*j\n",
    "    f[j] = -(F/2)+(F/(N-1))*j*1.0\n",
    "\n",
    "nb = L*int(np.log2(M))               # number of bits"
   ]
  },
  {
   "cell_type": "markdown",
   "metadata": {},
   "source": [
    "## Modulation"
   ]
  },
  {
   "cell_type": "code",
   "execution_count": 475,
   "metadata": {},
   "outputs": [],
   "source": [
    "def mod(t, S, Bandwidth):\n",
    "    \"\"\"This function compute the modulation\"\"\"\n",
    "    \n",
    "    Ns = len(s)\n",
    "    l1 = -int(Ns/2)\n",
    "    \n",
    "    q_0_t = 0+0j\n",
    "    \n",
    "    for j in range(Ns):\n",
    "        q_0_t+=S[j]*np.sin(Bandwidth*t-(l1+j))/(Bandwidth*t-(l1+j))\n",
    "    \n",
    "    return np.sqrt(Bandwidth)*q_0_t"
   ]
  },
  {
   "cell_type": "code",
   "execution_count": 1,
   "metadata": {},
   "outputs": [],
   "source": [
    "mod(0.1, s, Bandwidth)"
   ]
  },
  {
   "cell_type": "markdown",
   "metadata": {},
   "source": [
    "## Q(t,0) in Time and In Frequence"
   ]
  },
  {
   "cell_type": "code",
   "execution_count": null,
   "metadata": {},
   "outputs": [],
   "source": [
    "Q_t_0 = list()\n",
    "Bandwidth = pow(10,10)\n",
    "for i in t:\n",
    "    Q_t_0.append(mod(i, s, Bandwidth).real)"
   ]
  },
  {
   "cell_type": "code",
   "execution_count": null,
   "metadata": {},
   "outputs": [],
   "source": [
    "plt.plot(t,Q_t_0)\n",
    "\n",
    "plt.title(\"16-QAM\")\n",
    "plt.xlabel('Times(s)')\n",
    "plt.ylabel('real(Q(t,0)) ')\n",
    "\n",
    "#plt.savefig('constellation.png')\n",
    "plt.show()"
   ]
  },
  {
   "cell_type": "code",
   "execution_count": null,
   "metadata": {},
   "outputs": [],
   "source": []
  },
  {
   "cell_type": "code",
   "execution_count": null,
   "metadata": {},
   "outputs": [],
   "source": []
  }
 ],
 "metadata": {
  "kernelspec": {
   "display_name": "Python 3",
   "language": "python",
   "name": "python3"
  },
  "language_info": {
   "codemirror_mode": {
    "name": "ipython",
    "version": 3
   },
   "file_extension": ".py",
   "mimetype": "text/x-python",
   "name": "python",
   "nbconvert_exporter": "python",
   "pygments_lexer": "ipython3",
   "version": "3.7.6"
  }
 },
 "nbformat": 4,
 "nbformat_minor": 2
}
