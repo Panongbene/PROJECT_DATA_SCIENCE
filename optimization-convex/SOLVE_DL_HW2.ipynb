{
 "cells": [
  {
   "cell_type": "markdown",
   "metadata": {},
   "source": [
    "# <center>MICAS901 - Introduction to Optimization </center>#\n",
    "# <center> Homework 2 </center>#\n",
    "#  NAMES: PANONGBENE JEAN MOHAMED SAWADOGO #\n",
    "# Email: amet1900@gmail.com #\n",
    "# Github: https://github.com/Panongbene #"
   ]
  },
  {
   "cell_type": "code",
   "execution_count": 1,
   "metadata": {},
   "outputs": [],
   "source": [
    "import numpy as np\n",
    "import pandas as pd\n",
    "from datetime import datetime\n",
    "import matplotlib.pyplot as plt"
   ]
  },
  {
   "cell_type": "code",
   "execution_count": 2,
   "metadata": {},
   "outputs": [],
   "source": [
    "%matplotlib inline"
   ]
  },
  {
   "cell_type": "markdown",
   "metadata": {},
   "source": [
    "## IMPORTING DATA "
   ]
  },
  {
   "cell_type": "code",
   "execution_count": 3,
   "metadata": {},
   "outputs": [],
   "source": [
    "#load the data\n",
    "communites_and_crime=pd.read_csv(\"DATA/communites_and_crime.csv\", header = None)#data lecture without name column\n",
    "household_power_consumption=pd.read_csv(\"DATA/Household_power_consumption.csv\")"
   ]
  },
  {
   "cell_type": "code",
   "execution_count": 4,
   "metadata": {},
   "outputs": [
    {
     "name": "stdout",
     "output_type": "stream",
     "text": [
      "Communites and Crime Dataset        =  (1994, 128)\n",
      "Hosehold Power Consumption size     =  (2075259, 9)\n"
     ]
    }
   ],
   "source": [
    "#to see the size of the datas\n",
    "print(\"Communites and Crime Dataset        = \",communites_and_crime.shape)\n",
    "print(\"Hosehold Power Consumption size     = \",household_power_consumption.shape)"
   ]
  },
  {
   "cell_type": "markdown",
   "metadata": {},
   "source": [
    "# PREPROCESSING"
   ]
  },
  {
   "cell_type": "code",
   "execution_count": 5,
   "metadata": {},
   "outputs": [
    {
     "name": "stdout",
     "output_type": "stream",
     "text": [
      "communites_and_crime[ 0 ] ==  int64\n",
      "#----------------------------------------------------------------------------------------------#\n",
      "communites_and_crime[ 1 ] ==  object\n",
      "#----------------------------------------------------------------------------------------------#\n",
      "communites_and_crime[ 2 ] ==  object\n",
      "#----------------------------------------------------------------------------------------------#\n",
      "communites_and_crime[ 3 ] ==  object\n",
      "#----------------------------------------------------------------------------------------------#\n",
      "communites_and_crime[ 4 ] ==  int64\n",
      "#----------------------------------------------------------------------------------------------#\n",
      "communites_and_crime[ 5 ] ==  float64\n",
      "#----------------------------------------------------------------------------------------------#\n",
      "communites_and_crime[ 6 ] ==  float64\n",
      "#----------------------------------------------------------------------------------------------#\n",
      "communites_and_crime[ 7 ] ==  float64\n",
      "#----------------------------------------------------------------------------------------------#\n",
      "communites_and_crime[ 8 ] ==  float64\n",
      "#----------------------------------------------------------------------------------------------#\n",
      "communites_and_crime[ 9 ] ==  float64\n",
      "#----------------------------------------------------------------------------------------------#\n",
      "communites_and_crime[ 10 ] ==  float64\n",
      "#----------------------------------------------------------------------------------------------#\n",
      "communites_and_crime[ 11 ] ==  float64\n",
      "#----------------------------------------------------------------------------------------------#\n",
      "communites_and_crime[ 12 ] ==  float64\n",
      "#----------------------------------------------------------------------------------------------#\n",
      "communites_and_crime[ 13 ] ==  float64\n",
      "#----------------------------------------------------------------------------------------------#\n",
      "communites_and_crime[ 14 ] ==  float64\n",
      "#----------------------------------------------------------------------------------------------#\n",
      "communites_and_crime[ 15 ] ==  float64\n",
      "#----------------------------------------------------------------------------------------------#\n",
      "communites_and_crime[ 16 ] ==  float64\n",
      "#----------------------------------------------------------------------------------------------#\n",
      "communites_and_crime[ 17 ] ==  float64\n",
      "#----------------------------------------------------------------------------------------------#\n",
      "communites_and_crime[ 18 ] ==  float64\n",
      "#----------------------------------------------------------------------------------------------#\n",
      "communites_and_crime[ 19 ] ==  float64\n",
      "#----------------------------------------------------------------------------------------------#\n",
      "communites_and_crime[ 20 ] ==  float64\n",
      "#----------------------------------------------------------------------------------------------#\n",
      "communites_and_crime[ 21 ] ==  float64\n",
      "#----------------------------------------------------------------------------------------------#\n",
      "communites_and_crime[ 22 ] ==  float64\n",
      "#----------------------------------------------------------------------------------------------#\n",
      "communites_and_crime[ 23 ] ==  float64\n",
      "#----------------------------------------------------------------------------------------------#\n",
      "communites_and_crime[ 24 ] ==  float64\n",
      "#----------------------------------------------------------------------------------------------#\n",
      "communites_and_crime[ 25 ] ==  float64\n",
      "#----------------------------------------------------------------------------------------------#\n",
      "communites_and_crime[ 26 ] ==  float64\n",
      "#----------------------------------------------------------------------------------------------#\n",
      "communites_and_crime[ 27 ] ==  float64\n",
      "#----------------------------------------------------------------------------------------------#\n",
      "communites_and_crime[ 28 ] ==  float64\n",
      "#----------------------------------------------------------------------------------------------#\n",
      "communites_and_crime[ 29 ] ==  float64\n",
      "#----------------------------------------------------------------------------------------------#\n",
      "communites_and_crime[ 30 ] ==  object\n",
      "#----------------------------------------------------------------------------------------------#\n",
      "communites_and_crime[ 31 ] ==  float64\n",
      "#----------------------------------------------------------------------------------------------#\n",
      "communites_and_crime[ 32 ] ==  float64\n",
      "#----------------------------------------------------------------------------------------------#\n",
      "communites_and_crime[ 33 ] ==  float64\n",
      "#----------------------------------------------------------------------------------------------#\n",
      "communites_and_crime[ 34 ] ==  float64\n",
      "#----------------------------------------------------------------------------------------------#\n",
      "communites_and_crime[ 35 ] ==  float64\n",
      "#----------------------------------------------------------------------------------------------#\n",
      "communites_and_crime[ 36 ] ==  float64\n",
      "#----------------------------------------------------------------------------------------------#\n",
      "communites_and_crime[ 37 ] ==  float64\n",
      "#----------------------------------------------------------------------------------------------#\n",
      "communites_and_crime[ 38 ] ==  float64\n",
      "#----------------------------------------------------------------------------------------------#\n",
      "communites_and_crime[ 39 ] ==  float64\n",
      "#----------------------------------------------------------------------------------------------#\n",
      "communites_and_crime[ 40 ] ==  float64\n",
      "#----------------------------------------------------------------------------------------------#\n",
      "communites_and_crime[ 41 ] ==  float64\n",
      "#----------------------------------------------------------------------------------------------#\n",
      "communites_and_crime[ 42 ] ==  float64\n",
      "#----------------------------------------------------------------------------------------------#\n",
      "communites_and_crime[ 43 ] ==  float64\n",
      "#----------------------------------------------------------------------------------------------#\n",
      "communites_and_crime[ 44 ] ==  float64\n",
      "#----------------------------------------------------------------------------------------------#\n",
      "communites_and_crime[ 45 ] ==  float64\n",
      "#----------------------------------------------------------------------------------------------#\n",
      "communites_and_crime[ 46 ] ==  float64\n",
      "#----------------------------------------------------------------------------------------------#\n",
      "communites_and_crime[ 47 ] ==  float64\n",
      "#----------------------------------------------------------------------------------------------#\n",
      "communites_and_crime[ 48 ] ==  float64\n",
      "#----------------------------------------------------------------------------------------------#\n",
      "communites_and_crime[ 49 ] ==  float64\n",
      "#----------------------------------------------------------------------------------------------#\n",
      "communites_and_crime[ 50 ] ==  float64\n",
      "#----------------------------------------------------------------------------------------------#\n",
      "communites_and_crime[ 51 ] ==  float64\n",
      "#----------------------------------------------------------------------------------------------#\n",
      "communites_and_crime[ 52 ] ==  float64\n",
      "#----------------------------------------------------------------------------------------------#\n",
      "communites_and_crime[ 53 ] ==  float64\n",
      "#----------------------------------------------------------------------------------------------#\n",
      "communites_and_crime[ 54 ] ==  float64\n",
      "#----------------------------------------------------------------------------------------------#\n",
      "communites_and_crime[ 55 ] ==  float64\n",
      "#----------------------------------------------------------------------------------------------#\n",
      "communites_and_crime[ 56 ] ==  float64\n",
      "#----------------------------------------------------------------------------------------------#\n",
      "communites_and_crime[ 57 ] ==  float64\n",
      "#----------------------------------------------------------------------------------------------#\n",
      "communites_and_crime[ 58 ] ==  float64\n",
      "#----------------------------------------------------------------------------------------------#\n",
      "communites_and_crime[ 59 ] ==  float64\n",
      "#----------------------------------------------------------------------------------------------#\n",
      "communites_and_crime[ 60 ] ==  float64\n",
      "#----------------------------------------------------------------------------------------------#\n",
      "communites_and_crime[ 61 ] ==  float64\n",
      "#----------------------------------------------------------------------------------------------#\n",
      "communites_and_crime[ 62 ] ==  float64\n",
      "#----------------------------------------------------------------------------------------------#\n",
      "communites_and_crime[ 63 ] ==  float64\n",
      "#----------------------------------------------------------------------------------------------#\n",
      "communites_and_crime[ 64 ] ==  float64\n",
      "#----------------------------------------------------------------------------------------------#\n",
      "communites_and_crime[ 65 ] ==  float64\n",
      "#----------------------------------------------------------------------------------------------#\n",
      "communites_and_crime[ 66 ] ==  float64\n",
      "#----------------------------------------------------------------------------------------------#\n",
      "communites_and_crime[ 67 ] ==  float64\n",
      "#----------------------------------------------------------------------------------------------#\n",
      "communites_and_crime[ 68 ] ==  float64\n",
      "#----------------------------------------------------------------------------------------------#\n",
      "communites_and_crime[ 69 ] ==  float64\n",
      "#----------------------------------------------------------------------------------------------#\n",
      "communites_and_crime[ 70 ] ==  float64\n",
      "#----------------------------------------------------------------------------------------------#\n",
      "communites_and_crime[ 71 ] ==  float64\n",
      "#----------------------------------------------------------------------------------------------#\n",
      "communites_and_crime[ 72 ] ==  float64\n",
      "#----------------------------------------------------------------------------------------------#\n",
      "communites_and_crime[ 73 ] ==  float64\n",
      "#----------------------------------------------------------------------------------------------#\n",
      "communites_and_crime[ 74 ] ==  float64\n",
      "#----------------------------------------------------------------------------------------------#\n",
      "communites_and_crime[ 75 ] ==  float64\n",
      "#----------------------------------------------------------------------------------------------#\n",
      "communites_and_crime[ 76 ] ==  float64\n",
      "#----------------------------------------------------------------------------------------------#\n",
      "communites_and_crime[ 77 ] ==  float64\n",
      "#----------------------------------------------------------------------------------------------#\n",
      "communites_and_crime[ 78 ] ==  float64\n",
      "#----------------------------------------------------------------------------------------------#\n",
      "communites_and_crime[ 79 ] ==  float64\n",
      "#----------------------------------------------------------------------------------------------#\n",
      "communites_and_crime[ 80 ] ==  float64\n",
      "#----------------------------------------------------------------------------------------------#\n",
      "communites_and_crime[ 81 ] ==  float64\n",
      "#----------------------------------------------------------------------------------------------#\n",
      "communites_and_crime[ 82 ] ==  float64\n",
      "#----------------------------------------------------------------------------------------------#\n",
      "communites_and_crime[ 83 ] ==  float64\n",
      "#----------------------------------------------------------------------------------------------#\n",
      "communites_and_crime[ 84 ] ==  float64\n",
      "#----------------------------------------------------------------------------------------------#\n",
      "communites_and_crime[ 85 ] ==  float64\n",
      "#----------------------------------------------------------------------------------------------#\n",
      "communites_and_crime[ 86 ] ==  float64\n",
      "#----------------------------------------------------------------------------------------------#\n",
      "communites_and_crime[ 87 ] ==  float64\n",
      "#----------------------------------------------------------------------------------------------#\n",
      "communites_and_crime[ 88 ] ==  float64\n",
      "#----------------------------------------------------------------------------------------------#\n",
      "communites_and_crime[ 89 ] ==  float64\n",
      "#----------------------------------------------------------------------------------------------#\n",
      "communites_and_crime[ 90 ] ==  float64\n",
      "#----------------------------------------------------------------------------------------------#\n",
      "communites_and_crime[ 91 ] ==  float64\n",
      "#----------------------------------------------------------------------------------------------#\n",
      "communites_and_crime[ 92 ] ==  float64\n",
      "#----------------------------------------------------------------------------------------------#\n",
      "communites_and_crime[ 93 ] ==  float64\n",
      "#----------------------------------------------------------------------------------------------#\n",
      "communites_and_crime[ 94 ] ==  float64\n",
      "#----------------------------------------------------------------------------------------------#\n",
      "communites_and_crime[ 95 ] ==  float64\n",
      "#----------------------------------------------------------------------------------------------#\n",
      "communites_and_crime[ 96 ] ==  float64\n",
      "#----------------------------------------------------------------------------------------------#\n",
      "communites_and_crime[ 97 ] ==  float64\n",
      "#----------------------------------------------------------------------------------------------#\n",
      "communites_and_crime[ 98 ] ==  float64\n",
      "#----------------------------------------------------------------------------------------------#\n",
      "communites_and_crime[ 99 ] ==  float64\n",
      "#----------------------------------------------------------------------------------------------#\n",
      "communites_and_crime[ 100 ] ==  float64\n",
      "#----------------------------------------------------------------------------------------------#\n",
      "communites_and_crime[ 101 ] ==  object\n",
      "#----------------------------------------------------------------------------------------------#\n",
      "communites_and_crime[ 102 ] ==  object\n",
      "#----------------------------------------------------------------------------------------------#\n",
      "communites_and_crime[ 103 ] ==  object\n",
      "#----------------------------------------------------------------------------------------------#\n",
      "communites_and_crime[ 104 ] ==  object\n",
      "#----------------------------------------------------------------------------------------------#\n",
      "communites_and_crime[ 105 ] ==  object\n",
      "#----------------------------------------------------------------------------------------------#\n",
      "communites_and_crime[ 106 ] ==  object\n",
      "#----------------------------------------------------------------------------------------------#\n",
      "communites_and_crime[ 107 ] ==  object\n",
      "#----------------------------------------------------------------------------------------------#\n",
      "communites_and_crime[ 108 ] ==  object\n",
      "#----------------------------------------------------------------------------------------------#\n",
      "communites_and_crime[ 109 ] ==  object\n",
      "#----------------------------------------------------------------------------------------------#\n",
      "communites_and_crime[ 110 ] ==  object\n",
      "#----------------------------------------------------------------------------------------------#\n",
      "communites_and_crime[ 111 ] ==  object\n",
      "#----------------------------------------------------------------------------------------------#\n",
      "communites_and_crime[ 112 ] ==  object\n",
      "#----------------------------------------------------------------------------------------------#\n",
      "communites_and_crime[ 113 ] ==  object\n",
      "#----------------------------------------------------------------------------------------------#\n",
      "communites_and_crime[ 114 ] ==  object\n",
      "#----------------------------------------------------------------------------------------------#\n",
      "communites_and_crime[ 115 ] ==  object\n",
      "#----------------------------------------------------------------------------------------------#\n",
      "communites_and_crime[ 116 ] ==  object\n",
      "#----------------------------------------------------------------------------------------------#\n",
      "communites_and_crime[ 117 ] ==  object\n",
      "#----------------------------------------------------------------------------------------------#\n",
      "communites_and_crime[ 118 ] ==  float64\n",
      "#----------------------------------------------------------------------------------------------#\n",
      "communites_and_crime[ 119 ] ==  float64\n",
      "#----------------------------------------------------------------------------------------------#\n",
      "communites_and_crime[ 120 ] ==  float64\n",
      "#----------------------------------------------------------------------------------------------#\n",
      "communites_and_crime[ 121 ] ==  object\n",
      "#----------------------------------------------------------------------------------------------#\n",
      "communites_and_crime[ 122 ] ==  object\n",
      "#----------------------------------------------------------------------------------------------#\n",
      "communites_and_crime[ 123 ] ==  object\n",
      "#----------------------------------------------------------------------------------------------#\n",
      "communites_and_crime[ 124 ] ==  object\n",
      "#----------------------------------------------------------------------------------------------#\n",
      "communites_and_crime[ 125 ] ==  float64\n",
      "#----------------------------------------------------------------------------------------------#\n",
      "communites_and_crime[ 126 ] ==  object\n",
      "#----------------------------------------------------------------------------------------------#\n",
      "communites_and_crime[ 127 ] ==  float64\n",
      "#----------------------------------------------------------------------------------------------#\n"
     ]
    }
   ],
   "source": [
    "#see the type of each training data\n",
    "for i in range(communites_and_crime.shape[1]):\n",
    "    print(\"communites_and_crime[\", communites_and_crime.columns[i],\"] == \",communites_and_crime.dtypes[i])\n",
    "    print(\"#----------------------------------------------------------------------------------------------#\")"
   ]
  },
  {
   "cell_type": "code",
   "execution_count": 6,
   "metadata": {},
   "outputs": [
    {
     "name": "stdout",
     "output_type": "stream",
     "text": [
      "household_power_consumption[ datetime ] ==  object\n",
      "#----------------------------------------------------------------------------------------------#\n",
      "household_power_consumption[ Global_active_power ] ==  float64\n",
      "#----------------------------------------------------------------------------------------------#\n",
      "household_power_consumption[ Global_reactive_power ] ==  float64\n",
      "#----------------------------------------------------------------------------------------------#\n",
      "household_power_consumption[ Voltage ] ==  float64\n",
      "#----------------------------------------------------------------------------------------------#\n",
      "household_power_consumption[ Global_intensity ] ==  float64\n",
      "#----------------------------------------------------------------------------------------------#\n",
      "household_power_consumption[ Sub_metering_1 ] ==  float64\n",
      "#----------------------------------------------------------------------------------------------#\n",
      "household_power_consumption[ Sub_metering_2 ] ==  float64\n",
      "#----------------------------------------------------------------------------------------------#\n",
      "household_power_consumption[ Sub_metering_3 ] ==  float64\n",
      "#----------------------------------------------------------------------------------------------#\n",
      "household_power_consumption[ sub_metering_4 ] ==  float64\n",
      "#----------------------------------------------------------------------------------------------#\n"
     ]
    }
   ],
   "source": [
    "#see the type of each training data\n",
    "for i in range(household_power_consumption.shape[1]):\n",
    "    print(\"household_power_consumption[\", household_power_consumption.columns[i],\"] == \",household_power_consumption.dtypes[i])\n",
    "    print(\"#----------------------------------------------------------------------------------------------#\")"
   ]
  },
  {
   "cell_type": "code",
   "execution_count": 7,
   "metadata": {},
   "outputs": [
    {
     "name": "stdout",
     "output_type": "stream",
     "text": [
      "                0     1     2           3            4            5    \\\n",
      "count   1994.000000  1994  1994        1994  1994.000000  1994.000000   \n",
      "unique          NaN   109   800        1828          NaN          NaN   \n",
      "top             NaN     ?     ?  Auburncity          NaN          NaN   \n",
      "freq            NaN  1174  1177           5          NaN          NaN   \n",
      "mean      28.683551   NaN   NaN         NaN     5.493982     0.057593   \n",
      "std       16.397553   NaN   NaN         NaN     2.873694     0.126906   \n",
      "min        1.000000   NaN   NaN         NaN     1.000000     0.000000   \n",
      "25%       12.000000   NaN   NaN         NaN     3.000000     0.010000   \n",
      "50%       34.000000   NaN   NaN         NaN     5.000000     0.020000   \n",
      "75%       42.000000   NaN   NaN         NaN     8.000000     0.050000   \n",
      "max       56.000000   NaN   NaN         NaN    10.000000     1.000000   \n",
      "\n",
      "                6            7            8            9    ...          118  \\\n",
      "count   1994.000000  1994.000000  1994.000000  1994.000000  ...  1994.000000   \n",
      "unique          NaN          NaN          NaN          NaN  ...          NaN   \n",
      "top             NaN          NaN          NaN          NaN  ...          NaN   \n",
      "freq            NaN          NaN          NaN          NaN  ...          NaN   \n",
      "mean       0.463395     0.179629     0.753716     0.153681  ...     0.065231   \n",
      "std        0.163717     0.253442     0.244039     0.208877  ...     0.109459   \n",
      "min        0.000000     0.000000     0.000000     0.000000  ...     0.000000   \n",
      "25%        0.350000     0.020000     0.630000     0.040000  ...     0.020000   \n",
      "50%        0.440000     0.060000     0.850000     0.070000  ...     0.040000   \n",
      "75%        0.540000     0.230000     0.940000     0.170000  ...     0.070000   \n",
      "max        1.000000     1.000000     1.000000     1.000000  ...     1.000000   \n",
      "\n",
      "                119          120   121   122   123   124          125   126  \\\n",
      "count   1994.000000  1994.000000  1994  1994  1994  1994  1994.000000  1994   \n",
      "unique          NaN          NaN    64    39    73     4          NaN    52   \n",
      "top             NaN          NaN     ?     ?     ?     ?          NaN     ?   \n",
      "freq            NaN          NaN  1675  1675  1675  1675          NaN  1675   \n",
      "mean       0.232854     0.161685   NaN   NaN   NaN   NaN     0.094052   NaN   \n",
      "std        0.203092     0.229055   NaN   NaN   NaN   NaN     0.240328   NaN   \n",
      "min        0.000000     0.000000   NaN   NaN   NaN   NaN     0.000000   NaN   \n",
      "25%        0.100000     0.020000   NaN   NaN   NaN   NaN     0.000000   NaN   \n",
      "50%        0.170000     0.070000   NaN   NaN   NaN   NaN     0.000000   NaN   \n",
      "75%        0.280000     0.190000   NaN   NaN   NaN   NaN     0.000000   NaN   \n",
      "max        1.000000     1.000000   NaN   NaN   NaN   NaN     1.000000   NaN   \n",
      "\n",
      "                127  \n",
      "count   1994.000000  \n",
      "unique          NaN  \n",
      "top             NaN  \n",
      "freq            NaN  \n",
      "mean       0.237979  \n",
      "std        0.232985  \n",
      "min        0.000000  \n",
      "25%        0.070000  \n",
      "50%        0.150000  \n",
      "75%        0.330000  \n",
      "max        1.000000  \n",
      "\n",
      "[11 rows x 128 columns]\n"
     ]
    }
   ],
   "source": [
    "#to see the statistique of the testing data\n",
    "print(communites_and_crime.describe(include=\"all\"))"
   ]
  },
  {
   "cell_type": "code",
   "execution_count": 8,
   "metadata": {},
   "outputs": [
    {
     "name": "stdout",
     "output_type": "stream",
     "text": [
      "                   datetime  Global_active_power  Global_reactive_power  \\\n",
      "count               2075259         2.075259e+06           2.075259e+06   \n",
      "unique              2075259                  NaN                    NaN   \n",
      "top     2009-08-12 02:05:00                  NaN                    NaN   \n",
      "freq                      1                  NaN                    NaN   \n",
      "mean                    NaN         1.089418e+00           1.236871e-01   \n",
      "std                     NaN         1.054678e+00           1.125933e-01   \n",
      "min                     NaN         7.600000e-02           0.000000e+00   \n",
      "25%                     NaN         3.080000e-01           4.800000e-02   \n",
      "50%                     NaN         6.020000e-01           1.000000e-01   \n",
      "75%                     NaN         1.526000e+00           1.940000e-01   \n",
      "max                     NaN         1.112200e+01           1.390000e+00   \n",
      "\n",
      "             Voltage  Global_intensity  Sub_metering_1  Sub_metering_2  \\\n",
      "count   2.075259e+06      2.075259e+06    2.075259e+06    2.075259e+06   \n",
      "unique           NaN               NaN             NaN             NaN   \n",
      "top              NaN               NaN             NaN             NaN   \n",
      "freq             NaN               NaN             NaN             NaN   \n",
      "mean    2.408364e+02      4.618401e+00    1.118474e+00    1.291131e+00   \n",
      "std     3.240051e+00      4.433165e+00    6.141460e+00    5.796922e+00   \n",
      "min     2.232000e+02      2.000000e-01    0.000000e+00    0.000000e+00   \n",
      "25%     2.389900e+02      1.400000e+00    0.000000e+00    0.000000e+00   \n",
      "50%     2.410000e+02      2.600000e+00    0.000000e+00    0.000000e+00   \n",
      "75%     2.428700e+02      6.400000e+00    0.000000e+00    1.000000e+00   \n",
      "max     2.541500e+02      4.840000e+01    8.800000e+01    8.000000e+01   \n",
      "\n",
      "        Sub_metering_3  sub_metering_4  \n",
      "count     2.075259e+06    2.075259e+06  \n",
      "unique             NaN             NaN  \n",
      "top                NaN             NaN  \n",
      "freq               NaN             NaN  \n",
      "mean      6.448635e+00    9.298722e+00  \n",
      "std       8.433584e+00    9.561278e+00  \n",
      "min       0.000000e+00   -2.400000e+00  \n",
      "25%       0.000000e+00    3.800000e+00  \n",
      "50%       1.000000e+00    5.500000e+00  \n",
      "75%       1.700000e+01    1.036667e+01  \n",
      "max       3.100000e+01    1.248333e+02  \n"
     ]
    }
   ],
   "source": [
    "#to see the statistique of the testing data\n",
    "print(household_power_consumption.describe(include=\"all\"))"
   ]
  },
  {
   "cell_type": "markdown",
   "metadata": {},
   "source": [
    "### Convert all columns to floats"
   ]
  },
  {
   "cell_type": "markdown",
   "metadata": {},
   "source": [
    "#### For Communities and Crime"
   ]
  },
  {
   "cell_type": "code",
   "execution_count": 9,
   "metadata": {},
   "outputs": [],
   "source": [
    "#we build the dictionnary that we will use for encoding the categoricial variable galaxy\n",
    "_categoricial=communites_and_crime[3].value_counts()\n",
    "dictionnary_for_encoding__categoricial={}\n",
    "i=0;\n",
    "for cle in _categoricial.keys() :\n",
    "    i=i+1\n",
    "    dictionnary_for_encoding__categoricial[cle]=i"
   ]
  },
  {
   "cell_type": "code",
   "execution_count": 10,
   "metadata": {},
   "outputs": [],
   "source": [
    "#We transforme the categorial variable galaxy in integer\n",
    "wassa=[]\n",
    "for i in range(communites_and_crime.shape[0]):\n",
    "    wassa.append(dictionnary_for_encoding__categoricial[communites_and_crime[3][i]])\n",
    "communites_and_crime[3]=wassa\n",
    "\n",
    "for i in communites_and_crime.columns:\n",
    "    communites_and_crime[i] = pd.to_numeric(communites_and_crime[i],errors='coerce')"
   ]
  },
  {
   "cell_type": "markdown",
   "metadata": {},
   "source": [
    "#### For household power consumption"
   ]
  },
  {
   "cell_type": "code",
   "execution_count": 16,
   "metadata": {},
   "outputs": [],
   "source": [
    "del household_power_consumption['datetime']"
   ]
  },
  {
   "cell_type": "markdown",
   "metadata": {},
   "source": [
    "### Replace the missing data by of columns by the means of this column"
   ]
  },
  {
   "cell_type": "code",
   "execution_count": 17,
   "metadata": {},
   "outputs": [],
   "source": [
    "#Here we replace all missing data by the median value or the next data\n",
    "communites_and_crime = communites_and_crime.fillna(communites_and_crime.median())"
   ]
  },
  {
   "cell_type": "code",
   "execution_count": 18,
   "metadata": {},
   "outputs": [],
   "source": [
    "#Here we replace all missing data by the median value or the next data\n",
    "household_power_consumption=household_power_consumption.fillna(household_power_consumption.median())"
   ]
  },
  {
   "cell_type": "markdown",
   "metadata": {},
   "source": [
    "## I USE THIS FUNCTION TO DETERMINATE THE EXECUTION TIME"
   ]
  },
  {
   "cell_type": "code",
   "execution_count": 19,
   "metadata": {},
   "outputs": [],
   "source": [
    "#https://www.kaggle.com/tilii7/hyperparameter-grid-search-with-xgboost\n",
    "def timer(start_time=None):\n",
    "    if not start_time:\n",
    "        start_time = datetime.now()\n",
    "        return start_time\n",
    "    elif start_time:\n",
    "        thour, temp_sec = divmod((datetime.now() - start_time).total_seconds(), 3600)\n",
    "        tmin, tsec = divmod(temp_sec, 60)\n",
    "        print('\\nTime taken: %i hours %i minutes and %s seconds.' % (thour, tmin, round(tsec, 2)))"
   ]
  },
  {
   "cell_type": "markdown",
   "metadata": {},
   "source": [
    "## The Optimimal Linear regressor Form for Communities and Crime"
   ]
  },
  {
   "cell_type": "code",
   "execution_count": 20,
   "metadata": {},
   "outputs": [],
   "source": [
    "communites_and_crime_X = communites_and_crime.drop([127], axis=1)\n",
    "communites_and_crime_Y = communites_and_crime[127]"
   ]
  },
  {
   "cell_type": "code",
   "execution_count": 21,
   "metadata": {},
   "outputs": [],
   "source": [
    "A_communities_and_crime  =  np.dot(communites_and_crime_X.values.T,communites_and_crime_X.values)\n",
    "B_communities_and_crime  = np.dot(communites_and_crime_X.values.T,communites_and_crime_Y.values)"
   ]
  },
  {
   "cell_type": "code",
   "execution_count": 22,
   "metadata": {},
   "outputs": [],
   "source": [
    "A_communities_and_crime = A_communities_and_crime + 0.5*np.eye(127)"
   ]
  },
  {
   "cell_type": "code",
   "execution_count": 23,
   "metadata": {},
   "outputs": [
    {
     "name": "stdout",
     "output_type": "stream",
     "text": [
      "\n",
      "Time taken: 0 hours 0 minutes and 0.0 seconds.\n"
     ]
    }
   ],
   "source": [
    "start_time = timer(None)\n",
    "W_communities_and_crime = np.linalg.solve(A_communities_and_crime, B_communities_and_crime)\n",
    "timer(start_time)"
   ]
  },
  {
   "cell_type": "code",
   "execution_count": 24,
   "metadata": {},
   "outputs": [
    {
     "name": "stdout",
     "output_type": "stream",
     "text": [
      "[-5.97534087e-04 -1.49880063e-04 -1.39275016e-07 -3.54718105e-06\n",
      " -1.56447750e-03  1.12799001e-02  3.14022828e-02  1.83399854e-01\n",
      " -3.31629824e-02 -1.65892917e-02  8.26573661e-02  9.30990696e-02\n",
      " -1.75859410e-01 -1.01105941e-01  9.10426193e-02 -5.43436828e-02\n",
      "  4.45897959e-02  5.25992216e-03 -9.42653460e-02  3.77708598e-02\n",
      " -1.24378236e-01  1.00178803e-01  2.08823746e-02 -6.54392630e-02\n",
      "  1.05317978e-01  3.17772585e-02 -2.15670471e-01 -2.80133831e-02\n",
      " -2.84994650e-02  2.37425797e-02  4.24112302e-02  2.95152435e-02\n",
      " -2.33890808e-02 -1.29288076e-01 -8.97359997e-02  6.78240757e-02\n",
      "  5.09669458e-02 -6.66569131e-03  2.20723260e-01 -5.92565181e-02\n",
      " -1.03280116e-02  7.59987435e-02  8.59136436e-02  2.22109909e-01\n",
      "  1.84852155e-01 -1.10219040e-01 -5.17795785e-02 -1.06299372e-02\n",
      " -5.06118166e-02 -1.72619165e-01 -2.96585036e-02 -3.78693518e-03\n",
      "  4.02769254e-02 -1.67412709e-01 -7.42921541e-02  1.52457957e-01\n",
      " -1.62913613e-01  2.36200624e-02 -1.33053789e-02 -3.14005937e-02\n",
      "  2.32303098e-02 -3.13428862e-02 -3.12787064e-02  1.01884456e-01\n",
      "  5.80166995e-03  2.71037526e-02 -1.30468383e-01 -7.77380654e-02\n",
      " -6.27424673e-02  2.95270085e-01 -9.11758209e-02 -4.90763362e-02\n",
      " -1.77511790e-01  1.45941714e-01  9.21868650e-02  2.62185838e-02\n",
      "  1.41774185e-01 -5.11603266e-02  6.30546889e-02  6.05673541e-02\n",
      " -5.98909289e-02  1.95899821e-03  3.87440382e-02 -1.15826703e-02\n",
      " -1.74831897e-01  3.18142034e-02  5.75235603e-02 -1.99013176e-01\n",
      "  1.38469658e-02 -1.95215800e-02  2.21837370e-01  5.78957577e-02\n",
      " -3.38717165e-02 -8.06031731e-02  1.19494429e-01  1.47142994e-01\n",
      "  1.17100178e-01  2.34316846e-02  2.10680871e-02  7.63123000e-03\n",
      "  7.22509326e-03  1.19893417e-01  1.78599703e-02  2.34091108e-01\n",
      "  1.29878251e-01 -6.60131821e-02 -1.39233369e-03  1.24832261e-01\n",
      "  2.14719005e-02 -8.57296848e-02  2.06152945e-02  5.10011175e-02\n",
      "  9.09704668e-02  8.47949326e-02 -2.24637537e-02 -3.24887377e-02\n",
      " -1.39110595e-02 -1.73031178e-02  3.93227304e-02  1.09509424e-02\n",
      " -4.11977044e-02  8.94349435e-02  1.26201331e-01  6.53715281e-03\n",
      "  2.84648354e-02  1.95137080e-03 -1.18008609e-01]\n"
     ]
    }
   ],
   "source": [
    "print(W_communities_and_crime)"
   ]
  },
  {
   "cell_type": "markdown",
   "metadata": {},
   "source": [
    "## The Optimimal Linear regressor Form for Individual household Electric Power Consumption"
   ]
  },
  {
   "cell_type": "code",
   "execution_count": 25,
   "metadata": {},
   "outputs": [],
   "source": [
    "household_power_consumption_X = household_power_consumption.drop([\"Global_active_power\"], axis=1)\n",
    "household_power_consumption_Y = household_power_consumption[\"Global_active_power\"]"
   ]
  },
  {
   "cell_type": "code",
   "execution_count": 26,
   "metadata": {},
   "outputs": [],
   "source": [
    "A_household_power_consumption  =  np.dot(household_power_consumption_X.values.T,household_power_consumption_X.values)\n",
    "B_household_power_consumption  = np.dot(household_power_consumption_X.values.T,household_power_consumption_Y.values)"
   ]
  },
  {
   "cell_type": "code",
   "execution_count": 27,
   "metadata": {},
   "outputs": [],
   "source": [
    "A_household_power_consumption = A_household_power_consumption + 0.5*np.eye(7)"
   ]
  },
  {
   "cell_type": "code",
   "execution_count": 28,
   "metadata": {},
   "outputs": [
    {
     "name": "stdout",
     "output_type": "stream",
     "text": [
      "\n",
      "Time taken: 0 hours 0 minutes and 0.0 seconds.\n"
     ]
    }
   ],
   "source": [
    "start_time = timer(None)\n",
    "W_household_power_consumption = np.linalg.solve(A_household_power_consumption, B_household_power_consumption)\n",
    "timer(start_time)"
   ]
  },
  {
   "cell_type": "code",
   "execution_count": 29,
   "metadata": {},
   "outputs": [
    {
     "name": "stdout",
     "output_type": "stream",
     "text": [
      "[-3.40895363e-07  3.29228908e-11  4.50806913e-07  5.99998847e-02\n",
      "  5.99998845e-02  5.99998896e-02  5.99998863e-02]\n"
     ]
    }
   ],
   "source": [
    "print(W_household_power_consumption)"
   ]
  },
  {
   "cell_type": "markdown",
   "metadata": {},
   "source": [
    "## SIMPLE GRADIENT ALGORITHM"
   ]
  },
  {
   "cell_type": "code",
   "execution_count": 30,
   "metadata": {},
   "outputs": [],
   "source": [
    "A_household_power_consumption  =  np.dot(household_power_consumption_X.values.T,household_power_consumption_X.values)\n",
    "B_household_power_consumption  = np.dot(household_power_consumption_X.values.T,household_power_consumption_Y.values)"
   ]
  },
  {
   "cell_type": "code",
   "execution_count": 31,
   "metadata": {},
   "outputs": [],
   "source": [
    "A_household_power_consumption = (2/household_power_consumption.shape[0])*A_household_power_consumption + 0.5*np.eye(7)\n",
    "B_household_power_consumption = (2/household_power_consumption.shape[0])*B_household_power_consumption"
   ]
  },
  {
   "cell_type": "code",
   "execution_count": 32,
   "metadata": {},
   "outputs": [],
   "source": [
    "spectral_decomposition = np.linalg.eig(A_household_power_consumption)"
   ]
  },
  {
   "cell_type": "code",
   "execution_count": 33,
   "metadata": {},
   "outputs": [],
   "source": [
    "L = np.max(spectral_decomposition[0])\n",
    "mu = np.min(spectral_decomposition[0])"
   ]
  },
  {
   "cell_type": "code",
   "execution_count": 36,
   "metadata": {},
   "outputs": [],
   "source": [
    "def gradient_compute(w_k, alpha):\n",
    "    \"\"\"This function compute the gradient for l2 loss\"\"\"\n",
    "    kkkkk = alpha*np.dot(A_household_power_consumption, w_k)+alpha*B_household_power_consumption\n",
    "    return kkkkk"
   ]
  },
  {
   "cell_type": "code",
   "execution_count": 37,
   "metadata": {},
   "outputs": [],
   "source": [
    "epsilon = 0.05\n",
    "# training error\n",
    "training_error = list()\n",
    "\n",
    "# weight initalization\n",
    "w = 1*np.ones(7)"
   ]
  },
  {
   "cell_type": "code",
   "execution_count": 38,
   "metadata": {},
   "outputs": [],
   "source": [
    "k = 0\n",
    "val_grad = np.linalg.norm(gradient_compute(w, alpha))\n",
    "while k < 1000000 and val_grad>epsilon:\n",
    "    w = w - gradient_compute(w, alpha)\n",
    "    val_grad = np.linalg.norm(gradient_compute(w, alpha))\n",
    "    training_error.append(val_grad)\n",
    "    #print(val_grad)\n",
    "    k+=1"
   ]
  },
  {
   "cell_type": "code",
   "execution_count": 39,
   "metadata": {},
   "outputs": [],
   "source": [
    "N = np.arange(len(training_error))"
   ]
  },
  {
   "cell_type": "code",
   "execution_count": 40,
   "metadata": {},
   "outputs": [
    {
     "data": {
      "image/png": "[encoded data removed]",
      "text/plain": [
       "<Figure size 720x720 with 1 Axes>"
      ]
     },
     "metadata": {
      "needs_background": "light"
     },
     "output_type": "display_data"
    }
   ],
   "source": [
    "plt.figure(figsize=(10,10))\n",
    "plt.plot(N,training_error, label=\"training_error\")\n",
    "plt.grid()\n",
    "\n",
    "plt.title(\"Training error Number iteration\")\n",
    "plt.xlabel('Number iteration')\n",
    "plt.ylabel('Training Error')\n",
    "plt.legend()\n",
    "#plt.savefig('trainingError.png')\n",
    "\n",
    "plt.show()"
   ]
  },
  {
   "cell_type": "code",
   "execution_count": null,
   "metadata": {},
   "outputs": [],
   "source": []
  },
  {
   "cell_type": "code",
   "execution_count": null,
   "metadata": {},
   "outputs": [],
   "source": []
  },
  {
   "cell_type": "code",
   "execution_count": null,
   "metadata": {},
   "outputs": [],
   "source": []
  },
  {
   "cell_type": "code",
   "execution_count": null,
   "metadata": {},
   "outputs": [],
   "source": []
  },
  {
   "cell_type": "code",
   "execution_count": null,
   "metadata": {},
   "outputs": [],
   "source": []
  },
  {
   "cell_type": "code",
   "execution_count": null,
   "metadata": {},
   "outputs": [],
   "source": []
  },
  {
   "cell_type": "code",
   "execution_count": null,
   "metadata": {},
   "outputs": [],
   "source": []
  }
 ],
 "metadata": {
  "kernelspec": {
   "display_name": "Python 3",
   "language": "python",
   "name": "python3"
  },
  "language_info": {
   "codemirror_mode": {
    "name": "ipython",
    "version": 3
   },
   "file_extension": ".py",
   "mimetype": "text/x-python",
   "name": "python",
   "nbconvert_exporter": "python",
   "pygments_lexer": "ipython3",
   "version": "3.7.3"
  }
 },
 "nbformat": 4,
 "nbformat_minor": 2
}
